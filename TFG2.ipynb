{
 "cells": [
  {
   "cell_type": "code",
   "execution_count": 17,
   "metadata": {},
   "outputs": [],
   "source": [
    "from crear_dataset import *\n",
    "from funcions_net import *\n",
    "import numpy as np\n",
    "import matplotlib.pyplot as plt\n",
    "import pyreadstat\n",
    "import pandas as pd\n",
    "from preprocessing import *"
   ]
  },
  {
   "cell_type": "code",
   "execution_count": 18,
   "metadata": {},
   "outputs": [
    {
     "name": "stdout",
     "output_type": "stream",
     "text": [
      "Creem diccionari\n"
     ]
    }
   ],
   "source": [
    "df, meta = pyreadstat.read_sav(\"CEJFEAjut2015Updated.sav\")\n",
    "\n",
    "df_variables = pd.read_csv(\"variables.csv\", sep=';')\n",
    "\n",
    "dict = create_dict(meta)\n",
    "\n",
    "print(\"Creem diccionari\")"
   ]
  },
  {
   "cell_type": "code",
   "execution_count": 19,
   "metadata": {},
   "outputs": [
    {
     "name": "stderr",
     "output_type": "stream",
     "text": [
      "c:\\Users\\jjf20\\OneDrive\\Documents\\Universitat\\TFG\\crear_dataset.py:61: SettingWithCopyWarning: \n",
      "A value is trying to be set on a copy of a slice from a DataFrame.\n",
      "Try using .loc[row_indexer,col_indexer] = value instead\n",
      "\n",
      "See the caveats in the documentation: https://pandas.pydata.org/pandas-docs/stable/user_guide/indexing.html#returning-a-view-versus-a-copy\n",
      "  df_final[dict[num]] = np.where(df[dict[num]] == 5, 1, 0)\n",
      "c:\\Users\\jjf20\\OneDrive\\Documents\\Universitat\\TFG\\crear_dataset.py:61: SettingWithCopyWarning: \n",
      "A value is trying to be set on a copy of a slice from a DataFrame.\n",
      "Try using .loc[row_indexer,col_indexer] = value instead\n",
      "\n",
      "See the caveats in the documentation: https://pandas.pydata.org/pandas-docs/stable/user_guide/indexing.html#returning-a-view-versus-a-copy\n",
      "  df_final[dict[num]] = np.where(df[dict[num]] == 5, 1, 0)\n"
     ]
    }
   ],
   "source": [
    "df = create_dataset(df, dict)"
   ]
  },
  {
   "cell_type": "code",
   "execution_count": 20,
   "metadata": {},
   "outputs": [
    {
     "name": "stdout",
     "output_type": "stream",
     "text": [
      "Mirem quants nans tenim a cada columna\n",
      "Columnes netejades\n"
     ]
    },
    {
     "name": "stderr",
     "output_type": "stream",
     "text": [
      "c:\\Users\\jjf20\\OneDrive\\Documents\\Universitat\\TFG\\preprocessing.py:73: FutureWarning: A value is trying to be set on a copy of a DataFrame or Series through chained assignment using an inplace method.\n",
      "The behavior will change in pandas 3.0. This inplace method will never work because the intermediate object on which we are setting values always behaves as a copy.\n",
      "\n",
      "For example, when doing 'df[col].method(value, inplace=True)', try using 'df.method({col: value}, inplace=True)' or df[col] = df[col].method(value) instead, to perform the operation inplace on the original object.\n",
      "\n",
      "\n",
      "  df_net[col].fillna(mitjana, inplace=True)\n",
      "c:\\Users\\jjf20\\OneDrive\\Documents\\Universitat\\TFG\\preprocessing.py:79: FutureWarning: A value is trying to be set on a copy of a DataFrame or Series through chained assignment using an inplace method.\n",
      "The behavior will change in pandas 3.0. This inplace method will never work because the intermediate object on which we are setting values always behaves as a copy.\n",
      "\n",
      "For example, when doing 'df[col].method(value, inplace=True)', try using 'df.method({col: value}, inplace=True)' or df[col] = df[col].method(value) instead, to perform the operation inplace on the original object.\n",
      "\n",
      "\n",
      "  df_net[col].fillna(moda, inplace=True)\n"
     ]
    }
   ],
   "source": [
    "print(\"Mirem quants nans tenim a cada columna\")\n",
    "netejat,df = neteja_na_columns(df, llindar=0.6)\n",
    "\n",
    "df = omple_nans(df)\n",
    "\n",
    "print(\"Columnes netejades\")\n",
    "## fem label encoding de les columnes categòriques\n",
    "df = label_encoding(df)\n"
   ]
  },
  {
   "cell_type": "code",
   "execution_count": 21,
   "metadata": {},
   "outputs": [
    {
     "name": "stdout",
     "output_type": "stream",
     "text": [
      "Hem netejat les columnes i hem fet label encoding\n",
      "Tenim  65  columnes\n"
     ]
    }
   ],
   "source": [
    "num_columnes = df.shape[1]\n",
    "print(\"Hem netejat les columnes i hem fet label encoding\")\n",
    "print(\"Tenim \", num_columnes, \" columnes\")"
   ]
  },
  {
   "cell_type": "code",
   "execution_count": 22,
   "metadata": {},
   "outputs": [
    {
     "name": "stdout",
     "output_type": "stream",
     "text": [
      "temps_fins_reincidencia1a    1.000000\n",
      "EdatAD                       0.496726\n",
      "SAVRYSoc                     0.421711\n",
      "Total_Del                    0.367928\n",
      "t_internamentCape            0.354630\n",
      "SAVRYTot                     0.352350\n",
      "CAPEe_PT                     0.318598\n",
      "SAVRYInd                     0.316342\n",
      "Pri_Exp                      0.290628\n",
      "YPI_RE                       0.281535\n",
      "YSRTotProb                   0.248039\n",
      "YSRGrupExtCAPEe              0.236594\n",
      "CAPEe_PT_3items              0.235529\n",
      "TRFMGrupExtCAPEe             0.232721\n",
      "ICUJ_CA                      0.231664\n",
      "TRFMGrupDSMCDConsCAPEe       0.223571\n",
      "YSRGrupDSMCDConsCAPEe        0.206910\n",
      "PCLj_PT                      0.205329\n",
      "VASTDir                      0.196074\n",
      "NSancGreu                    0.194125\n",
      "TRFTTotProb                  0.185848\n",
      "SD3Narc                      0.184098\n",
      "Niv_Esc                      0.180535\n",
      "CAPEo_PT                     0.180302\n",
      "TRFTGrupExtCAPEe             0.178311\n",
      "Name: temps_fins_reincidencia1a, dtype: float64\n"
     ]
    }
   ],
   "source": [
    "## mirem la correlació de les columnes amb la variable objectiu\n",
    "\n",
    "correlacio = df.corr()\n",
    "\n",
    "correlacio = abs(correlacio['temps_fins_reincidencia1a'])\n",
    "\n",
    "correlacio = correlacio.sort_values(ascending=False)\n",
    "\n",
    "print(correlacio[0:25])"
   ]
  },
  {
   "cell_type": "code",
   "execution_count": 23,
   "metadata": {},
   "outputs": [],
   "source": [
    "from sklearn.model_selection import train_test_split\n",
    "\n",
    "X_train, X_test, y_train, y_test = train_test_split(df.drop(columns='temps_fins_reincidencia1a'), df['temps_fins_reincidencia1a'], test_size=0.2)\n"
   ]
  },
  {
   "cell_type": "code",
   "execution_count": 24,
   "metadata": {},
   "outputs": [],
   "source": [
    "from sklearn.preprocessing import StandardScaler\n",
    "\n",
    "## normalitzem les dades\n",
    "scaler = StandardScaler()\n",
    "X_train = scaler.fit_transform(X_train)\n"
   ]
  },
  {
   "cell_type": "code",
   "execution_count": 25,
   "metadata": {},
   "outputs": [
    {
     "name": "stdout",
     "output_type": "stream",
     "text": [
      "Hem fet el model Lasso\n",
      "Hem trobat  26  coeficients nuls\n",
      "Hem trobat  38  coeficients no nuls\n",
      "Els coeficients no nuls són:\n",
      "EdatAD                    240.418538\n",
      "Niv_Esc                    29.066360\n",
      "NSancMGreu                  1.370320\n",
      "Total_Del                -137.730013\n",
      "Pri_Exp                   -51.810208\n",
      "PCLe20                    149.889558\n",
      "PCLe_PT                     5.162656\n",
      "PCLx_PT                   105.834108\n",
      "PCLj_PT                  -131.820781\n",
      "PCLYVMPT                   68.441334\n",
      "CAPEe_PT                 -172.281000\n",
      "DDTotal                    81.837141\n",
      "YSRTotProb                -80.174113\n",
      "VASTDir                   -22.892323\n",
      "SD3Mach                   -42.826069\n",
      "SD3Psyc                   -20.388852\n",
      "SD3Narc                  -121.645867\n",
      "SAVRYSoc                   -9.421499\n",
      "SAVRYInd                 -105.549945\n",
      "SAVRYTot                  -61.335555\n",
      "TriPMBold                -109.375998\n",
      "ICUJ_CA                   -84.883989\n",
      "CCA_PT                     85.536071\n",
      "YPI_DC                   -162.621086\n",
      "YPI_GR                     19.333631\n",
      "YPI_LY                    256.621977\n",
      "YPI_RE                    -94.246331\n",
      "YPI_UN                    119.636232\n",
      "YPI_TS                   -130.321701\n",
      "YPI_IM                    172.134814\n",
      "YPI_IR                    -93.390609\n",
      "ICUT_PT                    15.840306\n",
      "YSRGrupExtCAPEe          -108.473040\n",
      "TRFTGrupExtCAPEe          188.676553\n",
      "TRFMGrupExtCAPEe           14.170423\n",
      "YSRGrupDSMCDConsCAPEe      32.616054\n",
      "TRFTGrupDSMCDConsCAPEe     11.936926\n",
      "t_internamentCape         142.012545\n",
      "dtype: float64\n",
      "Els coeficients nuls són:\n",
      "NSancLleu                 0.0\n",
      "NSancGreu                -0.0\n",
      "PCLo_PT                   0.0\n",
      "CAPEo_PT                 -0.0\n",
      "CAPEo2_PT                -0.0\n",
      "TRFTTotProb               0.0\n",
      "VASTVic                   0.0\n",
      "VASTTotal                -0.0\n",
      "SAVRYHis                 -0.0\n",
      "TriPMMean                -0.0\n",
      "TriPMDisi                 0.0\n",
      "TriPMTotal               -0.0\n",
      "ICUJ_UC                   0.0\n",
      "ICUJ_UE                   0.0\n",
      "YPI_MA                   -0.0\n",
      "YPI_CA                    0.0\n",
      "YPI_PT                   -0.0\n",
      "YPI_GM                    0.0\n",
      "YPI_CU                    0.0\n",
      "YPI_II                   -0.0\n",
      "ICUJ_PT                  -0.0\n",
      "TRFMGrupDSMCDConsCAPEe    0.0\n",
      "CAPEe_PT_3items          -0.0\n",
      "Fet10_tipologia_JA        0.0\n",
      "Ant_Jo                    0.0\n",
      "Ant_Fa                    0.0\n",
      "dtype: float64\n"
     ]
    }
   ],
   "source": [
    "from sklearn.linear_model import Lasso\n",
    "\n",
    "\n",
    "lasso = Lasso(alpha=10)\n",
    "lasso.fit(X_train, y_train)\n",
    "\n",
    "## treim els coeficients que són 0\n",
    "coef = pd.Series(lasso.coef_, index = df.drop(columns='temps_fins_reincidencia1a').columns)\n",
    "print(\"Hem fet el model Lasso\")\n",
    "print(\"Hem trobat \", sum(coef == 0), \" coeficients nuls\")\n",
    "print(\"Hem trobat \", sum(coef != 0), \" coeficients no nuls\")\n",
    "## fem print dels que no són 0\n",
    "print(\"Els coeficients no nuls són:\")\n",
    "print(coef[coef != 0])\n",
    "## fem print dels coeficients nuls\n",
    "print(\"Els coeficients nuls són:\")\n",
    "print(coef[coef == 0])\n",
    "\n"
   ]
  },
  {
   "cell_type": "code",
   "execution_count": null,
   "metadata": {},
   "outputs": [
    {
     "name": "stdout",
     "output_type": "stream",
     "text": [
      "Els coeficients significatius són:\n",
      "Columnes restants després del filtratge:\n"
     ]
    }
   ],
   "source": [
    "# Definim un llindar per als coeficients\n",
    "llindar = 0.1  # Pots ajustar aquest valor segons les teves necessitats\n",
    "\n",
    "# Filtrar els coeficients que són significatius (absolut > llindar)\n",
    "coef_significatius = coef[abs(coef) > llindar]\n",
    "\n",
    "print(\"Els coeficients significatius són:\")\n",
    "\n",
    "# Eliminar les columnes amb coeficients baixos o nuls del DataFrame original\n",
    "X_train = pd.DataFrame(X_train, columns=df.drop(columns='temps_fins_reincidencia1a').columns)\n",
    "X_train_filtrat = X_train[coef_significatius.index]\n",
    "\n",
    "print(\"Columnes restants després del filtratge:\")\n",
    "    "
   ]
  },
  {
   "cell_type": "code",
   "execution_count": 27,
   "metadata": {},
   "outputs": [
    {
     "name": "stdout",
     "output_type": "stream",
     "text": [
      "Millor paràmetre: {'max_depth': 120, 'n_estimators': 100}\n",
      "Millor precisió: 133288.66595866665\n",
      "Mitjana dels resultats de test per cada combinació:\n",
      "148017.64782703703\n"
     ]
    }
   ],
   "source": [
    "from sklearn.ensemble import RandomForestRegressor\n",
    "from sklearn.model_selection import GridSearchCV\n",
    "\n",
    "## fem grid search per trobar els millors hiperparàmetres\n",
    "\n",
    "param_grid = {\n",
    "    'n_estimators': [20,50,100],\n",
    "    'max_depth': [120,180,250],\n",
    "}\n",
    "\n",
    "rf = RandomForestRegressor()\n",
    "\n",
    "grid_search = GridSearchCV(\n",
    "    rf, \n",
    "    param_grid, \n",
    "    cv=10, \n",
    "    scoring='neg_mean_squared_error', \n",
    "    return_train_score=True\n",
    ")\n",
    "\n",
    "# Realitzem el Grid Search\n",
    "grid_search.fit(X_train_filtrat, y_train)\n",
    "\n",
    "# Resultats\n",
    "print(\"Millor paràmetre:\", grid_search.best_params_)\n",
    "print(\"Millor precisió:\", -grid_search.best_score_)  # Negatiu perquè s'ha usat neg_mean_squared_error\n",
    "\n",
    "# Mostrem la mitjana dels resultats de test\n",
    "print(\"Mitjana dels resultats de test per cada combinació:\")\n",
    "print(np.mean(grid_search.cv_results_['mean_test_score'] * -1))  # Multipliquem per -1 per obtenir el MSE positiu\n",
    "\n",
    "best_model = grid_search.best_estimator_\n"
   ]
  },
  {
   "cell_type": "code",
   "execution_count": 28,
   "metadata": {},
   "outputs": [
    {
     "name": "stdout",
     "output_type": "stream",
     "text": [
      "\n",
      "--- AVALUACIÓ FINAL EN TEST ---\n",
      "MSE (Test): 362131.5112\n"
     ]
    },
    {
     "data": {
      "image/png": "[encoded data removed]",
      "text/plain": [
       "<Figure size 640x480 with 1 Axes>"
      ]
     },
     "metadata": {},
     "output_type": "display_data"
    }
   ],
   "source": [
    "from sklearn.metrics import mean_squared_error, r2_score\n",
    "\n",
    "X_test = scaler.transform(X_test)\n",
    "X_test_filtrat = pd.DataFrame(X_test, columns=df.drop(columns='temps_fins_reincidencia1a').columns)[coef_significatius.index]\n",
    "\n",
    "\n",
    "y_test_pred = best_model.predict(X_test_filtrat)\n",
    "\n",
    "# Calculem la mètrica MSE i R²\n",
    "test_mse = mean_squared_error(y_test, y_test_pred)\n",
    "\n",
    "print(\"\\n--- AVALUACIÓ FINAL EN TEST ---\")\n",
    "print(f\"MSE (Test): {test_mse:.4f}\")\n",
    "\n",
    "\n",
    "## plot de les prediccions\n",
    "plt.scatter(y_test, y_test_pred)\n",
    "plt.xlabel('Real')\n",
    "plt.ylabel('Predicció')\n",
    "plt.title('Predicció vs Real')\n",
    "plt.show()"
   ]
  },
  {
   "cell_type": "code",
   "execution_count": 29,
   "metadata": {},
   "outputs": [
    {
     "name": "stdout",
     "output_type": "stream",
     "text": [
      "Millors paràmetres trobats: {'C': 1000, 'epsilon': 10, 'kernel': 'linear'}\n",
      "Millor puntuació (MSE negatiu) en CV: -246111.57843181104\n",
      "382462.54287796933\n"
     ]
    }
   ],
   "source": [
    "from sklearn.svm import SVR\n",
    "\n",
    "\n",
    "param_grid = {\n",
    "    'kernel': ['linear', 'rbf'],\n",
    "    'C': [10, 100,1000],\n",
    "    'epsilon': [ 1,10],\n",
    "    # Per al kernel RBF, podries incloure 'svr__gamma'\n",
    "    # 'svr__gamma': ['scale', 'auto', 0.01, 0.1, 1]\n",
    "}\n",
    "svr = SVR()\n",
    "\n",
    "grid_search = GridSearchCV(\n",
    "    svr,\n",
    "    param_grid,\n",
    "    scoring='neg_mean_squared_error',\n",
    "    cv=10,\n",
    "    n_jobs=-1  # utilitza tots els nuclis disponibles per paral·lelitzar\n",
    ")\n",
    "\n",
    "grid_search.fit(X_train_filtrat, y_train)\n",
    "\n",
    "# 6. RESULTATS DE LA CERCA\n",
    "print(\"Millors paràmetres trobats:\", grid_search.best_params_)\n",
    "print(\"Millor puntuació (MSE negatiu) en CV:\", grid_search.best_score_)\n",
    "print(np.mean(grid_search.cv_results_['mean_test_score'] * -1))  # Multipliquem per -1 per obtenir el MSE positiu\n",
    "\n",
    "\n"
   ]
  },
  {
   "cell_type": "code",
   "execution_count": null,
   "metadata": {},
   "outputs": [],
   "source": []
  },
  {
   "cell_type": "code",
   "execution_count": 30,
   "metadata": {},
   "outputs": [
    {
     "name": "stdout",
     "output_type": "stream",
     "text": [
      "Millor paràmetre: {'n_estimators': 20, 'min_samples_split': 10, 'min_samples_leaf': 1, 'max_depth': 10, 'bootstrap': False}\n",
      "Millor precisió (MSE): 72338.89980528023\n",
      "Mitjana dels resultats de test per cada combinació:\n",
      "[340028.92890208 184581.26944206  93790.24599796  92690.68798622\n",
      " 151617.08997447 199005.88675907  87183.6726106  220733.20620561\n",
      " 144724.23609969  88184.92328082 103059.5881456  211362.57438338\n",
      " 221826.8600027  220746.86453894  81352.74528315  82010.05253821\n",
      "  94972.65241017 103993.01137032  86245.87652162 334931.15074883\n",
      " 149303.46902322 342176.48763071 137133.13069126 221827.93541416\n",
      " 332733.06742554 341468.17249372 174133.95855     86572.2061334\n",
      "  93153.62049461 143462.89769098  93150.71219591  72338.89980528\n",
      "  91908.10595344  94667.75974754  97872.92489718 162309.09219618\n",
      " 221830.38866879 221818.93046416 344091.63356562 139922.75666866\n",
      " 330706.11188318 221828.41913604 108133.66183819 190060.4958129\n",
      " 220733.20620561 221833.84051807 220725.03120561 140556.2582639\n",
      "  94446.13263397 153002.27227233]\n"
     ]
    }
   ],
   "source": [
    "from sklearn.ensemble import RandomForestRegressor\n",
    "from sklearn.model_selection import RandomizedSearchCV\n",
    "import numpy as np\n",
    "\n",
    "# Definim el grid de paràmetres\n",
    "param_distributions = {\n",
    "    'n_estimators': [20, 50, 100, 200, 300],\n",
    "    'max_depth': [10, 20 , 30],\n",
    "    'min_samples_split': [2, 5, 10],\n",
    "    'min_samples_leaf': [1, 2, 4],\n",
    "    'bootstrap': [True, False]\n",
    "}\n",
    "\n",
    "# Inicialitzem el model\n",
    "rf = RandomForestRegressor()\n",
    "\n",
    "# Configurem RandomizedSearchCV\n",
    "random_search = RandomizedSearchCV(\n",
    "    rf,\n",
    "    param_distributions=param_distributions,\n",
    "    n_iter=50,  # Nombre de combinacions a provar\n",
    "    cv=10,\n",
    "    scoring='neg_mean_squared_error',\n",
    "    return_train_score=True,\n",
    "    n_jobs=-1  # Utilitzar tots els nuclis disponibles\n",
    ")\n",
    "\n",
    "# Realitzem el Random Search\n",
    "random_search.fit(X_train_filtrat, y_train)\n",
    "\n",
    "# Resultats\n",
    "print(\"Millor paràmetre:\", random_search.best_params_)\n",
    "print(\"Millor precisió (MSE):\", -random_search.best_score_)  # Negatiu perquè s'ha usat neg_mean_squared_error\n",
    "\n",
    "# Mostrem la mitjana dels resultats de test\n",
    "print(\"Mitjana dels resultats de test per cada combinació:\")\n",
    "print(random_search.cv_results_['mean_test_score'] * -1)  # Multipliquem per -1 per obtenir el MSE positiu\n"
   ]
  },
  {
   "cell_type": "code",
   "execution_count": 31,
   "metadata": {},
   "outputs": [
    {
     "name": "stdout",
     "output_type": "stream",
     "text": [
      "Millor paràmetre: {'bootstrap': True, 'max_depth': 15, 'min_samples_split': 3, 'n_estimators': 10}\n",
      "Millor precisió (MSE): 117737.16651435825\n",
      "Mitjana dels resultats de test per cada combinació:\n",
      "[133470.41761223 194588.07902651 141275.29047538 197604.98477932\n",
      " 130313.14099985 163993.97853733 157837.28361116 160513.22799442\n",
      " 143907.94835421 121417.7606059  186151.18524513 135494.90921323\n",
      " 235307.19564674 235360.2826296  157720.26314131 200463.8066862\n",
      " 150279.59943919 138979.64541721 253979.43183889 149392.43104722\n",
      " 186884.61720617 117737.16651436 194145.59987351 142648.0904601\n",
      " 213058.14808758 173060.63149144 185171.95582491]\n"
     ]
    }
   ],
   "source": [
    "from sklearn.ensemble import RandomForestRegressor\n",
    "from sklearn.model_selection import GridSearchCV\n",
    "\n",
    "# Definim el grid de paràmetres al voltant dels millors valors trobats\n",
    "param_grid = {\n",
    "    'n_estimators': [10, 20, 30],           # Al voltant de 20\n",
    "    'max_depth': [5,10,15],              # Al voltant de 20\n",
    "    'min_samples_split': [2, 3, 4],         # Al voltant de 2\n",
    "    'bootstrap': [True]                     # Fixat perquè ja ha sortit el millor\n",
    "}\n",
    "\n",
    "# Inicialitzem el model\n",
    "rf = RandomForestRegressor()\n",
    "\n",
    "# Configurem GridSearchCV\n",
    "grid_search = GridSearchCV(\n",
    "    rf, \n",
    "    param_grid, \n",
    "    cv=10, \n",
    "    scoring='neg_mean_squared_error', \n",
    "    return_train_score=True,\n",
    "    n_jobs=-1  # Utilitza tots els nuclis disponibles\n",
    ")\n",
    "\n",
    "# Realitzem el Grid Search\n",
    "grid_search.fit(X_train_filtrat, y_train)\n",
    "\n",
    "# Resultats\n",
    "print(\"Millor paràmetre:\", grid_search.best_params_)\n",
    "print(\"Millor precisió (MSE):\", -grid_search.best_score_)  # Negatiu perquè s'ha usat neg_mean_squared_error\n",
    "\n",
    "# Mostrem la mitjana dels resultats de test\n",
    "print(\"Mitjana dels resultats de test per cada combinació:\")\n",
    "print(grid_search.cv_results_['mean_test_score'] * -1)  # Multipliquem per -1 per obtenir el MSE positiu\n"
   ]
  },
  {
   "cell_type": "code",
   "execution_count": 32,
   "metadata": {},
   "outputs": [
    {
     "name": "stdout",
     "output_type": "stream",
     "text": [
      "Millor paràmetre: {'max_depth': 40, 'n_estimators': 500}\n",
      "Millor precisió: 146826.09472237332\n",
      "Mitjana dels resultats de test per cada combinació:\n",
      "[146840.16463917 152703.65822781 147061.02460987 156504.84584037\n",
      " 156551.12816242 151265.88432822 151247.42829844 146826.09472237\n",
      " 147381.40796967 149930.07237437 152774.63532631 146860.94674468]\n"
     ]
    }
   ],
   "source": [
    "from sklearn.ensemble import RandomForestRegressor\n",
    "from sklearn.model_selection import GridSearchCV\n",
    "\n",
    "## fem grid search per trobar els millors hiperparàmetres\n",
    "\n",
    "param_grid = {\n",
    "    'n_estimators': [200,300,400,500],\n",
    "    'max_depth': [30,40,50],\n",
    "}\n",
    "\n",
    "rf = RandomForestRegressor()\n",
    "\n",
    "grid_search = GridSearchCV(\n",
    "    rf, \n",
    "    param_grid, \n",
    "    cv=10, \n",
    "    scoring='neg_mean_squared_error', \n",
    "    return_train_score=True\n",
    ")\n",
    "\n",
    "# Realitzem el Grid Search\n",
    "grid_search.fit(X_train, y_train)\n",
    "\n",
    "# Resultats\n",
    "print(\"Millor paràmetre:\", grid_search.best_params_)\n",
    "print(\"Millor precisió:\", -grid_search.best_score_)  # Negatiu perquè s'ha usat neg_mean_squared_error\n",
    "\n",
    "# Mostrem la mitjana dels resultats de test\n",
    "print(\"Mitjana dels resultats de test per cada combinació:\")\n",
    "print(grid_search.cv_results_['mean_test_score'] * -1)  # Multipliquem per -1 per obtenir el MSE positiu\n"
   ]
  },
  {
   "cell_type": "code",
   "execution_count": null,
   "metadata": {},
   "outputs": [],
   "source": []
  }
 ],
 "metadata": {
  "kernelspec": {
   "display_name": ".venv",
   "language": "python",
   "name": "python3"
  },
  "language_info": {
   "codemirror_mode": {
    "name": "ipython",
    "version": 3
   },
   "file_extension": ".py",
   "mimetype": "text/x-python",
   "name": "python",
   "nbconvert_exporter": "python",
   "pygments_lexer": "ipython3",
   "version": "3.12.9"
  }
 },
 "nbformat": 4,
 "nbformat_minor": 2
}
