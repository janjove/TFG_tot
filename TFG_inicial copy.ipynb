{
 "cells": [
  {
   "cell_type": "code",
   "execution_count": 12,
   "metadata": {},
   "outputs": [],
   "source": [
    "from crear_dataset import *\n",
    "from funcions_net import *\n",
    "import numpy as np\n",
    "import matplotlib.pyplot as plt\n",
    "import pyreadstat\n",
    "import pandas as pd\n",
    "from preprocessing import *\n",
    "from sklearn.model_selection import train_test_split\n",
    "from func_sel import *\n",
    "from funcions_net import *\n"
   ]
  },
  {
   "cell_type": "code",
   "execution_count": 13,
   "metadata": {},
   "outputs": [
    {
     "name": "stdout",
     "output_type": "stream",
     "text": [
      "Creant dataset inicial\n",
      "Creant dataset origen\n",
      "(72, 15)\n",
      "Creant dataset origen\n",
      "(72, 37)\n",
      "Delictes comesos\n",
      "(72, 15)\n",
      "Dataset final\n",
      "(72, 15)\n",
      "Dataset final\n",
      "(72, 53)\n"
     ]
    },
    {
     "name": "stderr",
     "output_type": "stream",
     "text": [
      "c:\\Users\\jjf20\\OneDrive\\Documents\\Universitat\\TFG\\crear_dataset.py:158: SettingWithCopyWarning: \n",
      "A value is trying to be set on a copy of a slice from a DataFrame.\n",
      "Try using .loc[row_indexer,col_indexer] = value instead\n",
      "\n",
      "See the caveats in the documentation: https://pandas.pydata.org/pandas-docs/stable/user_guide/indexing.html#returning-a-view-versus-a-copy\n",
      "  df_actual['Gitanos'] = np.where(df_anterior['Etnia'] ==1, 1, 0)\n",
      "c:\\Users\\jjf20\\OneDrive\\Documents\\Universitat\\TFG\\crear_dataset.py:159: SettingWithCopyWarning: \n",
      "A value is trying to be set on a copy of a slice from a DataFrame.\n",
      "Try using .loc[row_indexer,col_indexer] = value instead\n",
      "\n",
      "See the caveats in the documentation: https://pandas.pydata.org/pandas-docs/stable/user_guide/indexing.html#returning-a-view-versus-a-copy\n",
      "  df_actual['Magrebins'] = np.where(df_anterior['Etnia'] ==2, 1, 0)\n",
      "c:\\Users\\jjf20\\OneDrive\\Documents\\Universitat\\TFG\\crear_dataset.py:160: SettingWithCopyWarning: \n",
      "A value is trying to be set on a copy of a slice from a DataFrame.\n",
      "Try using .loc[row_indexer,col_indexer] = value instead\n",
      "\n",
      "See the caveats in the documentation: https://pandas.pydata.org/pandas-docs/stable/user_guide/indexing.html#returning-a-view-versus-a-copy\n",
      "  df_actual['Subsaharians'] = np.where(df_anterior['Etnia'] ==3, 1, 0)\n",
      "c:\\Users\\jjf20\\OneDrive\\Documents\\Universitat\\TFG\\crear_dataset.py:161: SettingWithCopyWarning: \n",
      "A value is trying to be set on a copy of a slice from a DataFrame.\n",
      "Try using .loc[row_indexer,col_indexer] = value instead\n",
      "\n",
      "See the caveats in the documentation: https://pandas.pydata.org/pandas-docs/stable/user_guide/indexing.html#returning-a-view-versus-a-copy\n",
      "  df_actual['Llatins'] = np.where(df_anterior['Etnia'] ==4, 1, 0)\n",
      "c:\\Users\\jjf20\\OneDrive\\Documents\\Universitat\\TFG\\crear_dataset.py:162: SettingWithCopyWarning: \n",
      "A value is trying to be set on a copy of a slice from a DataFrame.\n",
      "Try using .loc[row_indexer,col_indexer] = value instead\n",
      "\n",
      "See the caveats in the documentation: https://pandas.pydata.org/pandas-docs/stable/user_guide/indexing.html#returning-a-view-versus-a-copy\n",
      "  df_actual['Caucasics'] = np.where(df_anterior['Etnia'] ==5, 1, 0)\n",
      "c:\\Users\\jjf20\\OneDrive\\Documents\\Universitat\\TFG\\crear_dataset.py:163: SettingWithCopyWarning: \n",
      "A value is trying to be set on a copy of a slice from a DataFrame.\n",
      "Try using .loc[row_indexer,col_indexer] = value instead\n",
      "\n",
      "See the caveats in the documentation: https://pandas.pydata.org/pandas-docs/stable/user_guide/indexing.html#returning-a-view-versus-a-copy\n",
      "  df_actual['Asiatics'] = np.where(df_anterior['Etnia'] ==6, 1, 0)\n",
      "c:\\Users\\jjf20\\OneDrive\\Documents\\Universitat\\TFG\\crear_dataset.py:164: SettingWithCopyWarning: \n",
      "A value is trying to be set on a copy of a slice from a DataFrame.\n",
      "Try using .loc[row_indexer,col_indexer] = value instead\n",
      "\n",
      "See the caveats in the documentation: https://pandas.pydata.org/pandas-docs/stable/user_guide/indexing.html#returning-a-view-versus-a-copy\n",
      "  df_actual['Eslaus'] = np.where(df_anterior['Etnia'] ==7, 1, 0)\n",
      "c:\\Users\\jjf20\\OneDrive\\Documents\\Universitat\\TFG\\crear_dataset.py:166: SettingWithCopyWarning: \n",
      "A value is trying to be set on a copy of a slice from a DataFrame.\n",
      "Try using .loc[row_indexer,col_indexer] = value instead\n",
      "\n",
      "See the caveats in the documentation: https://pandas.pydata.org/pandas-docs/stable/user_guide/indexing.html#returning-a-view-versus-a-copy\n",
      "  df_actual['Espanya'] = np.where(df_anterior['nacionalitat_agrupat'] == 1, 1, 0)\n",
      "c:\\Users\\jjf20\\OneDrive\\Documents\\Universitat\\TFG\\crear_dataset.py:167: SettingWithCopyWarning: \n",
      "A value is trying to be set on a copy of a slice from a DataFrame.\n",
      "Try using .loc[row_indexer,col_indexer] = value instead\n",
      "\n",
      "See the caveats in the documentation: https://pandas.pydata.org/pandas-docs/stable/user_guide/indexing.html#returning-a-view-versus-a-copy\n",
      "  df_actual['Unio_Europea'] = np.where(df_anterior['nacionalitat_agrupat'] == 2, 1, 0)\n",
      "c:\\Users\\jjf20\\OneDrive\\Documents\\Universitat\\TFG\\crear_dataset.py:168: SettingWithCopyWarning: \n",
      "A value is trying to be set on a copy of a slice from a DataFrame.\n",
      "Try using .loc[row_indexer,col_indexer] = value instead\n",
      "\n",
      "See the caveats in the documentation: https://pandas.pydata.org/pandas-docs/stable/user_guide/indexing.html#returning-a-view-versus-a-copy\n",
      "  df_actual['Resta_Europa'] = np.where(df_anterior['nacionalitat_agrupat'] == 3, 1, 0)\n",
      "c:\\Users\\jjf20\\OneDrive\\Documents\\Universitat\\TFG\\crear_dataset.py:169: SettingWithCopyWarning: \n",
      "A value is trying to be set on a copy of a slice from a DataFrame.\n",
      "Try using .loc[row_indexer,col_indexer] = value instead\n",
      "\n",
      "See the caveats in the documentation: https://pandas.pydata.org/pandas-docs/stable/user_guide/indexing.html#returning-a-view-versus-a-copy\n",
      "  df_actual['Magreb'] = np.where(df_anterior['nacionalitat_agrupat'] == 4, 1, 0)\n",
      "c:\\Users\\jjf20\\OneDrive\\Documents\\Universitat\\TFG\\crear_dataset.py:170: SettingWithCopyWarning: \n",
      "A value is trying to be set on a copy of a slice from a DataFrame.\n",
      "Try using .loc[row_indexer,col_indexer] = value instead\n",
      "\n",
      "See the caveats in the documentation: https://pandas.pydata.org/pandas-docs/stable/user_guide/indexing.html#returning-a-view-versus-a-copy\n",
      "  df_actual['Resta_Africa'] = np.where(df_anterior['nacionalitat_agrupat'] == 5, 1, 0)\n",
      "c:\\Users\\jjf20\\OneDrive\\Documents\\Universitat\\TFG\\crear_dataset.py:171: SettingWithCopyWarning: \n",
      "A value is trying to be set on a copy of a slice from a DataFrame.\n",
      "Try using .loc[row_indexer,col_indexer] = value instead\n",
      "\n",
      "See the caveats in the documentation: https://pandas.pydata.org/pandas-docs/stable/user_guide/indexing.html#returning-a-view-versus-a-copy\n",
      "  df_actual['Centre_Sud_America'] = np.where(df_anterior['nacionalitat_agrupat'] == 6, 1, 0)\n",
      "c:\\Users\\jjf20\\OneDrive\\Documents\\Universitat\\TFG\\crear_dataset.py:172: SettingWithCopyWarning: \n",
      "A value is trying to be set on a copy of a slice from a DataFrame.\n",
      "Try using .loc[row_indexer,col_indexer] = value instead\n",
      "\n",
      "See the caveats in the documentation: https://pandas.pydata.org/pandas-docs/stable/user_guide/indexing.html#returning-a-view-versus-a-copy\n",
      "  df_actual['Asia'] = np.where(df_anterior['nacionalitat_agrupat'] == 7, 1, 0)\n",
      "c:\\Users\\jjf20\\OneDrive\\Documents\\Universitat\\TFG\\crear_dataset.py:173: SettingWithCopyWarning: \n",
      "A value is trying to be set on a copy of a slice from a DataFrame.\n",
      "Try using .loc[row_indexer,col_indexer] = value instead\n",
      "\n",
      "See the caveats in the documentation: https://pandas.pydata.org/pandas-docs/stable/user_guide/indexing.html#returning-a-view-versus-a-copy\n",
      "  df_actual['Resta_Mon'] = np.where(df_anterior['nacionalitat_agrupat'] == 8, 1, 0)\n",
      "c:\\Users\\jjf20\\OneDrive\\Documents\\Universitat\\TFG\\crear_dataset.py:174: SettingWithCopyWarning: \n",
      "A value is trying to be set on a copy of a slice from a DataFrame.\n",
      "Try using .loc[row_indexer,col_indexer] = value instead\n",
      "\n",
      "See the caveats in the documentation: https://pandas.pydata.org/pandas-docs/stable/user_guide/indexing.html#returning-a-view-versus-a-copy\n",
      "  df_actual['Nord_America'] = np.where(df_anterior['nacionalitat_agrupat'] == 9, 1, 0)\n",
      "c:\\Users\\jjf20\\OneDrive\\Documents\\Universitat\\TFG\\crear_dataset.py:176: SettingWithCopyWarning: \n",
      "A value is trying to be set on a copy of a slice from a DataFrame.\n",
      "Try using .loc[row_indexer,col_indexer] = value instead\n",
      "\n",
      "See the caveats in the documentation: https://pandas.pydata.org/pandas-docs/stable/user_guide/indexing.html#returning-a-view-versus-a-copy\n",
      "  df_actual['Pares_Catalans'] = np.where(df_anterior['OrgnFam'] == 1, 1, 0)\n",
      "c:\\Users\\jjf20\\OneDrive\\Documents\\Universitat\\TFG\\crear_dataset.py:177: SettingWithCopyWarning: \n",
      "A value is trying to be set on a copy of a slice from a DataFrame.\n",
      "Try using .loc[row_indexer,col_indexer] = value instead\n",
      "\n",
      "See the caveats in the documentation: https://pandas.pydata.org/pandas-docs/stable/user_guide/indexing.html#returning-a-view-versus-a-copy\n",
      "  df_actual['Pare_Catala_Altres_Espanya'] = np.where(df_anterior['OrgnFam'] == 2, 1, 0)\n",
      "c:\\Users\\jjf20\\OneDrive\\Documents\\Universitat\\TFG\\crear_dataset.py:178: SettingWithCopyWarning: \n",
      "A value is trying to be set on a copy of a slice from a DataFrame.\n",
      "Try using .loc[row_indexer,col_indexer] = value instead\n",
      "\n",
      "See the caveats in the documentation: https://pandas.pydata.org/pandas-docs/stable/user_guide/indexing.html#returning-a-view-versus-a-copy\n",
      "  df_actual['Pare_Catala_Fora_Espanya'] = np.where(df_anterior['OrgnFam'] == 3, 1, 0)\n",
      "c:\\Users\\jjf20\\OneDrive\\Documents\\Universitat\\TFG\\crear_dataset.py:179: SettingWithCopyWarning: \n",
      "A value is trying to be set on a copy of a slice from a DataFrame.\n",
      "Try using .loc[row_indexer,col_indexer] = value instead\n",
      "\n",
      "See the caveats in the documentation: https://pandas.pydata.org/pandas-docs/stable/user_guide/indexing.html#returning-a-view-versus-a-copy\n",
      "  df_actual['Pares_No_Catalans_Espanya'] = np.where(df_anterior['OrgnFam'] == 4, 1, 0)\n",
      "c:\\Users\\jjf20\\OneDrive\\Documents\\Universitat\\TFG\\crear_dataset.py:180: SettingWithCopyWarning: \n",
      "A value is trying to be set on a copy of a slice from a DataFrame.\n",
      "Try using .loc[row_indexer,col_indexer] = value instead\n",
      "\n",
      "See the caveats in the documentation: https://pandas.pydata.org/pandas-docs/stable/user_guide/indexing.html#returning-a-view-versus-a-copy\n",
      "  df_actual['Pares_No_Catalans_Un_Espanya'] = np.where(df_anterior['OrgnFam'] == 5, 1, 0)\n",
      "c:\\Users\\jjf20\\OneDrive\\Documents\\Universitat\\TFG\\crear_dataset.py:181: SettingWithCopyWarning: \n",
      "A value is trying to be set on a copy of a slice from a DataFrame.\n",
      "Try using .loc[row_indexer,col_indexer] = value instead\n",
      "\n",
      "See the caveats in the documentation: https://pandas.pydata.org/pandas-docs/stable/user_guide/indexing.html#returning-a-view-versus-a-copy\n",
      "  df_actual['Pares_Fora_Espanya'] = np.where(df_anterior['OrgnFam'] == 6, 1, 0)\n"
     ]
    }
   ],
   "source": [
    "\n",
    "df_orig, meta = pyreadstat.read_sav(\"CEJFEAjut2015Updated.sav\")\n",
    "\n",
    "df_variables = pd.read_csv(\"variables.csv\", sep=';')\n",
    "\n",
    "dict = create_dict(meta)\n",
    "\n",
    "df_inicial = dataset_inicial(df_orig, dict)\n",
    "\n",
    "df_inicial['temps_fins_reincidencia1a'] = df_inicial['temps_fins_reincidencia1a'].apply(lambda x: 1095 if x > 1095 else x)\n",
    "\n",
    "\n",
    "\n"
   ]
  },
  {
   "cell_type": "code",
   "execution_count": 14,
   "metadata": {},
   "outputs": [
    {
     "name": "stdout",
     "output_type": "stream",
     "text": [
      "Mirem quants nans tenim a cada columna\n",
      "Columnes netejades\n"
     ]
    },
    {
     "name": "stderr",
     "output_type": "stream",
     "text": [
      "c:\\Users\\jjf20\\OneDrive\\Documents\\Universitat\\TFG\\preprocessing.py:73: FutureWarning: A value is trying to be set on a copy of a DataFrame or Series through chained assignment using an inplace method.\n",
      "The behavior will change in pandas 3.0. This inplace method will never work because the intermediate object on which we are setting values always behaves as a copy.\n",
      "\n",
      "For example, when doing 'df[col].method(value, inplace=True)', try using 'df.method({col: value}, inplace=True)' or df[col] = df[col].method(value) instead, to perform the operation inplace on the original object.\n",
      "\n",
      "\n",
      "  df_net[col].fillna(mitjana, inplace=True)\n"
     ]
    }
   ],
   "source": [
    "print(\"Mirem quants nans tenim a cada columna\")\n",
    "netejat,df = neteja_na_columns(df_inicial, llindar=0.6)\n",
    "\n",
    "df = omple_nans(df)\n",
    "\n",
    "print(\"Columnes netejades\")\n",
    "## fem label encoding de les columnes categòriques\n",
    "df = label_encoding(df)\n"
   ]
  },
  {
   "cell_type": "code",
   "execution_count": 15,
   "metadata": {},
   "outputs": [
    {
     "name": "stdout",
     "output_type": "stream",
     "text": [
      "Hem netejat les columnes i hem fet label encoding\n",
      "Tenim  53  columnes\n"
     ]
    }
   ],
   "source": [
    "num_columnes = df.shape[1]\n",
    "print(\"Hem netejat les columnes i hem fet label encoding\")\n",
    "print(\"Tenim \", num_columnes, \" columnes\")"
   ]
  },
  {
   "cell_type": "code",
   "execution_count": 16,
   "metadata": {},
   "outputs": [],
   "source": [
    "X_train, X_test, y_train, y_test = train_test_split(df.drop(columns='temps_fins_reincidencia1a'), df['temps_fins_reincidencia1a'], test_size=0.2,random_state=42)\n"
   ]
  },
  {
   "cell_type": "code",
   "execution_count": 17,
   "metadata": {},
   "outputs": [],
   "source": [
    "from sklearn.preprocessing import StandardScaler\n",
    "\n",
    "scaler = StandardScaler()\n",
    "X_train = scaler.fit_transform(X_train)\n",
    "\n",
    "X_train = pd.DataFrame(X_train, columns=df.drop(columns='temps_fins_reincidencia1a').columns)"
   ]
  },
  {
   "cell_type": "code",
   "execution_count": 18,
   "metadata": {},
   "outputs": [
    {
     "name": "stdout",
     "output_type": "stream",
     "text": [
      "Hem fet el model Lasso\n",
      "Hem trobat  8  coeficients nuls\n",
      "Hem trobat  44  coeficients no nuls\n",
      "Els coeficients no nuls ordenats per valor absolut són:\n",
      "RAVEN_PD                     732.583436\n",
      "Total_Del                    463.706208\n",
      "RAVEN02                     -384.845573\n",
      "EdatAD                       370.956229\n",
      "Pri_Ing                     -274.903941\n",
      "RAVEN05                     -270.779430\n",
      "Nord_America                 262.540729\n",
      "Robatori                    -218.227467\n",
      "Robatori amb violència      -218.210547\n",
      "Lesions                     -203.960770\n",
      "RAVEN04                     -202.946473\n",
      "Magrebins                    198.585843\n",
      "Quebrantament de condemna   -189.943848\n",
      "Homicidi                    -188.708866\n",
      "Miscel·lània                -173.036925\n",
      "Magreb                      -161.673810\n",
      "RAVEN03                     -141.367950\n",
      "Caucasics                   -129.292143\n",
      "Administració de justícia   -124.537539\n",
      "Nom_Ing                     -117.888623\n",
      "dtype: float64\n"
     ]
    },
    {
     "name": "stderr",
     "output_type": "stream",
     "text": [
      "c:\\Users\\jjf20\\OneDrive\\Documents\\Universitat\\TFG\\.venv\\Lib\\site-packages\\sklearn\\linear_model\\_coordinate_descent.py:695: ConvergenceWarning: Objective did not converge. You might want to increase the number of iterations, check the scale of the features or consider increasing regularisation. Duality gap: 2.887e+05, tolerance: 4.958e+02\n",
      "  model = cd_fast.enet_coordinate_descent(\n"
     ]
    }
   ],
   "source": [
    "X_train_filtrat, coef_significatius = filter_significant_features(X_train,y_train, df, llindar=0.001,alpha=0.01, print_results=True)"
   ]
  },
  {
   "cell_type": "code",
   "execution_count": 19,
   "metadata": {},
   "outputs": [
    {
     "name": "stdout",
     "output_type": "stream",
     "text": [
      "Drogues                         11\n",
      "Robatori amb violència          16\n",
      "Robatori                        39\n",
      "Pares_No_Catalans_Un_Espanya    35\n",
      "Pares_No_Catalans_Espanya       42\n",
      "Pare_Catala_Fora_Espanya        23\n",
      "Pares_Catalans                  10\n",
      "Nord_America                    19\n",
      "Centre_Sud_America              40\n",
      "Resta_Africa                     7\n",
      "dtype: int64\n"
     ]
    }
   ],
   "source": [
    "## ensenyem els coef mes grans\n",
    "\n",
    "maxims = np.sort(abs(coef_significatius))[::-1]\n",
    "\n",
    "# Printem els índexs dels coeficients més grans\n",
    "index_maxims = np.argsort(abs(coef_significatius))[::-1]\n",
    "print(index_maxims[10:20])"
   ]
  },
  {
   "cell_type": "code",
   "execution_count": 20,
   "metadata": {},
   "outputs": [
    {
     "name": "stdout",
     "output_type": "stream",
     "text": [
      "Millor paràmetre: {'max_depth': 50, 'n_estimators': 100}\n",
      "Millor precisió: 98234.77841366666\n",
      "Mitjana dels resultats de test per cada combinació:\n",
      "100752.52225627407\n"
     ]
    }
   ],
   "source": [
    "from sklearn.ensemble import RandomForestRegressor\n",
    "from sklearn.model_selection import GridSearchCV\n",
    "\n",
    "## fem grid search per trobar els millors hiperparàmetres\n",
    "\n",
    "param_grid = {\n",
    "    'n_estimators': [100,250,500],\n",
    "    'max_depth': [30,40,50],\n",
    "}\n",
    "\n",
    "rf = RandomForestRegressor()\n",
    "\n",
    "grid_search = GridSearchCV(\n",
    "    rf, \n",
    "    param_grid, \n",
    "    cv=10, \n",
    "    scoring='neg_mean_squared_error', \n",
    "    return_train_score=True\n",
    ")\n",
    "\n",
    "# Realitzem el Grid Search\n",
    "grid_search.fit(X_train_filtrat, y_train)\n",
    "\n",
    "# Resultats\n",
    "print(\"Millor paràmetre:\", grid_search.best_params_)\n",
    "print(\"Millor precisió:\", -grid_search.best_score_)  # Negatiu perquè s'ha usat neg_mean_squared_error\n",
    "\n",
    "# Mostrem la mitjana dels resultats de test\n",
    "print(\"Mitjana dels resultats de test per cada combinació:\")\n",
    "print(np.mean(grid_search.cv_results_['mean_test_score'] * -1))  # Multipliquem per -1 per obtenir el MSE positiu\n",
    "\n",
    "best_model = grid_search.best_estimator_\n"
   ]
  },
  {
   "cell_type": "code",
   "execution_count": 21,
   "metadata": {},
   "outputs": [
    {
     "name": "stdout",
     "output_type": "stream",
     "text": [
      "Les 20 característiques més importants són:\n",
      "EdatAD: 0.1439\n",
      "Mesos_Internament: 0.1424\n",
      "Total_Del: 0.1383\n",
      "Nom_Exp: 0.1168\n",
      "RAVEN05: 0.0655\n",
      "RAVEN_PD: 0.0466\n",
      "RAVEN04: 0.0455\n",
      "Delictes molt violents: 0.0399\n",
      "RAVEN03: 0.0250\n",
      "Niv_Esc: 0.0219\n",
      "Pare_Catala_Fora_Espanya: 0.0193\n",
      "Seguretat de l'Estat: 0.0188\n",
      "Robatori amb violència: 0.0164\n",
      "Lesions: 0.0161\n",
      "Delictes patrimonials: 0.0137\n",
      "Pri_Ing: 0.0130\n",
      "Pri_Exp: 0.0122\n",
      "Nord_America: 0.0104\n",
      "Robatori: 0.0089\n",
      "Administració de justícia: 0.0082\n",
      "Subsaharians: 0.0081\n",
      "RAVEN02: 0.0066\n",
      "RAVEN_IQ: 0.0064\n",
      "Llatins: 0.0058\n",
      "Resta_Africa: 0.0056\n"
     ]
    }
   ],
   "source": [
    "# Obtenim la importància de cada característica\n",
    "coef_importants = best_model.feature_importances_\n",
    "\n",
    "# Obtenim els noms de les característiques (suposant que tenim un DataFrame 'df')\n",
    "feature_names = X_train_filtrat.columns  \n",
    "\n",
    "# Ordenem les característiques segons la seva importància (de major a menor)\n",
    "indices_ordenats = coef_importants.argsort()[::-1][0:25]\n",
    "\n",
    "# Mostrem els noms de les 20 característiques més importants amb la seva importància\n",
    "print(\"Les 20 característiques més importants són:\")\n",
    "for i in indices_ordenats:\n",
    "    print(f\"{feature_names[i]}: {coef_importants[i]:.4f}\")\n",
    "\n"
   ]
  },
  {
   "cell_type": "code",
   "execution_count": 22,
   "metadata": {},
   "outputs": [
    {
     "name": "stdout",
     "output_type": "stream",
     "text": [
      "\n",
      "--- AVALUACIÓ FINAL EN TEST ---\n",
      "MSE (Test): 17305.1201\n"
     ]
    },
    {
     "data": {
      "image/png": "[encoded data removed]",
      "text/plain": [
       "<Figure size 640x480 with 1 Axes>"
      ]
     },
     "metadata": {},
     "output_type": "display_data"
    }
   ],
   "source": [
    "from sklearn.metrics import mean_squared_error, r2_score, mean_absolute_error\n",
    "\n",
    "X_test = scaler.transform(X_test)\n",
    "X_test_filtrat = pd.DataFrame(X_test, columns=df.drop(columns='temps_fins_reincidencia1a').columns)[coef_significatius.index]\n",
    "\n",
    "\n",
    "y_test_pred = best_model.predict(X_test_filtrat)\n",
    "\n",
    "# Calculem la mètrica MSE i R²\n",
    "test_mse = mean_squared_error(y_test, y_test_pred)\n",
    "\n",
    "print(\"\\n--- AVALUACIÓ FINAL EN TEST ---\")\n",
    "print(f\"MSE (Test): {test_mse:.4f}\")\n",
    "\n",
    "\n",
    "## plot de les prediccions\n",
    "plt.scatter(y_test, y_test_pred)\n",
    "plt.xlabel('Real')\n",
    "plt.ylabel('Predicció')\n",
    "plt.title('Predicció vs Real')\n",
    "plt.show()"
   ]
  },
  {
   "cell_type": "code",
   "execution_count": null,
   "metadata": {},
   "outputs": [],
   "source": []
  },
  {
   "cell_type": "markdown",
   "metadata": {},
   "source": []
  }
 ],
 "metadata": {
  "kernelspec": {
   "display_name": ".venv",
   "language": "python",
   "name": "python3"
  },
  "language_info": {
   "codemirror_mode": {
    "name": "ipython",
    "version": 3
   },
   "file_extension": ".py",
   "mimetype": "text/x-python",
   "name": "python",
   "nbconvert_exporter": "python",
   "pygments_lexer": "ipython3",
   "version": "3.12.9"
  }
 },
 "nbformat": 4,
 "nbformat_minor": 2
}
