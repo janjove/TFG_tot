{
 "cells": [
  {
   "cell_type": "code",
   "execution_count": 1,
   "metadata": {},
   "outputs": [],
   "source": [
    "from crear_dataset import *\n",
    "from funcions_net import *\n",
    "import numpy as np\n",
    "import matplotlib.pyplot as plt\n",
    "import pyreadstat\n",
    "import pandas as pd\n",
    "from preprocessing import *\n",
    "from sklearn.model_selection import train_test_split\n",
    "from func_sel import *\n",
    "from funcions_net import *\n"
   ]
  },
  {
   "cell_type": "code",
   "execution_count": 2,
   "metadata": {},
   "outputs": [],
   "source": [
    "\n",
    "df_orig, meta = pyreadstat.read_sav(\"CEJFEAjut2015Updated.sav\")\n",
    "\n",
    "df_variables = pd.read_csv(\"variables.csv\", sep=';')\n",
    "\n",
    "dict = create_dict(meta)\n",
    "\n",
    "df = drop_all_columns(df_orig, meta, df_variables, dict)\n",
    "\n",
    "df = origen(df,df_orig)\n",
    "\n",
    "\n",
    "df['temps_fins_reincidencia1a'] = df['temps_fins_reincidencia1a'].apply(lambda x: 1095 if x > 1095 else x)\n"
   ]
  },
  {
   "cell_type": "code",
   "execution_count": 4,
   "metadata": {},
   "outputs": [
    {
     "data": {
      "image/png": "[encoded data removed]",
      "text/plain": [
       "<Figure size 1000x600 with 1 Axes>"
      ]
     },
     "metadata": {},
     "output_type": "display_data"
    }
   ],
   "source": [
    "# Aplicació del límit superior de 1095 dies\n",
    "df['temps_fins_reincidencia1a'] = df['temps_fins_reincidencia1a'].apply(lambda x: 1095 if x > 1095 else x)\n",
    "\n",
    "# Creació de l'histograma\n",
    "plt.figure(figsize=(10, 6))\n",
    "plt.hist(df['temps_fins_reincidencia1a'], bins=30, edgecolor='black')\n",
    "plt.title(\"Histograma de dies fins a la reincidència\")\n",
    "plt.xlabel(\"Dies fins a la reincidència\")\n",
    "plt.ylabel(\"Freqüència\")\n",
    "plt.grid(True)\n",
    "plt.show()"
   ]
  },
  {
   "cell_type": "code",
   "execution_count": null,
   "metadata": {},
   "outputs": [
    {
     "name": "stdout",
     "output_type": "stream",
     "text": [
      "Mirem quants nans tenim a cada columna\n",
      "Columnes netejades\n"
     ]
    },
    {
     "name": "stderr",
     "output_type": "stream",
     "text": [
      "c:\\Users\\jjf20\\OneDrive\\Documents\\Universitat\\TFG\\preprocessing.py:73: FutureWarning: A value is trying to be set on a copy of a DataFrame or Series through chained assignment using an inplace method.\n",
      "The behavior will change in pandas 3.0. This inplace method will never work because the intermediate object on which we are setting values always behaves as a copy.\n",
      "\n",
      "For example, when doing 'df[col].method(value, inplace=True)', try using 'df.method({col: value}, inplace=True)' or df[col] = df[col].method(value) instead, to perform the operation inplace on the original object.\n",
      "\n",
      "\n",
      "  df_net[col].fillna(mitjana, inplace=True)\n",
      "c:\\Users\\jjf20\\OneDrive\\Documents\\Universitat\\TFG\\preprocessing.py:79: FutureWarning: A value is trying to be set on a copy of a DataFrame or Series through chained assignment using an inplace method.\n",
      "The behavior will change in pandas 3.0. This inplace method will never work because the intermediate object on which we are setting values always behaves as a copy.\n",
      "\n",
      "For example, when doing 'df[col].method(value, inplace=True)', try using 'df.method({col: value}, inplace=True)' or df[col] = df[col].method(value) instead, to perform the operation inplace on the original object.\n",
      "\n",
      "\n",
      "  df_net[col].fillna(moda, inplace=True)\n"
     ]
    }
   ],
   "source": [
    "print(\"Mirem quants nans tenim a cada columna\")\n",
    "netejat,df = neteja_na_columns(df, llindar=0.6)\n",
    "\n",
    "df = omple_nans(df)\n",
    "\n",
    "print(\"Columnes netejades\")\n",
    "## fem label encoding de les columnes categòriques\n",
    "df = label_encoding(df)\n",
    "\n",
    "print(df)"
   ]
  },
  {
   "cell_type": "code",
   "execution_count": 4,
   "metadata": {},
   "outputs": [
    {
     "name": "stdout",
     "output_type": "stream",
     "text": [
      "Hem netejat les columnes i hem fet label encoding\n",
      "Tenim  441  columnes\n"
     ]
    }
   ],
   "source": [
    "num_columnes = df.shape[1]\n",
    "print(\"Hem netejat les columnes i hem fet label encoding\")\n",
    "print(\"Tenim \", num_columnes, \" columnes\")"
   ]
  },
  {
   "cell_type": "code",
   "execution_count": 5,
   "metadata": {},
   "outputs": [],
   "source": [
    "X_train, X_test, y_train, y_test = train_test_split(df.drop(columns='temps_fins_reincidencia1a'), df['temps_fins_reincidencia1a'], test_size=0.2,random_state=42)\n"
   ]
  },
  {
   "cell_type": "code",
   "execution_count": 6,
   "metadata": {},
   "outputs": [
    {
     "name": "stdout",
     "output_type": "stream",
     "text": [
      "Hem fet el model Lasso\n",
      "Hem trobat  245  coeficients nuls\n",
      "Hem trobat  195  coeficients no nuls\n",
      "Els coeficients no nuls són:\n",
      "EdatAD                      50.569196\n",
      "TempsResidencia              0.302755\n",
      "TempConeixTutor              1.775276\n",
      "TempConeixMestre            -0.226011\n",
      "NSancGreu                  -11.677583\n",
      "                              ...    \n",
      "nDelictesViolents           -3.250957\n",
      "t_lliure_1areincviolenta    -0.010028\n",
      "RPQ_HIGH_PA_RA               7.029627\n",
      "Magrebins                    0.142163\n",
      "Pares_Catalans              -1.063234\n",
      "Length: 195, dtype: float64\n",
      "Els coeficients nuls són:\n",
      "NSancLleu                       0.0\n",
      "Del_Sobre                      -0.0\n",
      "Pri_Ing                         0.0\n",
      "RAVENbarem                     -0.0\n",
      "RavenZ                         -0.0\n",
      "                               ... \n",
      "Pare_Catala_Altres_Espanya      0.0\n",
      "Pare_Catala_Fora_Espanya        0.0\n",
      "Pares_No_Catalans_Espanya      -0.0\n",
      "Pares_No_Catalans_Un_Espanya    0.0\n",
      "Pares_Fora_Espanya              0.0\n",
      "Length: 245, dtype: float64\n"
     ]
    },
    {
     "name": "stderr",
     "output_type": "stream",
     "text": [
      "c:\\Users\\jjf20\\OneDrive\\Documents\\Universitat\\TFG\\.venv\\Lib\\site-packages\\sklearn\\linear_model\\_coordinate_descent.py:695: ConvergenceWarning: Objective did not converge. You might want to increase the number of iterations, check the scale of the features or consider increasing regularisation. Duality gap: 6.911e+02, tolerance: 1.874e+02\n",
      "  model = cd_fast.enet_coordinate_descent(\n"
     ]
    }
   ],
   "source": [
    "X_train_filtrat, coef_significatius = filter_significant_features(X_train,y_train, df, llindar=0.01,alpha=0.01, print_results=True)"
   ]
  },
  {
   "cell_type": "code",
   "execution_count": 7,
   "metadata": {},
   "outputs": [
    {
     "name": "stdout",
     "output_type": "stream",
     "text": [
      "fets_sobresegut_definitiu_preCAPE     12\n",
      "fets_absolt_preCAPE                   65\n",
      "nombre_fets_previs                    97\n",
      "NsancionsMGreusAvalNostraFinal        85\n",
      "NsancionsMGreusIniciFinsAvalNostra    49\n",
      "NsancionsGreusAvalNostraFinal         70\n",
      "NsancionsGreusIniciFinsAvalNostra     95\n",
      "SANCGrMGr                             39\n",
      "YSRGrupDSMCDCAPEe                     47\n",
      "TRFTGrupDSMCDConsCAPEe                45\n",
      "dtype: int64\n"
     ]
    }
   ],
   "source": [
    "## ensenyem els coef mes grans\n",
    "\n",
    "maxims = np.sort(abs(coef_significatius))[::-1]\n",
    "\n",
    "# Printem els índexs dels coeficients més grans\n",
    "index_maxims = np.argsort(abs(coef_significatius))[::-1]\n",
    "print(index_maxims[10:20])"
   ]
  },
  {
   "cell_type": "code",
   "execution_count": 8,
   "metadata": {},
   "outputs": [
    {
     "name": "stdout",
     "output_type": "stream",
     "text": [
      "Millor paràmetre: {'max_depth': 50, 'n_estimators': 500}\n",
      "Millor precisió: 36888.23779252\n",
      "Mitjana dels resultats de test per cada combinació:\n",
      "37474.3910337437\n"
     ]
    }
   ],
   "source": [
    "from sklearn.ensemble import RandomForestRegressor\n",
    "from sklearn.model_selection import GridSearchCV\n",
    "\n",
    "## fem grid search per trobar els millors hiperparàmetres\n",
    "\n",
    "param_grid = {\n",
    "    'n_estimators': [100,250,500],\n",
    "    'max_depth': [30,50,75],\n",
    "}\n",
    "\n",
    "rf = RandomForestRegressor()\n",
    "\n",
    "grid_search = GridSearchCV(\n",
    "    rf, \n",
    "    param_grid, \n",
    "    cv=10, \n",
    "    scoring='neg_mean_squared_error', \n",
    "    return_train_score=True\n",
    ")\n",
    "\n",
    "# Realitzem el Grid Search\n",
    "grid_search.fit(X_train_filtrat, y_train)\n",
    "\n",
    "# Resultats\n",
    "print(\"Millor paràmetre:\", grid_search.best_params_)\n",
    "print(\"Millor precisió:\", -grid_search.best_score_)  # Negatiu perquè s'ha usat neg_mean_squared_error\n",
    "\n",
    "# Mostrem la mitjana dels resultats de test\n",
    "print(\"Mitjana dels resultats de test per cada combinació:\")\n",
    "print(np.mean(grid_search.cv_results_['mean_test_score'] * -1))  # Multipliquem per -1 per obtenir el MSE positiu\n",
    "\n",
    "best_model = grid_search.best_estimator_\n"
   ]
  },
  {
   "cell_type": "code",
   "execution_count": 9,
   "metadata": {},
   "outputs": [
    {
     "name": "stdout",
     "output_type": "stream",
     "text": [
      "Les 20 característiques més importants són:\n",
      "t_internamentCape: 0.0559\n",
      "nDelictesViolents: 0.0537\n",
      "YPI_LY: 0.0412\n",
      "CAPEe04: 0.0358\n",
      "PCLjFAC_3: 0.0348\n",
      "EdatAD: 0.0334\n",
      "Del_Condem: 0.0268\n",
      "TempConeixTutor: 0.0225\n",
      "SAVRY29: 0.0180\n",
      "TRFMTotProb: 0.0176\n",
      "NsancionsGreusAvalNostraFinal: 0.0175\n",
      "VASTDir: 0.0161\n",
      "PCLoFAC_3: 0.0156\n",
      "Total_Del: 0.0156\n",
      "SAVRYTot: 0.0152\n",
      "VAST12: 0.0151\n",
      "Nom_Exp: 0.0148\n",
      "DD02: 0.0147\n",
      "PCLo09: 0.0129\n",
      "RAVEN04: 0.0119\n",
      "TriPMTotal: 0.0111\n",
      "SAVRY01: 0.0104\n",
      "PCLo11: 0.0103\n",
      "SAVRYInd: 0.0101\n",
      "TriPMDisi: 0.0087\n"
     ]
    }
   ],
   "source": [
    "# Obtenim la importància de cada característica\n",
    "coef_importants = best_model.feature_importances_\n",
    "\n",
    "# Obtenim els noms de les característiques (suposant que tenim un DataFrame 'df')\n",
    "feature_names = X_train_filtrat.columns  \n",
    "\n",
    "# Ordenem les característiques segons la seva importància (de major a menor)\n",
    "indices_ordenats = coef_importants.argsort()[::-1][0:25]\n",
    "\n",
    "# Mostrem els noms de les 20 característiques més importants amb la seva importància\n",
    "print(\"Les 20 característiques més importants són:\")\n",
    "for i in indices_ordenats:\n",
    "    print(f\"{feature_names[i]}: {coef_importants[i]:.4f}\")\n",
    "\n"
   ]
  },
  {
   "cell_type": "code",
   "execution_count": 10,
   "metadata": {},
   "outputs": [
    {
     "name": "stdout",
     "output_type": "stream",
     "text": [
      "Les 20 característiques més importants són:\n",
      "TRFTDSMAnxProbT: 0.0086\n",
      "DD04: 0.0083\n",
      "DD07: 0.0080\n",
      "SD3Narc: 0.0079\n",
      "SAVRYSoc: 0.0078\n",
      "CCA_AG: 0.0076\n",
      "TempConeixMestre: 0.0073\n",
      "VAST02: 0.0072\n",
      "PCLYVMFAC_2: 0.0071\n",
      "TriPMBold: 0.0071\n",
      "TempsLlibertat: 0.0068\n",
      "PCLoFAC_1: 0.0068\n",
      "VAST01: 0.0068\n",
      "Edat1erDelicte: 0.0068\n",
      "fets_presumpte_preCAPE: 0.0064\n"
     ]
    }
   ],
   "source": [
    "# Obtenim la importància de cada característica\n",
    "coef_importants = best_model.feature_importances_\n",
    "\n",
    "# Obtenim els noms de les característiques (suposant que tenim un DataFrame 'df')\n",
    "feature_names = X_train_filtrat.columns  \n",
    "\n",
    "# Ordenem les característiques segons la seva importància (de major a menor)\n",
    "indices_ordenats = coef_importants.argsort()[::-1][25:40]\n",
    "\n",
    "# Mostrem els noms de les 20 característiques més importants amb la seva importància\n",
    "print(\"Les 20 característiques més importants són:\")\n",
    "for i in indices_ordenats:\n",
    "    print(f\"{feature_names[i]}: {coef_importants[i]:.4f}\")\n",
    "\n"
   ]
  },
  {
   "cell_type": "markdown",
   "metadata": {},
   "source": []
  }
 ],
 "metadata": {
  "kernelspec": {
   "display_name": ".venv",
   "language": "python",
   "name": "python3"
  },
  "language_info": {
   "codemirror_mode": {
    "name": "ipython",
    "version": 3
   },
   "file_extension": ".py",
   "mimetype": "text/x-python",
   "name": "python",
   "nbconvert_exporter": "python",
   "pygments_lexer": "ipython3",
   "version": "3.12.9"
  }
 },
 "nbformat": 4,
 "nbformat_minor": 2
}
