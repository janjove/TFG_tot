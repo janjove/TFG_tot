{
 "cells": [
  {
   "cell_type": "code",
   "execution_count": 23,
   "metadata": {},
   "outputs": [],
   "source": [
    "from crear_dataset import *\n",
    "from funcions_net import *\n",
    "import numpy as np\n",
    "import matplotlib.pyplot as plt\n",
    "import pyreadstat\n",
    "import pandas as pd\n",
    "from preprocessing import *"
   ]
  },
  {
   "cell_type": "code",
   "execution_count": 24,
   "metadata": {},
   "outputs": [
    {
     "name": "stdout",
     "output_type": "stream",
     "text": [
      "Creem diccionari\n"
     ]
    },
    {
     "name": "stderr",
     "output_type": "stream",
     "text": [
      "c:\\Users\\jjf20\\OneDrive\\Documents\\Universitat\\TFG\\crear_dataset.py:61: SettingWithCopyWarning: \n",
      "A value is trying to be set on a copy of a slice from a DataFrame.\n",
      "Try using .loc[row_indexer,col_indexer] = value instead\n",
      "\n",
      "See the caveats in the documentation: https://pandas.pydata.org/pandas-docs/stable/user_guide/indexing.html#returning-a-view-versus-a-copy\n",
      "  df_final[dict[num]] = np.where(df[dict[num]] == 5, 1, 0)\n",
      "c:\\Users\\jjf20\\OneDrive\\Documents\\Universitat\\TFG\\crear_dataset.py:61: SettingWithCopyWarning: \n",
      "A value is trying to be set on a copy of a slice from a DataFrame.\n",
      "Try using .loc[row_indexer,col_indexer] = value instead\n",
      "\n",
      "See the caveats in the documentation: https://pandas.pydata.org/pandas-docs/stable/user_guide/indexing.html#returning-a-view-versus-a-copy\n",
      "  df_final[dict[num]] = np.where(df[dict[num]] == 5, 1, 0)\n"
     ]
    }
   ],
   "source": [
    "df, meta = pyreadstat.read_sav(\"CEJFEAjut2015Updated.sav\")\n",
    "\n",
    "df_variables = pd.read_csv(\"variables.csv\", sep=';')\n",
    "\n",
    "dict = create_dict(meta)\n",
    "\n",
    "print(\"Creem diccionari\")\n",
    "\n",
    "##df = drop_all_columns(df, meta, df_variables, dict)\n",
    "\n",
    "df = create_dataset(df, dict)"
   ]
  },
  {
   "cell_type": "code",
   "execution_count": 25,
   "metadata": {},
   "outputs": [
    {
     "name": "stdout",
     "output_type": "stream",
     "text": [
      "Mirem quants nans tenim a cada columna\n",
      "Columnes netejades\n"
     ]
    },
    {
     "name": "stderr",
     "output_type": "stream",
     "text": [
      "c:\\Users\\jjf20\\OneDrive\\Documents\\Universitat\\TFG\\preprocessing.py:73: FutureWarning: A value is trying to be set on a copy of a DataFrame or Series through chained assignment using an inplace method.\n",
      "The behavior will change in pandas 3.0. This inplace method will never work because the intermediate object on which we are setting values always behaves as a copy.\n",
      "\n",
      "For example, when doing 'df[col].method(value, inplace=True)', try using 'df.method({col: value}, inplace=True)' or df[col] = df[col].method(value) instead, to perform the operation inplace on the original object.\n",
      "\n",
      "\n",
      "  df_net[col].fillna(mitjana, inplace=True)\n",
      "c:\\Users\\jjf20\\OneDrive\\Documents\\Universitat\\TFG\\preprocessing.py:79: FutureWarning: A value is trying to be set on a copy of a DataFrame or Series through chained assignment using an inplace method.\n",
      "The behavior will change in pandas 3.0. This inplace method will never work because the intermediate object on which we are setting values always behaves as a copy.\n",
      "\n",
      "For example, when doing 'df[col].method(value, inplace=True)', try using 'df.method({col: value}, inplace=True)' or df[col] = df[col].method(value) instead, to perform the operation inplace on the original object.\n",
      "\n",
      "\n",
      "  df_net[col].fillna(moda, inplace=True)\n"
     ]
    }
   ],
   "source": [
    "print(\"Mirem quants nans tenim a cada columna\")\n",
    "netejat,df = neteja_na_columns(df, llindar=0.6)\n",
    "\n",
    "df = omple_nans(df)\n",
    "\n",
    "print(\"Columnes netejades\")\n",
    "## fem label encoding de les columnes categòriques\n",
    "df = label_encoding(df)\n"
   ]
  },
  {
   "cell_type": "code",
   "execution_count": 26,
   "metadata": {},
   "outputs": [
    {
     "name": "stdout",
     "output_type": "stream",
     "text": [
      "Hem netejat les columnes i hem fet label encoding\n",
      "Tenim  65  columnes\n"
     ]
    }
   ],
   "source": [
    "num_columnes = df.shape[1]\n",
    "print(\"Hem netejat les columnes i hem fet label encoding\")\n",
    "print(\"Tenim \", num_columnes, \" columnes\")"
   ]
  },
  {
   "cell_type": "code",
   "execution_count": 27,
   "metadata": {},
   "outputs": [],
   "source": [
    "from sklearn.model_selection import train_test_split\n",
    "\n",
    "X_train, X_test, y_train, y_test = train_test_split(df.drop(columns='temps_fins_reincidencia1a'), df['temps_fins_reincidencia1a'], test_size=0.2)\n"
   ]
  },
  {
   "cell_type": "code",
   "execution_count": 28,
   "metadata": {},
   "outputs": [],
   "source": [
    "from sklearn.preprocessing import StandardScaler\n",
    "\n",
    "## normalitzem les dades\n",
    "scaler = StandardScaler()\n",
    "X_train = scaler.fit_transform(X_train)\n"
   ]
  },
  {
   "cell_type": "code",
   "execution_count": 29,
   "metadata": {},
   "outputs": [
    {
     "name": "stdout",
     "output_type": "stream",
     "text": [
      "Hem fet el model Lasso\n",
      "Hem trobat  13  coeficients nuls\n",
      "Hem trobat  51  coeficients no nuls\n",
      "Els coeficients no nuls són:\n",
      "EdatAD                    102.672439\n",
      "Niv_Esc                    77.198661\n",
      "NSancGreu                -194.387315\n",
      "NSancMGreu                224.323796\n",
      "Total_Del                -217.402336\n",
      "PCLe20                    323.505262\n",
      "PCLe_PT                  -267.401509\n",
      "PCLo_PT                   221.643615\n",
      "PCLx_PT                   -99.897603\n",
      "PCLj_PT                  -429.095835\n",
      "PCLYVMPT                  476.319851\n",
      "CAPEe_PT                 -788.288331\n",
      "CAPEo_PT                 -186.750590\n",
      "DDTotal                   432.333457\n",
      "YSRTotProb                -36.530091\n",
      "TRFTTotProb              -210.114571\n",
      "VASTVic                    40.184829\n",
      "VASTDir                   -27.539921\n",
      "SD3Mach                  -155.231450\n",
      "SD3Psyc                  -292.862329\n",
      "SD3Narc                   -20.337637\n",
      "SAVRYHis                 -106.326388\n",
      "SAVRYSoc                  347.173470\n",
      "SAVRYInd                 -210.565247\n",
      "TriPMBold                -302.964854\n",
      "TriPMMean                -145.763031\n",
      "TriPMTotal                -41.984661\n",
      "ICUJ_CA                   -86.854334\n",
      "ICUJ_UC                    78.765764\n",
      "ICUJ_UE                    35.045055\n",
      "CCA_PT                    146.455721\n",
      "YPI_GR                    -31.059220\n",
      "YPI_LY                     73.476719\n",
      "YPI_MA                     46.263023\n",
      "YPI_RE                     -9.957173\n",
      "YPI_UN                    249.571463\n",
      "YPI_CA                     39.965792\n",
      "YPI_TS                    -43.829283\n",
      "YPI_IM                    385.049496\n",
      "YPI_IR                   -156.833551\n",
      "ICUT_PT                    29.990229\n",
      "YSRGrupExtCAPEe          -704.002994\n",
      "TRFTGrupExtCAPEe          624.798134\n",
      "TRFMGrupExtCAPEe          275.914061\n",
      "YSRGrupDSMCDConsCAPEe     478.437969\n",
      "TRFTGrupDSMCDConsCAPEe   -377.633881\n",
      "TRFMGrupDSMCDConsCAPEe   -166.250708\n",
      "CAPEe_PT_3items           587.989583\n",
      "t_internamentCape         417.150436\n",
      "Fet10_tipologia_JA         41.781191\n",
      "Ant_Jo                     32.406381\n",
      "dtype: float64\n",
      "Els coeficients nuls són:\n",
      "NSancLleu    0.0\n",
      "Pri_Exp     -0.0\n",
      "CAPEo2_PT   -0.0\n",
      "VASTTotal    0.0\n",
      "SAVRYTot    -0.0\n",
      "TriPMDisi   -0.0\n",
      "YPI_DC       0.0\n",
      "YPI_PT       0.0\n",
      "YPI_GM       0.0\n",
      "YPI_CU       0.0\n",
      "YPI_II      -0.0\n",
      "ICUJ_PT      0.0\n",
      "Ant_Fa       0.0\n",
      "dtype: float64\n"
     ]
    },
    {
     "name": "stderr",
     "output_type": "stream",
     "text": [
      "c:\\Users\\jjf20\\OneDrive\\Documents\\Universitat\\TFG\\.venv\\Lib\\site-packages\\sklearn\\linear_model\\_coordinate_descent.py:695: ConvergenceWarning: Objective did not converge. You might want to increase the number of iterations, check the scale of the features or consider increasing regularisation. Duality gap: 4.118e+04, tolerance: 1.762e+03\n",
      "  model = cd_fast.enet_coordinate_descent(\n"
     ]
    }
   ],
   "source": [
    "from sklearn.linear_model import Lasso\n",
    "\n",
    "\n",
    "lasso = Lasso(alpha=1)\n",
    "lasso.fit(X_train, y_train)\n",
    "\n",
    "## treim els coeficients que són 0\n",
    "coef = pd.Series(lasso.coef_, index = df.drop(columns='temps_fins_reincidencia1a').columns)\n",
    "print(\"Hem fet el model Lasso\")\n",
    "print(\"Hem trobat \", sum(coef == 0), \" coeficients nuls\")\n",
    "print(\"Hem trobat \", sum(coef != 0), \" coeficients no nuls\")\n",
    "## fem print dels que no són 0\n",
    "print(\"Els coeficients no nuls són:\")\n",
    "print(coef[coef != 0])\n",
    "## fem print dels coeficients nuls\n",
    "print(\"Els coeficients nuls són:\")\n",
    "print(coef[coef == 0])\n",
    "\n"
   ]
  },
  {
   "cell_type": "code",
   "execution_count": 30,
   "metadata": {},
   "outputs": [
    {
     "name": "stdout",
     "output_type": "stream",
     "text": [
      "Els coeficients significatius són:\n",
      "Columnes restants després del filtratge:\n"
     ]
    }
   ],
   "source": [
    "# Definim un llindar per als coeficients\n",
    "llindar = 0.05  # Pots ajustar aquest valor segons les teves necessitats\n",
    "\n",
    "# Filtrar els coeficients que són significatius (absolut > llindar)\n",
    "coef_significatius = coef[abs(coef) > llindar]\n",
    "\n",
    "print(\"Els coeficients significatius són:\")\n",
    "\n",
    "# Eliminar les columnes amb coeficients baixos o nuls del DataFrame original\n",
    "X_train = pd.DataFrame(X_train, columns=df.drop(columns='temps_fins_reincidencia1a').columns)\n",
    "X_train_filtrat = X_train[coef_significatius.index]\n",
    "\n",
    "print(\"Columnes restants després del filtratge:\")\n",
    "    "
   ]
  },
  {
   "cell_type": "code",
   "execution_count": 31,
   "metadata": {},
   "outputs": [
    {
     "name": "stdout",
     "output_type": "stream",
     "text": [
      "Millor paràmetre: {'max_depth': 180, 'n_estimators': 20}\n",
      "Millor precisió: 247854.12910833335\n",
      "Mitjana dels resultats de test per cada combinació:\n",
      "277738.10933629633\n"
     ]
    }
   ],
   "source": [
    "from sklearn.ensemble import RandomForestRegressor\n",
    "from sklearn.model_selection import GridSearchCV\n",
    "\n",
    "## fem grid search per trobar els millors hiperparàmetres\n",
    "\n",
    "param_grid = {\n",
    "    'n_estimators': [20,50,100],\n",
    "    'max_depth': [120,180,250],\n",
    "}\n",
    "\n",
    "rf = RandomForestRegressor()\n",
    "\n",
    "grid_search = GridSearchCV(\n",
    "    rf, \n",
    "    param_grid, \n",
    "    cv=10, \n",
    "    scoring='neg_mean_squared_error', \n",
    "    return_train_score=True\n",
    ")\n",
    "\n",
    "# Realitzem el Grid Search\n",
    "grid_search.fit(X_train_filtrat, y_train)\n",
    "\n",
    "# Resultats\n",
    "print(\"Millor paràmetre:\", grid_search.best_params_)\n",
    "print(\"Millor precisió:\", -grid_search.best_score_)  # Negatiu perquè s'ha usat neg_mean_squared_error\n",
    "\n",
    "# Mostrem la mitjana dels resultats de test\n",
    "print(\"Mitjana dels resultats de test per cada combinació:\")\n",
    "print(np.mean(grid_search.cv_results_['mean_test_score'] * -1))  # Multipliquem per -1 per obtenir el MSE positiu\n",
    "\n",
    "best_model = grid_search.best_estimator_\n"
   ]
  },
  {
   "cell_type": "code",
   "execution_count": 32,
   "metadata": {},
   "outputs": [
    {
     "name": "stdout",
     "output_type": "stream",
     "text": [
      "\n",
      "--- AVALUACIÓ FINAL EN TEST ---\n",
      "MSE (Test): 162856.7843\n"
     ]
    },
    {
     "data": {
      "image/png": "[encoded data removed]",
      "text/plain": [
       "<Figure size 640x480 with 1 Axes>"
      ]
     },
     "metadata": {},
     "output_type": "display_data"
    }
   ],
   "source": [
    "from sklearn.metrics import mean_squared_error, r2_score\n",
    "\n",
    "X_test = scaler.transform(X_test)\n",
    "X_test_filtrat = pd.DataFrame(X_test, columns=df.drop(columns='temps_fins_reincidencia1a').columns)[coef_significatius.index]\n",
    "\n",
    "\n",
    "y_test_pred = best_model.predict(X_test_filtrat)\n",
    "\n",
    "# Calculem la mètrica MSE i R²\n",
    "test_mse = mean_squared_error(y_test, y_test_pred)\n",
    "\n",
    "print(\"\\n--- AVALUACIÓ FINAL EN TEST ---\")\n",
    "print(f\"MSE (Test): {test_mse:.4f}\")\n",
    "\n",
    "\n",
    "## plot de les prediccions\n",
    "plt.scatter(y_test, y_test_pred)\n",
    "plt.xlabel('Real')\n",
    "plt.ylabel('Predicció')\n",
    "plt.title('Predicció vs Real')\n",
    "plt.show()"
   ]
  },
  {
   "cell_type": "code",
   "execution_count": null,
   "metadata": {},
   "outputs": [],
   "source": []
  },
  {
   "cell_type": "code",
   "execution_count": null,
   "metadata": {},
   "outputs": [],
   "source": []
  }
 ],
 "metadata": {
  "kernelspec": {
   "display_name": ".venv",
   "language": "python",
   "name": "python3"
  },
  "language_info": {
   "codemirror_mode": {
    "name": "ipython",
    "version": 3
   },
   "file_extension": ".py",
   "mimetype": "text/x-python",
   "name": "python",
   "nbconvert_exporter": "python",
   "pygments_lexer": "ipython3",
   "version": "3.12.9"
  }
 },
 "nbformat": 4,
 "nbformat_minor": 2
}
