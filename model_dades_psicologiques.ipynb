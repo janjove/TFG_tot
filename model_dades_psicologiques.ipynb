{
 "cells": [
  {
   "cell_type": "code",
   "execution_count": 4,
   "metadata": {},
   "outputs": [],
   "source": [
    "from crear_dataset import *\n",
    "from funcions_net import *\n",
    "import numpy as np\n",
    "import matplotlib.pyplot as plt\n",
    "import pandas as pd\n",
    "import pyreadstat\n",
    "from preprocessing import *\n",
    "from sklearn.model_selection import train_test_split\n"
   ]
  },
  {
   "cell_type": "code",
   "execution_count": null,
   "metadata": {},
   "outputs": [],
   "source": [
    "df_orig, meta = pyreadstat.read_sav(\"CEJFEAjut2015Updated.sav\")\n",
    "\n",
    "df_variables = pd.read_csv(\"variables.csv\", sep=';')\n",
    "\n",
    "\n",
    "dict = create_dict(meta)\n",
    "\n"
   ]
  },
  {
   "cell_type": "code",
   "execution_count": 17,
   "metadata": {},
   "outputs": [
    {
     "name": "stdout",
     "output_type": "stream",
     "text": [
      "Variables disponibles:\n",
      "      Numero     Camp Que és     Utilitat Comentaris extres\n",
      "0          1  Generic    CAS  IRRELLEVANT               NaN\n",
      "1          2  Generic  Educa  IRRELLEVANT               NaN\n",
      "2          3  Generic   Sexe  IRRELLEVANT               NaN\n",
      "3          4  Generic   Data  IRRELLEVANT               NaN\n",
      "4          5  Generic   Edat  IRRELLEVANT               NaN\n",
      "...      ...      ...    ...          ...               ...\n",
      "1818    1819      NaN    NaN          NaN               NaN\n",
      "1819    1820      NaN    NaN          NaN               NaN\n",
      "1820    1821      NaN    NaN          NaN               NaN\n",
      "1821    1822      NaN    NaN          NaN               NaN\n",
      "1822    1823      NaN    NaN          NaN               NaN\n",
      "\n",
      "[1823 rows x 5 columns]\n"
     ]
    }
   ],
   "source": [
    "print(\"Variables disponibles:\")\n",
    "print(df_variables)"
   ]
  },
  {
   "cell_type": "code",
   "execution_count": 22,
   "metadata": {},
   "outputs": [
    {
     "name": "stdout",
     "output_type": "stream",
     "text": [
      "Category Counts:\n",
      " YSR           181\n",
      "TRFM          177\n",
      "TRFT          177\n",
      "FET           152\n",
      "TriPM          87\n",
      "ICUJ           79\n",
      "YPI            75\n",
      "GEN            48\n",
      "Delitctes      48\n",
      "SAVRY          44\n",
      "SD3            43\n",
      "CCA            40\n",
      "PCLYVM         35\n",
      "ICUT           31\n",
      "PCLe           30\n",
      "RPQ            29\n",
      "DD             27\n",
      "PCLo           26\n",
      "PCLx           25\n",
      "PCLj           25\n",
      "TRFT DMS       24\n",
      "VAST           23\n",
      "INT            17\n",
      "Generic        17\n",
      "Sanc           16\n",
      "Test IQ        13\n",
      "CAPe            9\n",
      "REIN            9\n",
      "incognita       9\n",
      "CAPo            8\n",
      "FETS            7\n",
      "YPI SpN         6\n",
      "Vast            6\n",
      "PCLe3           5\n",
      "INGRES          4\n",
      "GET             4\n",
      "Sancions        3\n",
      "SANC            3\n",
      "CAP             3\n",
      "Entrevista      2\n",
      "SUPER           1\n",
      "SD5             1\n",
      "SD4             1\n",
      "Name: count, dtype: int64\n",
      "Mode of 'Camp': YSR\n"
     ]
    }
   ],
   "source": [
    "## fes una array amb tots els valors de la columna camp\n",
    "\n",
    "camp_array = df_variables['Camp'].values\n",
    "# Count occurrences of each category\n",
    "camp_counts = pd.Series(camp_array).value_counts()\n",
    "\n",
    "# Get the most frequent category (mode)\n",
    "camp_mode = camp_counts.idxmax()\n",
    "\n",
    "print(\"Category Counts:\\n\", camp_counts)\n",
    "print(\"Mode of 'Camp':\", camp_mode)"
   ]
  }
 ],
 "metadata": {
  "kernelspec": {
   "display_name": ".venv",
   "language": "python",
   "name": "python3"
  },
  "language_info": {
   "codemirror_mode": {
    "name": "ipython",
    "version": 3
   },
   "file_extension": ".py",
   "mimetype": "text/x-python",
   "name": "python",
   "nbconvert_exporter": "python",
   "pygments_lexer": "ipython3",
   "version": "3.12.9"
  }
 },
 "nbformat": 4,
 "nbformat_minor": 2
}
