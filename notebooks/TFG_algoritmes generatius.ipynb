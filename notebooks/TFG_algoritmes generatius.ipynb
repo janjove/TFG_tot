{
 "cells": [
  {
   "cell_type": "code",
   "execution_count": 4,
   "metadata": {},
   "outputs": [],
   "source": [
    "from crear_dataset import *\n",
    "from funcions_net import *\n",
    "import numpy as np\n",
    "import matplotlib.pyplot as plt\n",
    "import pyreadstat\n",
    "import pandas as pd\n",
    "from preprocessing import *\n",
    "from sklearn.model_selection import train_test_split\n",
    "from func_sel import *\n",
    "from funcions_net import *\n"
   ]
  },
  {
   "cell_type": "code",
   "execution_count": 5,
   "metadata": {},
   "outputs": [
    {
     "name": "stdout",
     "output_type": "stream",
     "text": [
      "[73, 74, 75, 76, 77, 78, 79, 80, 81, 82, 83, 84, 85, 86, 87, 88, 89, 90, 91, 92, 93, 94, 95, 96, 97, 98, 99, 100, 101, 102, 103, 104, 105, 106, 107, 108, 109, 110, 111, 112, 113, 114, 115, 116, 117, 118, 119, 120, 121, 122, 123, 124, 125, 126, 127, 128, 129, 130, 131, 132, 133, 134, 135, 136, 137, 138, 139, 140, 141, 142, 143, 144, 145, 146, 147, 148, 149, 150, 151, 152, 153, 154, 155, 156, 157, 160, 161, 162, 163, 164, 165, 166, 167, 168, 169, 170, 171, 172, 173, 174, 175, 176, 177, 178, 179, 180, 181, 182, 183, 184, 185, 186, 187, 188, 189, 190, 191, 192, 193, 194, 195, 196, 197, 198, 199, 200, 201, 202, 203, 204, 205, 206, 207, 208, 209, 210, 211, 212, 213, 214, 215, 216, 217, 218, 219, 220, 221, 222, 223, 224, 225, 226, 227, 228, 229, 230, 231, 232, 233, 234, 235, 236, 237, 238, 239, 240, 241, 242, 243, 244, 245, 246, 247, 248, 249, 250, 251, 252, 253, 254, 255, 256, 257, 258, 259, 260, 261, 262, 263, 264, 265, 266, 267, 268, 269, 270, 271, 272, 273, 274, 275, 276, 277, 278, 279, 280, 281, 282, 283, 284, 285, 286, 287, 288, 289, 290, 291, 292, 293, 294, 295, 296, 297, 298, 299, 300, 301, 302, 303, 304, 308, 309, 310, 311, 312, 313, 314, 315, 316, 317, 318, 319, 320, 321, 322, 323, 324, 325, 326, 327, 328, 329, 330, 331, 332, 333, 334, 335, 336, 337, 338, 339, 340, 341, 342, 343, 344, 345, 346, 347, 348, 349, 350, 351, 352, 353, 354, 355, 356, 357, 358, 359, 360, 361, 362, 363, 364, 365, 366, 367, 368, 369, 370, 371, 372, 373, 374, 375, 376, 377, 378, 379, 380, 381, 382, 383, 384, 385, 386, 387, 388, 389, 390, 391, 392, 393, 394, 395, 396, 397, 398, 399, 400, 401, 402, 403, 404, 405, 406, 407, 408, 409, 410, 411, 412, 413, 414, 415, 416, 417, 418, 419, 420, 421, 422, 423, 424, 425, 426, 427, 428, 429, 430, 431, 432, 433, 434, 435, 436, 437, 438, 439, 440, 441, 442, 443, 444, 445, 446, 447, 448, 449, 450, 451, 452, 453, 454, 455, 456, 457, 458, 459, 460, 461, 462, 463, 464, 465, 466, 467, 468, 469, 470, 471, 472, 473, 474, 475, 476, 477, 478, 479, 480, 481, 482, 483, 484, 485, 486, 487, 488, 489, 490, 491, 492, 493, 494, 495, 496, 497, 498, 499, 500, 501, 502, 503, 504, 505, 506, 507, 508, 509, 510, 511, 512, 513, 514, 515, 516, 517, 518, 519, 520, 521, 522, 523, 524, 525, 526, 527, 528, 529, 530, 531, 532, 533, 534, 535, 536, 537, 538, 539, 540, 541, 542, 543, 544, 545, 546, 547, 548, 549, 550, 551, 552, 553, 554, 555, 556, 557, 558, 559, 560, 561, 562, 563, 564, 565, 566, 567, 568, 569, 570, 571, 572, 573, 574, 575, 576, 577, 578, 579, 580, 581, 582, 583, 584, 585, 586, 587, 588, 589, 590, 591, 592, 593, 594, 595, 596, 597, 598, 599, 600, 601, 602, 603, 604, 605, 606, 607, 608, 609, 610, 611, 612, 613, 614, 615, 616, 617, 618, 619, 620, 621, 622, 623, 624, 625, 626, 627, 628, 629, 630, 631, 632, 633, 634, 635, 636, 637, 638, 639, 640, 641, 642, 643, 644, 645, 646, 647, 648, 649, 650, 651, 652, 653, 654, 655, 656, 657, 658, 659, 660, 661, 662, 663, 664, 665, 666, 667, 668, 669, 670, 671, 672, 673, 674, 675, 676, 677, 678, 679, 680, 681, 682, 683, 684, 685, 686, 687, 688, 689, 690, 691, 692, 693, 694, 695, 696, 697, 698, 699, 700, 701, 702, 703, 704, 705, 706, 707, 708, 709, 710, 711, 712, 713, 714, 715, 716, 717, 718, 719, 720, 721, 722, 723, 724, 725, 726, 727, 728, 729, 730, 731, 732, 733, 734, 735, 736, 737, 738, 739, 740, 741, 742, 743, 744, 745, 746, 747, 748, 749, 750, 751, 752, 753, 754, 755, 756, 757, 758, 759, 760, 761, 762, 763, 764, 765, 766, 767, 768, 769, 770, 771, 772, 773, 774, 775, 776, 777, 778, 779, 780, 781, 782, 783, 784, 785, 786, 787, 788, 789, 790, 791, 792, 793, 794, 795, 796, 797, 798, 799, 800, 801, 802, 803, 804, 805, 806, 807, 808, 809, 810, 811, 812, 813, 814, 815, 816, 817, 818, 819, 820, 821, 822, 823, 824, 825, 826, 827, 828, 829, 830, 831, 832, 833, 834, 835, 836, 837, 838, 839, 840, 841, 842, 843, 844, 845, 846, 847, 848, 849, 850, 851, 852, 853, 854, 855, 856, 857, 858, 859, 860, 861, 862, 863, 864, 865, 866, 867, 868, 869, 870, 871, 872, 873, 874, 875, 876, 877, 878, 879, 880, 881, 882, 883, 884, 885, 886, 887, 888, 889, 890, 891, 892, 893, 894, 895, 896, 897, 898, 899, 900, 901, 902, 903, 904, 905, 906, 907, 908, 909, 910, 911, 912, 913, 914, 915, 916, 917, 918, 919, 920, 921, 922, 923, 924, 925, 926, 927, 928, 929, 930, 931, 932, 933, 934, 935, 936, 937, 938, 939, 940, 941, 942, 943, 944, 945, 946, 947, 948, 949, 950, 951, 952, 953, 954, 955, 956, 957, 958, 959, 960, 961, 962, 963, 964, 965, 966, 967, 968, 969, 970, 971, 972, 973, 974, 975, 976, 977, 978, 979, 980, 981, 982, 983, 984, 985, 986, 987, 988, 989, 990, 991, 992, 993, 994, 995, 996, 997, 998, 999, 1000, 1001, 1002, 1003, 1004, 1005, 1006, 1007, 1008, 1009, 1010, 1011, 1012, 1013, 1014, 1015, 1016, 1017, 1018, 1019, 1020, 1021, 1022, 1023, 1024, 1025, 1026, 1027, 1028, 1029, 1030, 1031, 1032, 1033, 1034, 1035, 1036, 1037, 1038, 1039, 1040, 1041, 1042, 1043, 1044, 1045, 1046, 1047, 1048, 1049, 1050, 1051, 1052, 1053, 1054, 1055, 1056, 1057, 1058, 1059, 1060, 1061, 1062, 1063, 1064, 1065, 1066, 1067, 1068, 1069, 1070, 1071, 1072, 1073, 1074, 1075, 1076, 1077, 1078, 1079, 1080, 1081, 1082, 1083, 1084, 1085, 1086, 1087, 1088, 1089, 1090, 1091, 1092, 1093, 1094, 1095, 1096, 1097, 1098, 1099, 1100, 1101, 1102, 1103, 1104, 1105, 1106, 1107, 1108, 1109, 1110, 1111, 1112, 1113, 1114, 1115, 1116, 1117, 1118, 1119, 1120, 1121, 1122, 1123, 1124, 1125, 1126, 1127, 1128, 1129, 1130, 1131, 1132, 1133, 1134, 1136, 1137, 1138, 1139, 1140, 1141, 1142, 1143, 1144, 1145, 1146, 1147, 1148, 1149, 1150, 1151, 1152, 1153, 1155, 1156, 1157, 1158, 1159, 1160, 1161, 1162, 1163, 1164, 1165, 1166, 1167, 1168, 1169, 1170, 1171, 1172, 1179, 1180, 1181, 1182, 1183, 1184, 1185, 1186, 1187, 1188, 1189, 1190, 1191, 1192, 1193, 1194, 1195, 1196, 1197, 1198, 1199, 1200, 1201, 1202, 1203, 1204, 1205, 1206, 1207, 1208, 1209, 1210, 1211, 1212, 1213, 1214, 1215, 1216, 1217, 1218, 1219, 1220, 1221, 1222, 1223, 1224, 1225, 1226, 1227, 1228, 1229, 1230, 1231, 1232, 1233, 1234, 1235, 1236, 1237, 1238, 1239, 1240, 1241, 1242, 1243, 1244, 1245, 1246, 1247, 1248, 1249, 1250, 1251, 1252, 1253, 1254, 1255, 1256, 1257, 1258, 1259, 1260, 1261, 1262, 1263, 1265, 1269, 1270, 1271, 1272, 1273, 1274, 1462, 1484, 1485, 1486, 1487, 1499, 1500, 1501, 1502, 1503, 1504, 1505, 1506, 1507, 1508, 1509, 1510, 1511, 1512, 1513, 1514, 1515, 1516, 1517, 1518, 1519, 1520, 1521, 1522, 1523, 1524, 1525, 1526, 1527, 1528, 1529, 1530, 1531, 1532, 1533, 1534, 1535, 1536, 1537, 1538, 1539, 1540, 1541, 1542, 1543, 1544, 1545, 1546, 1547, 1548, 1549, 1550, 1551, 1552, 1553, 1557, 1558, 1559, 1560, 1561, 1562, 1563, 1564, 1565, 1566, 1585, 1586, 1587, 1588, 1589]\n",
      "Eliminant columnes 2\n",
      "✅ La columna 'Total_Del' no està al DataFrame.\n"
     ]
    }
   ],
   "source": [
    "\n",
    "df_orig, meta = pyreadstat.read_sav(\"CEJFEAjut2015Updated.sav\")\n",
    "\n",
    "df_variables = pd.read_csv(\"variables.csv\", sep=';')\n",
    "\n",
    "dict = create_dict(meta)\n",
    "\n",
    "df_psico = dataset_psicologia(df_orig, dict,df_variables)\n",
    "\n",
    "df = drop_all_columns(df_psico, meta, df_variables, dict)\n",
    "\n",
    "df['temps_fins_reincidencia1a'] = df_orig['temps_fins_reincidencia1a']\n",
    "\n",
    "df['temps_fins_reincidencia1a'] = df['temps_fins_reincidencia1a'].apply(lambda x: 1095 if x > 1095 else x)"
   ]
  },
  {
   "cell_type": "code",
   "execution_count": 6,
   "metadata": {},
   "outputs": [
    {
     "name": "stdout",
     "output_type": "stream",
     "text": [
      "Mirem quants nans tenim a cada columna\n",
      "Columnes netejades\n"
     ]
    }
   ],
   "source": [
    "print(\"Mirem quants nans tenim a cada columna\")\n",
    "netejat,df = neteja_na_columns(df, llindar=0.6)\n",
    "\n",
    "df = omple_nans(df)\n",
    "\n",
    "print(\"Columnes netejades\")\n",
    "## fem label encoding de les columnes categòriques\n",
    "df = label_encoding(df)\n"
   ]
  },
  {
   "cell_type": "code",
   "execution_count": 7,
   "metadata": {},
   "outputs": [
    {
     "name": "stdout",
     "output_type": "stream",
     "text": [
      "Hem netejat les columnes i hem fet label encoding\n",
      "Tenim  359  columnes\n"
     ]
    }
   ],
   "source": [
    "num_columnes = df.shape[1]\n",
    "print(\"Hem netejat les columnes i hem fet label encoding\")\n",
    "print(\"Tenim \", num_columnes, \" columnes\")"
   ]
  },
  {
   "cell_type": "code",
   "execution_count": 8,
   "metadata": {},
   "outputs": [],
   "source": [
    "X_train, X_test, y_train, y_test = train_test_split(df.drop(columns='temps_fins_reincidencia1a'), df['temps_fins_reincidencia1a'], test_size=0.2,random_state=20)\n"
   ]
  },
  {
   "cell_type": "code",
   "execution_count": 9,
   "metadata": {},
   "outputs": [],
   "source": [
    "from sklearn.preprocessing import StandardScaler\n",
    "\n",
    "scaler = StandardScaler()\n",
    "X_train = scaler.fit_transform(X_train)\n",
    "\n",
    "X_train = pd.DataFrame(X_train, columns=df.drop(columns='temps_fins_reincidencia1a').columns)"
   ]
  },
  {
   "cell_type": "code",
   "execution_count": null,
   "metadata": {},
   "outputs": [
    {
     "name": "stderr",
     "output_type": "stream",
     "text": [
      "100%|██████████| 50/50 [02:35<00:00,  3.11s/it]\n"
     ]
    },
    {
     "name": "stdout",
     "output_type": "stream",
     "text": [
      "Bootstraps:50, Threshold:0.6, MinRatio:0.3 => Seleccionades:358\n"
     ]
    },
    {
     "name": "stderr",
     "output_type": "stream",
     "text": [
      "100%|██████████| 50/50 [02:27<00:00,  2.94s/it]\n"
     ]
    },
    {
     "name": "stdout",
     "output_type": "stream",
     "text": [
      "Bootstraps:50, Threshold:0.6, MinRatio:0.5 => Seleccionades:351\n"
     ]
    },
    {
     "name": "stderr",
     "output_type": "stream",
     "text": [
      "100%|██████████| 50/50 [02:26<00:00,  2.93s/it]\n"
     ]
    },
    {
     "name": "stdout",
     "output_type": "stream",
     "text": [
      "Bootstraps:50, Threshold:0.6, MinRatio:0.7 => Seleccionades:190\n"
     ]
    },
    {
     "name": "stderr",
     "output_type": "stream",
     "text": [
      "100%|██████████| 50/50 [02:26<00:00,  2.93s/it]\n"
     ]
    },
    {
     "name": "stdout",
     "output_type": "stream",
     "text": [
      "Bootstraps:50, Threshold:0.7, MinRatio:0.3 => Seleccionades:156\n"
     ]
    },
    {
     "name": "stderr",
     "output_type": "stream",
     "text": [
      "100%|██████████| 50/50 [02:38<00:00,  3.18s/it]\n"
     ]
    },
    {
     "name": "stdout",
     "output_type": "stream",
     "text": [
      "Bootstraps:50, Threshold:0.7, MinRatio:0.5 => Seleccionades:36\n"
     ]
    },
    {
     "name": "stderr",
     "output_type": "stream",
     "text": [
      "100%|██████████| 50/50 [03:11<00:00,  3.82s/it]\n"
     ]
    },
    {
     "name": "stdout",
     "output_type": "stream",
     "text": [
      "Bootstraps:50, Threshold:0.7, MinRatio:0.7 => Seleccionades:9\n"
     ]
    },
    {
     "name": "stderr",
     "output_type": "stream",
     "text": [
      "100%|██████████| 50/50 [03:38<00:00,  4.37s/it]\n"
     ]
    },
    {
     "name": "stdout",
     "output_type": "stream",
     "text": [
      "Bootstraps:50, Threshold:0.8, MinRatio:0.3 => Seleccionades:12\n"
     ]
    },
    {
     "name": "stderr",
     "output_type": "stream",
     "text": [
      "100%|██████████| 50/50 [05:58<00:00,  7.18s/it]\n"
     ]
    },
    {
     "name": "stdout",
     "output_type": "stream",
     "text": [
      "Bootstraps:50, Threshold:0.8, MinRatio:0.5 => Seleccionades:5\n"
     ]
    },
    {
     "name": "stderr",
     "output_type": "stream",
     "text": [
      "100%|██████████| 50/50 [07:05<00:00,  8.51s/it]\n"
     ]
    },
    {
     "name": "stdout",
     "output_type": "stream",
     "text": [
      "Bootstraps:50, Threshold:0.8, MinRatio:0.7 => Seleccionades:1\n"
     ]
    },
    {
     "name": "stderr",
     "output_type": "stream",
     "text": [
      "100%|██████████| 100/100 [08:16<00:00,  4.97s/it]\n"
     ]
    },
    {
     "name": "stdout",
     "output_type": "stream",
     "text": [
      "Bootstraps:100, Threshold:0.6, MinRatio:0.3 => Seleccionades:358\n"
     ]
    },
    {
     "name": "stderr",
     "output_type": "stream",
     "text": [
      "100%|██████████| 100/100 [05:37<00:00,  3.37s/it]\n"
     ]
    },
    {
     "name": "stdout",
     "output_type": "stream",
     "text": [
      "Bootstraps:100, Threshold:0.6, MinRatio:0.5 => Seleccionades:335\n"
     ]
    },
    {
     "name": "stderr",
     "output_type": "stream",
     "text": [
      "100%|██████████| 100/100 [06:18<00:00,  3.79s/it]\n"
     ]
    },
    {
     "name": "stdout",
     "output_type": "stream",
     "text": [
      "Bootstraps:100, Threshold:0.6, MinRatio:0.7 => Seleccionades:199\n"
     ]
    },
    {
     "name": "stderr",
     "output_type": "stream",
     "text": [
      "100%|██████████| 100/100 [07:02<00:00,  4.22s/it]\n"
     ]
    },
    {
     "name": "stdout",
     "output_type": "stream",
     "text": [
      "Bootstraps:100, Threshold:0.7, MinRatio:0.3 => Seleccionades:151\n"
     ]
    },
    {
     "name": "stderr",
     "output_type": "stream",
     "text": [
      "100%|██████████| 100/100 [11:53<00:00,  7.13s/it]\n"
     ]
    },
    {
     "name": "stdout",
     "output_type": "stream",
     "text": [
      "Bootstraps:100, Threshold:0.7, MinRatio:0.5 => Seleccionades:40\n"
     ]
    },
    {
     "name": "stderr",
     "output_type": "stream",
     "text": [
      "100%|██████████| 100/100 [12:11<00:00,  7.32s/it]\n"
     ]
    },
    {
     "name": "stdout",
     "output_type": "stream",
     "text": [
      "Bootstraps:100, Threshold:0.7, MinRatio:0.7 => Seleccionades:9\n"
     ]
    },
    {
     "name": "stderr",
     "output_type": "stream",
     "text": [
      "100%|██████████| 100/100 [14:00<00:00,  8.41s/it]\n"
     ]
    },
    {
     "name": "stdout",
     "output_type": "stream",
     "text": [
      "Bootstraps:100, Threshold:0.8, MinRatio:0.3 => Seleccionades:12\n"
     ]
    },
    {
     "name": "stderr",
     "output_type": "stream",
     "text": [
      "100%|██████████| 100/100 [14:19<00:00,  8.60s/it]\n"
     ]
    },
    {
     "name": "stdout",
     "output_type": "stream",
     "text": [
      "Bootstraps:100, Threshold:0.8, MinRatio:0.5 => Seleccionades:5\n"
     ]
    },
    {
     "name": "stderr",
     "output_type": "stream",
     "text": [
      "100%|██████████| 100/100 [14:29<00:00,  8.69s/it]"
     ]
    },
    {
     "name": "stdout",
     "output_type": "stream",
     "text": [
      "Bootstraps:100, Threshold:0.8, MinRatio:0.7 => Seleccionades:1\n"
     ]
    },
    {
     "name": "stderr",
     "output_type": "stream",
     "text": [
      "\n"
     ]
    }
   ],
   "source": [
    "from enns import *\n",
    "\n",
    "# Creem un diccionari per emmagatzemar els resultats\n",
    "resultats_enns = {}\n",
    "\n",
    "# Fem les iteracions\n",
    "for nb in [50, 100]:\n",
    "    for it in [0.6, 0.7, 0.8]:\n",
    "        for msr in [0.3, 0.5, 0.7]:\n",
    "            selected_features = enns(X_train, y_train, n_bootstraps=nb, importance_threshold=it, min_selection_ratio=msr)\n",
    "            \n",
    "            # Creem una clau identificativa per aquests paràmetres\n",
    "            clau = (nb, it, msr)\n",
    "            \n",
    "            # Guardem el resultat al diccionari\n",
    "            resultats_enns[clau] = selected_features\n",
    "            \n",
    "            print(f\"Bootstraps:{nb}, Threshold:{it}, MinRatio:{msr} => Seleccionades:{len(selected_features)}\")\n"
   ]
  },
  {
   "cell_type": "code",
   "execution_count": null,
   "metadata": {},
   "outputs": [],
   "source": [
    "# Escriure els resultats ja emmagatzemats al diccionari en un fitxer\n",
    "with open(\"resultats_enns.txt\", \"w\") as f:\n",
    "    for clau, selected_features in resultats_enns.items():\n",
    "        nb, it, msr = clau\n",
    "        f.write(f\"Parameters:\\n\")\n",
    "        f.write(f\"  - Bootstraps: {nb}\\n\")\n",
    "        f.write(f\"  - Threshold: {it}\\n\")\n",
    "        f.write(f\"  - MinRatio: {msr}\\n\")\n",
    "        f.write(f\"Selected features ({len(selected_features)}):\\n\")\n",
    "        for feat in selected_features:\n",
    "            f.write(f\"  · {feat}\\n\")\n",
    "        f.write(\"-\" * 60 + \"\\n\")\n"
   ]
  },
  {
   "cell_type": "code",
   "execution_count": null,
   "metadata": {},
   "outputs": [
    {
     "name": "stdout",
     "output_type": "stream",
     "text": [
      "Les columnes seleccionades són: [  0   1   4   6   7   8  13  14  15  16  17  18  19  20  23  24  25  26\n",
      "  27  28  33  34  35  36  39  44  46  47  48  49  50  51  57  60  61  65\n",
      "  66  67  68  75  76  77  78  80  82  83  88  89  90  91  92  96  97 100\n",
      " 101 102 104 106 112 118 120 123 125 126 130 133 134 136 137 138 139 140\n",
      " 142 145 146 147 149 150 151 152 153 154 169 173 175 180 184 187 189 194\n",
      " 200 201 208 210 211 212 214 215 218 221 224 227 228 238 240 242 247 250\n",
      " 251 252 253 255 256 261 267 268 272 273 274 275 278 284 285 286 287 289\n",
      " 290 292 293 297 299 300 302 306 308 309 310 311 312 313 314 315 319 321\n",
      " 322 323 326 327 335 336 338 339 347 352 354 355]\n"
     ]
    }
   ],
   "source": [
    "columnes_seleccionades = resultats_enns[(50, 0.7, 0.3)]\n",
    "print(\"Les columnes seleccionades són:\", columnes_seleccionades)\n"
   ]
  },
  {
   "cell_type": "code",
   "execution_count": null,
   "metadata": {},
   "outputs": [
    {
     "name": "stdout",
     "output_type": "stream",
     "text": [
      "['RAVEN01', 'RAVEN02', 'RAVEN05', 'RAVEN_Pc', 'RAVEN_IQ', 'RAVENbarem', 'SAVRY01', 'SAVRY02', 'SAVRY03', 'SAVRY04', 'SAVRY05', 'SAVRY06', 'SAVRY07', 'SAVRY08', 'SAVRY11', 'SAVRY12', 'SAVRY13', 'SAVRY14', 'SAVRY15', 'SAVRY16', 'SAVRY21', 'SAVRY22', 'SAVRY23', 'SAVRY24', 'SAVRY32', 'SAVRY37', 'SAVRY38', 'SAVRY28', 'SAVRY25', 'SAVRY27', 'SAVRY29', 'DD01', 'DD07', 'DD10', 'DD11', 'VAST03', 'VAST04', 'VAST05', 'VAST06', 'VAST13', 'VAST14', 'VAST15', 'VAST16', 'VAST18', 'VAST20', 'PCLe01', 'PCLe06', 'PCLe07', 'PCLe08', 'PCLe09', 'PCLe10', 'PCLe14', 'PCLe15', 'PCLe18', 'PCLe19', 'PCLe20', 'PCLeFAC_2', 'PCLeFAC_4', 'PCLo05', 'PCLo11', 'PCLo13', 'PCLo16', 'PCLo18', 'PCLo19', 'PCLoFAC_3', 'PCLx01', 'PCLx02', 'PCLx04', 'PCLx05', 'PCLx06', 'PCLx07', 'PCLx08', 'PCLx10', 'PCLx13', 'PCLx14', 'PCLx15', 'PCLx17', 'PCLx18', 'PCLx19', 'PCLx20', 'PCLxFAC_1', 'PCLxFAC_2', 'PCLj12', 'PCLj16', 'PCLj18', 'PCLjFAC_3', 'PCLYVM02', 'PCLYVM05', 'PCLYVM07', 'PCLYVM12', 'PCLYVM18', 'PCLYVM19', 'CAPEe01', 'CAPEe03', 'CAPEe04', 'CAPEo01', 'CAPEo03', 'CAPEo04', 'CAPEo203', 'RPQ_PT', 'ICUT_UC', 'CCA_VA', 'CCA_AG', 'SD3Narc', 'SAVRYSoc', 'SAVRYTot', 'ICUJ_CA', 'CCA_PT', 'YPI_DC', 'YPI_GR', 'YPI_LY', 'YPI_RE', 'YPI_UN', 'YPI_PT', 'TRFMTotProb', 'TRFMTotProbT', 'TRFTTotProbCat', 'TRFTDSMDepProb', 'TRFTDSMDepProbT', 'TRFTDSMDepProbCat', 'TRFTDSMAnxProbCat', 'TRFTDSMADHDCat', 'TRFTDSMODD', 'TRFTDSMODDT', 'TRFTDSMODDCat', 'TRFTDSMCDT', 'TRFTDSMCDCat', 'TRFTDSMObsComT', 'TRFTDSMObsComCat', 'ICUJsp4SplitN', 'ICUJsp4ExtrmN', 'ICUJsp4Extrm', 'ICUJsp9ExtrmN', 'ICUJsp8ExtrmN', 'ICUJsp8Extrm', 'YPImssSpN', 'YPIreSpN', 'YPIcaSpN', 'YPIunSpN', 'YPISpN', 'YPISp', 'VASTVic', 'TRFT_WD', 'TRFT_TP', 'TRFT_AP', 'TRFT_RBB', 'TRFM_AD', 'TRFM_WD', 'TRFT_SC', 'YSRGrupExtCAPEe', 'TRFMGrupExtCAPEe', 'YSRGrupDSMCDConsCAPEe', 'CAPEe_PT_2gr', 'PCLYVMFAC_2_3gr', 'RPQ_PA_50', 'RPQ_HIGH_PA_RA']\n"
     ]
    }
   ],
   "source": [
    "columnes = df.iloc[:, columnes_seleccionades].columns.tolist()\n",
    "# O bé usant els noms directament:\n",
    "print(columnes)\n",
    "\n",
    "X_train_filtrat = X_train[columnes] \n",
    "X_test_filtrat = X_test[columnes]"
   ]
  },
  {
   "cell_type": "code",
   "execution_count": null,
   "metadata": {},
   "outputs": [
    {
     "name": "stdout",
     "output_type": "stream",
     "text": [
      "\n",
      "Paràmetres ENNS: (50, 0.6, 0.3)\n",
      "   -> Best params: {'max_depth': 40, 'n_estimators': 100}\n",
      "   -> Best MAE: 96494.3618\n",
      "\n",
      "Paràmetres ENNS: (50, 0.6, 0.5)\n",
      "   -> Best params: {'max_depth': 30, 'n_estimators': 250}\n",
      "   -> Best MAE: 96659.3943\n",
      "\n",
      "Paràmetres ENNS: (50, 0.6, 0.7)\n",
      "   -> Best params: {'max_depth': 30, 'n_estimators': 250}\n",
      "   -> Best MAE: 91776.7576\n",
      "\n",
      "Paràmetres ENNS: (50, 0.7, 0.3)\n",
      "   -> Best params: {'max_depth': 50, 'n_estimators': 500}\n",
      "   -> Best MAE: 86473.9912\n",
      "\n",
      "Paràmetres ENNS: (50, 0.7, 0.5)\n",
      "   -> Best params: {'max_depth': 30, 'n_estimators': 250}\n",
      "   -> Best MAE: 74828.7259\n",
      "\n",
      "Paràmetres ENNS: (50, 0.7, 0.7)\n",
      "   -> Best params: {'max_depth': 30, 'n_estimators': 100}\n",
      "   -> Best MAE: 48495.7081\n",
      "\n",
      "Paràmetres ENNS: (50, 0.8, 0.3)\n",
      "   -> Best params: {'max_depth': 30, 'n_estimators': 250}\n",
      "   -> Best MAE: 53425.9056\n",
      "\n",
      "Paràmetres ENNS: (50, 0.8, 0.5)\n",
      "   -> Best params: {'max_depth': 50, 'n_estimators': 100}\n",
      "   -> Best MAE: 79839.7633\n",
      "\n",
      "Paràmetres ENNS: (50, 0.8, 0.7)\n",
      "   -> Best params: {'max_depth': 50, 'n_estimators': 100}\n",
      "   -> Best MAE: 77388.4786\n",
      "\n",
      "Paràmetres ENNS: (100, 0.6, 0.3)\n",
      "   -> Best params: {'max_depth': 40, 'n_estimators': 500}\n",
      "   -> Best MAE: 96758.0361\n",
      "\n",
      "Paràmetres ENNS: (100, 0.6, 0.5)\n",
      "   -> Best params: {'max_depth': 50, 'n_estimators': 100}\n",
      "   -> Best MAE: 95866.4994\n",
      "\n",
      "Paràmetres ENNS: (100, 0.6, 0.7)\n",
      "   -> Best params: {'max_depth': 50, 'n_estimators': 250}\n",
      "   -> Best MAE: 89584.6647\n",
      "\n",
      "Paràmetres ENNS: (100, 0.7, 0.3)\n",
      "   -> Best params: {'max_depth': 50, 'n_estimators': 250}\n",
      "   -> Best MAE: 90056.9876\n",
      "\n",
      "Paràmetres ENNS: (100, 0.7, 0.5)\n",
      "   -> Best params: {'max_depth': 40, 'n_estimators': 100}\n",
      "   -> Best MAE: 72728.2036\n",
      "\n",
      "Paràmetres ENNS: (100, 0.7, 0.7)\n",
      "   -> Best params: {'max_depth': 30, 'n_estimators': 250}\n",
      "   -> Best MAE: 40444.1223\n",
      "\n",
      "Paràmetres ENNS: (100, 0.8, 0.3)\n",
      "   -> Best params: {'max_depth': 40, 'n_estimators': 500}\n",
      "   -> Best MAE: 52090.5792\n",
      "\n",
      "Paràmetres ENNS: (100, 0.8, 0.5)\n",
      "   -> Best params: {'max_depth': 40, 'n_estimators': 250}\n",
      "   -> Best MAE: 75172.6391\n",
      "\n",
      "Paràmetres ENNS: (100, 0.8, 0.7)\n",
      "   -> Best params: {'max_depth': 50, 'n_estimators': 250}\n",
      "   -> Best MAE: 77323.8878\n"
     ]
    }
   ],
   "source": [
    "from sklearn.ensemble import RandomForestRegressor\n",
    "from sklearn.model_selection import GridSearchCV\n",
    "import numpy as np\n",
    "\n",
    "# Diccionari per guardar els resultats dels models\n",
    "resultats_models = {}\n",
    "\n",
    "# Paràmetres per al grid search\n",
    "param_grid = {\n",
    "    'n_estimators': [100, 250, 500],\n",
    "    'max_depth': [30, 40, 50],\n",
    "}\n",
    "\n",
    "# Bucle per entrenar un model amb cada conjunt de columnes seleccionades\n",
    "for clau, columnes_seleccionades in resultats_enns.items():\n",
    "    print(f\"\\nParàmetres ENNS: {clau}\")\n",
    "\n",
    "\n",
    "    # Si hi ha columnes seleccionades, entrenem\n",
    "    if len(columnes_seleccionades) > 0:\n",
    "        # Filtratge de columnes\n",
    "        columnes = df.iloc[:,columnes_seleccionades].columns.tolist()\n",
    "\n",
    "        X_train_filtrat = X_train[columnes]\n",
    "        X_test_filtrat = X_test[columnes]\n",
    "\n",
    "        # Model i Grid Search\n",
    "        rf = RandomForestRegressor()\n",
    "        grid_search = GridSearchCV(\n",
    "            rf,\n",
    "            param_grid,\n",
    "            cv=10,\n",
    "            scoring='neg_mean_squared_error',\n",
    "            return_train_score=True,\n",
    "            n_jobs=-1\n",
    "        )\n",
    "        grid_search.fit(X_train_filtrat, y_train)\n",
    "\n",
    "        # Guardem resultats\n",
    "        resultats_models[clau] = {\n",
    "            \"best_params\": grid_search.best_params_,\n",
    "            \"best_score\": -grid_search.best_score_,\n",
    "            \"num_features\": len(columnes)\n",
    "        }\n",
    "\n",
    "        print(f\"   -> Best params: {grid_search.best_params_}\")\n",
    "        print(f\"   -> Best MAE: {-grid_search.best_score_:.4f}\")\n",
    "    else:\n",
    "        print(\"   -> Cap columna seleccionada. No s'entrena model.\")\n"
   ]
  },
  {
   "cell_type": "code",
   "execution_count": null,
   "metadata": {},
   "outputs": [
    {
     "name": "stdout",
     "output_type": "stream",
     "text": [
      "\n",
      "Paràmetres ENNS: (50, 0.6, 0.3)\n",
      "   -> Best params: {'max_depth': 40, 'n_estimators': 100}\n",
      "   -> Best MAE: 241.1399\n",
      "\n",
      "Paràmetres ENNS: (50, 0.6, 0.5)\n",
      "   -> Best params: {'max_depth': 50, 'n_estimators': 250}\n",
      "   -> Best MAE: 242.3724\n",
      "\n",
      "Paràmetres ENNS: (50, 0.6, 0.7)\n",
      "   -> Best params: {'max_depth': 30, 'n_estimators': 250}\n",
      "   -> Best MAE: 239.2657\n",
      "\n",
      "Paràmetres ENNS: (50, 0.7, 0.3)\n",
      "   -> Best params: {'max_depth': 40, 'n_estimators': 500}\n",
      "   -> Best MAE: 222.2873\n",
      "\n",
      "Paràmetres ENNS: (50, 0.7, 0.5)\n",
      "   -> Best params: {'max_depth': 30, 'n_estimators': 100}\n",
      "   -> Best MAE: 203.5582\n",
      "\n",
      "Paràmetres ENNS: (50, 0.7, 0.7)\n",
      "   -> Best params: {'max_depth': 30, 'n_estimators': 250}\n",
      "   -> Best MAE: 169.5769\n",
      "\n",
      "Paràmetres ENNS: (50, 0.8, 0.3)\n",
      "   -> Best params: {'max_depth': 30, 'n_estimators': 100}\n",
      "   -> Best MAE: 178.0205\n",
      "\n",
      "Paràmetres ENNS: (50, 0.8, 0.5)\n",
      "   -> Best params: {'max_depth': 40, 'n_estimators': 250}\n",
      "   -> Best MAE: 206.4343\n",
      "\n",
      "Paràmetres ENNS: (50, 0.8, 0.7)\n",
      "   -> Best params: {'max_depth': 50, 'n_estimators': 100}\n",
      "   -> Best MAE: 196.7829\n",
      "\n",
      "Paràmetres ENNS: (100, 0.6, 0.3)\n",
      "   -> Best params: {'max_depth': 50, 'n_estimators': 100}\n",
      "   -> Best MAE: 240.3248\n",
      "\n",
      "Paràmetres ENNS: (100, 0.6, 0.5)\n",
      "   -> Best params: {'max_depth': 50, 'n_estimators': 250}\n",
      "   -> Best MAE: 240.3257\n",
      "\n",
      "Paràmetres ENNS: (100, 0.6, 0.7)\n",
      "   -> Best params: {'max_depth': 30, 'n_estimators': 100}\n",
      "   -> Best MAE: 236.1549\n",
      "\n",
      "Paràmetres ENNS: (100, 0.7, 0.3)\n",
      "   -> Best params: {'max_depth': 30, 'n_estimators': 250}\n",
      "   -> Best MAE: 231.0556\n",
      "\n",
      "Paràmetres ENNS: (100, 0.7, 0.5)\n",
      "   -> Best params: {'max_depth': 30, 'n_estimators': 100}\n",
      "   -> Best MAE: 206.3919\n",
      "\n",
      "Paràmetres ENNS: (100, 0.7, 0.7)\n",
      "   -> Best params: {'max_depth': 30, 'n_estimators': 250}\n",
      "   -> Best MAE: 152.5544\n",
      "\n",
      "Paràmetres ENNS: (100, 0.8, 0.3)\n",
      "   -> Best params: {'max_depth': 30, 'n_estimators': 250}\n",
      "   -> Best MAE: 176.5099\n",
      "\n",
      "Paràmetres ENNS: (100, 0.8, 0.5)\n",
      "   -> Best params: {'max_depth': 40, 'n_estimators': 100}\n",
      "   -> Best MAE: 201.6270\n",
      "\n",
      "Paràmetres ENNS: (100, 0.8, 0.7)\n",
      "   -> Best params: {'max_depth': 40, 'n_estimators': 100}\n",
      "   -> Best MAE: 196.9823\n"
     ]
    }
   ],
   "source": [
    "from sklearn.ensemble import RandomForestRegressor\n",
    "from sklearn.model_selection import GridSearchCV\n",
    "import numpy as np\n",
    "\n",
    "# Diccionari per guardar els resultats dels models\n",
    "resultats_models = {}\n",
    "\n",
    "# Paràmetres per al grid search\n",
    "param_grid = {\n",
    "    'n_estimators': [100, 250, 500],\n",
    "    'max_depth': [30, 40, 50],\n",
    "}\n",
    "\n",
    "# Bucle per entrenar un model amb cada conjunt de columnes seleccionades\n",
    "for clau, columnes_seleccionades in resultats_enns.items():\n",
    "    print(f\"\\nParàmetres ENNS: {clau}\")\n",
    "\n",
    "\n",
    "    # Si hi ha columnes seleccionades, entrenem\n",
    "    if len(columnes_seleccionades) > 0:\n",
    "        # Filtratge de columnes\n",
    "        columnes = df.iloc[:,columnes_seleccionades].columns.tolist()\n",
    "\n",
    "        X_train_filtrat = X_train[columnes]\n",
    "        \n",
    "\n",
    "        # Model i Grid Search\n",
    "        rf = RandomForestRegressor()\n",
    "        grid_search = GridSearchCV(\n",
    "            rf,\n",
    "            param_grid,\n",
    "            cv=10,\n",
    "            scoring='neg_mean_absolute_error',\n",
    "            return_train_score=True,\n",
    "            n_jobs=-1\n",
    "        )\n",
    "        grid_search.fit(X_train_filtrat, y_train)\n",
    "\n",
    "        # Guardem resultats\n",
    "        resultats_models[clau] = {\n",
    "            \"best_params\": grid_search.best_params_,\n",
    "            \"best_score\": -grid_search.best_score_,\n",
    "            \"best_model\": grid_search.best_estimator_,\n",
    "            \"num_features\": len(columnes)\n",
    "        }\n",
    "\n",
    "        print(f\"   -> Best params: {grid_search.best_params_}\")\n",
    "        print(f\"   -> Best MAE: {-grid_search.best_score_:.4f}\")\n",
    "    else:\n",
    "        print(\"   -> Cap columna seleccionada. No s'entrena model.\")\n"
   ]
  },
  {
   "cell_type": "code",
   "execution_count": null,
   "metadata": {},
   "outputs": [
    {
     "name": "stdout",
     "output_type": "stream",
     "text": [
      "Les columnes seleccionades són: ['ICUJsp4Extrm']\n"
     ]
    },
    {
     "ename": "KeyError",
     "evalue": "'best_model'",
     "output_type": "error",
     "traceback": [
      "\u001b[1;31m---------------------------------------------------------------------------\u001b[0m",
      "\u001b[1;31mKeyError\u001b[0m                                  Traceback (most recent call last)",
      "Cell \u001b[1;32mIn[50], line 13\u001b[0m\n\u001b[0;32m      9\u001b[0m X_test \u001b[38;5;241m=\u001b[39m pd\u001b[38;5;241m.\u001b[39mDataFrame(X_test, columns\u001b[38;5;241m=\u001b[39mdf\u001b[38;5;241m.\u001b[39mdrop(columns\u001b[38;5;241m=\u001b[39m\u001b[38;5;124m'\u001b[39m\u001b[38;5;124mtemps_fins_reincidencia1a\u001b[39m\u001b[38;5;124m'\u001b[39m)\u001b[38;5;241m.\u001b[39mcolumns)\n\u001b[0;32m     10\u001b[0m X_test_filtrat \u001b[38;5;241m=\u001b[39m X_test[columnes]\n\u001b[1;32m---> 13\u001b[0m y_test_pred \u001b[38;5;241m=\u001b[39m \u001b[43mresultats_models\u001b[49m\u001b[43m[\u001b[49m\u001b[43mclau\u001b[49m\u001b[43m]\u001b[49m\u001b[43m[\u001b[49m\u001b[38;5;124;43m\"\u001b[39;49m\u001b[38;5;124;43mbest_model\u001b[39;49m\u001b[38;5;124;43m\"\u001b[39;49m\u001b[43m]\u001b[49m\u001b[38;5;241m.\u001b[39mpredict(X_test_filtrat)\n\u001b[0;32m     16\u001b[0m \u001b[38;5;66;03m# Calculem la mètrica MSE i R²\u001b[39;00m\n\u001b[0;32m     17\u001b[0m test_mse \u001b[38;5;241m=\u001b[39m mean_squared_error(y_test, y_test_pred)\n",
      "\u001b[1;31mKeyError\u001b[0m: 'best_model'"
     ]
    }
   ],
   "source": [
    "from sklearn.metrics import mean_squared_error, r2_score, mean_absolute_error\n",
    "\n",
    "clau = (100, 0.8, 0.7)\n",
    "columnes_seleccionades = resultats_enns[clau]\n",
    "columnes = df.iloc[:,columnes_seleccionades].columns.tolist()\n",
    "print(\"Les columnes seleccionades són:\", columnes)\n",
    "\n",
    "X_test = scaler.transform(X_test)\n",
    "X_test = pd.DataFrame(X_test, columns=df.drop(columns='temps_fins_reincidencia1a').columns)\n",
    "X_test_filtrat = X_test[columnes]\n",
    "\n",
    "\n",
    "y_test_pred = resultats_models[clau][\"best_model\"].predict(X_test_filtrat)\n",
    "\n",
    "\n",
    "# Calculem la mètrica MSE i R²\n",
    "test_mse = mean_squared_error(y_test, y_test_pred)\n",
    "\n",
    "print(\"\\n--- AVALUACIÓ FINAL EN TEST ---\")\n",
    "print(f\"MSE (Test): {test_mse:.4f}\")\n",
    "\n",
    "\n",
    "## plot de les prediccions\n",
    "plt.scatter(y_test, y_test_pred)\n",
    "plt.xlabel('Real')\n",
    "plt.ylabel('Predicció')\n",
    "plt.title('Predicció vs Real')\n",
    "plt.show()"
   ]
  },
  {
   "cell_type": "markdown",
   "metadata": {},
   "source": []
  }
 ],
 "metadata": {
  "kernelspec": {
   "display_name": ".venv",
   "language": "python",
   "name": "python3"
  },
  "language_info": {
   "codemirror_mode": {
    "name": "ipython",
    "version": 3
   },
   "file_extension": ".py",
   "mimetype": "text/x-python",
   "name": "python",
   "nbconvert_exporter": "python",
   "pygments_lexer": "ipython3",
   "version": "3.12.9"
  }
 },
 "nbformat": 4,
 "nbformat_minor": 2
}
