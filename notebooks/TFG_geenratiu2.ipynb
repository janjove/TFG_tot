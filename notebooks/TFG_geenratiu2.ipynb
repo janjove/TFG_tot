{
 "cells": [
  {
   "cell_type": "code",
   "execution_count": 49,
   "metadata": {},
   "outputs": [],
   "source": [
    "from crear_dataset import *\n",
    "from funcions_net import *\n",
    "import numpy as np\n",
    "import matplotlib.pyplot as plt\n",
    "import pyreadstat\n",
    "import pandas as pd\n",
    "from preprocessing import *\n",
    "from sklearn.model_selection import train_test_split\n",
    "from func_sel import *\n",
    "from funcions_net import *\n"
   ]
  },
  {
   "cell_type": "code",
   "execution_count": 50,
   "metadata": {},
   "outputs": [
    {
     "name": "stdout",
     "output_type": "stream",
     "text": [
      "[73, 74, 75, 76, 77, 78, 79, 80, 81, 82, 83, 84, 85, 86, 87, 88, 89, 90, 91, 92, 93, 94, 95, 96, 97, 98, 99, 100, 101, 102, 103, 104, 105, 106, 107, 108, 109, 110, 111, 112, 113, 114, 115, 116, 117, 118, 119, 120, 121, 122, 123, 124, 125, 126, 127, 128, 129, 130, 131, 132, 133, 134, 135, 136, 137, 138, 139, 140, 141, 142, 143, 144, 145, 146, 147, 148, 149, 150, 151, 152, 153, 154, 155, 156, 157, 160, 161, 162, 163, 164, 165, 166, 167, 168, 169, 170, 171, 172, 173, 174, 175, 176, 177, 178, 179, 180, 181, 182, 183, 184, 185, 186, 187, 188, 189, 190, 191, 192, 193, 194, 195, 196, 197, 198, 199, 200, 201, 202, 203, 204, 205, 206, 207, 208, 209, 210, 211, 212, 213, 214, 215, 216, 217, 218, 219, 220, 221, 222, 223, 224, 225, 226, 227, 228, 229, 230, 231, 232, 233, 234, 235, 236, 237, 238, 239, 240, 241, 242, 243, 244, 245, 246, 247, 248, 249, 250, 251, 252, 253, 254, 255, 256, 257, 258, 259, 260, 261, 262, 263, 264, 265, 266, 267, 268, 269, 270, 271, 272, 273, 274, 275, 276, 277, 278, 279, 280, 281, 282, 283, 284, 285, 286, 287, 288, 289, 290, 291, 292, 293, 294, 295, 296, 297, 298, 299, 300, 301, 302, 303, 304, 308, 309, 310, 311, 312, 313, 314, 315, 316, 317, 318, 319, 320, 321, 322, 323, 324, 325, 326, 327, 328, 329, 330, 331, 332, 333, 334, 335, 336, 337, 338, 339, 340, 341, 342, 343, 344, 345, 346, 347, 348, 349, 350, 351, 352, 353, 354, 355, 356, 357, 358, 359, 360, 361, 362, 363, 364, 365, 366, 367, 368, 369, 370, 371, 372, 373, 374, 375, 376, 377, 378, 379, 380, 381, 382, 383, 384, 385, 386, 387, 388, 389, 390, 391, 392, 393, 394, 395, 396, 397, 398, 399, 400, 401, 402, 403, 404, 405, 406, 407, 408, 409, 410, 411, 412, 413, 414, 415, 416, 417, 418, 419, 420, 421, 422, 423, 424, 425, 426, 427, 428, 429, 430, 431, 432, 433, 434, 435, 436, 437, 438, 439, 440, 441, 442, 443, 444, 445, 446, 447, 448, 449, 450, 451, 452, 453, 454, 455, 456, 457, 458, 459, 460, 461, 462, 463, 464, 465, 466, 467, 468, 469, 470, 471, 472, 473, 474, 475, 476, 477, 478, 479, 480, 481, 482, 483, 484, 485, 486, 487, 488, 489, 490, 491, 492, 493, 494, 495, 496, 497, 498, 499, 500, 501, 502, 503, 504, 505, 506, 507, 508, 509, 510, 511, 512, 513, 514, 515, 516, 517, 518, 519, 520, 521, 522, 523, 524, 525, 526, 527, 528, 529, 530, 531, 532, 533, 534, 535, 536, 537, 538, 539, 540, 541, 542, 543, 544, 545, 546, 547, 548, 549, 550, 551, 552, 553, 554, 555, 556, 557, 558, 559, 560, 561, 562, 563, 564, 565, 566, 567, 568, 569, 570, 571, 572, 573, 574, 575, 576, 577, 578, 579, 580, 581, 582, 583, 584, 585, 586, 587, 588, 589, 590, 591, 592, 593, 594, 595, 596, 597, 598, 599, 600, 601, 602, 603, 604, 605, 606, 607, 608, 609, 610, 611, 612, 613, 614, 615, 616, 617, 618, 619, 620, 621, 622, 623, 624, 625, 626, 627, 628, 629, 630, 631, 632, 633, 634, 635, 636, 637, 638, 639, 640, 641, 642, 643, 644, 645, 646, 647, 648, 649, 650, 651, 652, 653, 654, 655, 656, 657, 658, 659, 660, 661, 662, 663, 664, 665, 666, 667, 668, 669, 670, 671, 672, 673, 674, 675, 676, 677, 678, 679, 680, 681, 682, 683, 684, 685, 686, 687, 688, 689, 690, 691, 692, 693, 694, 695, 696, 697, 698, 699, 700, 701, 702, 703, 704, 705, 706, 707, 708, 709, 710, 711, 712, 713, 714, 715, 716, 717, 718, 719, 720, 721, 722, 723, 724, 725, 726, 727, 728, 729, 730, 731, 732, 733, 734, 735, 736, 737, 738, 739, 740, 741, 742, 743, 744, 745, 746, 747, 748, 749, 750, 751, 752, 753, 754, 755, 756, 757, 758, 759, 760, 761, 762, 763, 764, 765, 766, 767, 768, 769, 770, 771, 772, 773, 774, 775, 776, 777, 778, 779, 780, 781, 782, 783, 784, 785, 786, 787, 788, 789, 790, 791, 792, 793, 794, 795, 796, 797, 798, 799, 800, 801, 802, 803, 804, 805, 806, 807, 808, 809, 810, 811, 812, 813, 814, 815, 816, 817, 818, 819, 820, 821, 822, 823, 824, 825, 826, 827, 828, 829, 830, 831, 832, 833, 834, 835, 836, 837, 838, 839, 840, 841, 842, 843, 844, 845, 846, 847, 848, 849, 850, 851, 852, 853, 854, 855, 856, 857, 858, 859, 860, 861, 862, 863, 864, 865, 866, 867, 868, 869, 870, 871, 872, 873, 874, 875, 876, 877, 878, 879, 880, 881, 882, 883, 884, 885, 886, 887, 888, 889, 890, 891, 892, 893, 894, 895, 896, 897, 898, 899, 900, 901, 902, 903, 904, 905, 906, 907, 908, 909, 910, 911, 912, 913, 914, 915, 916, 917, 918, 919, 920, 921, 922, 923, 924, 925, 926, 927, 928, 929, 930, 931, 932, 933, 934, 935, 936, 937, 938, 939, 940, 941, 942, 943, 944, 945, 946, 947, 948, 949, 950, 951, 952, 953, 954, 955, 956, 957, 958, 959, 960, 961, 962, 963, 964, 965, 966, 967, 968, 969, 970, 971, 972, 973, 974, 975, 976, 977, 978, 979, 980, 981, 982, 983, 984, 985, 986, 987, 988, 989, 990, 991, 992, 993, 994, 995, 996, 997, 998, 999, 1000, 1001, 1002, 1003, 1004, 1005, 1006, 1007, 1008, 1009, 1010, 1011, 1012, 1013, 1014, 1015, 1016, 1017, 1018, 1019, 1020, 1021, 1022, 1023, 1024, 1025, 1026, 1027, 1028, 1029, 1030, 1031, 1032, 1033, 1034, 1035, 1036, 1037, 1038, 1039, 1040, 1041, 1042, 1043, 1044, 1045, 1046, 1047, 1048, 1049, 1050, 1051, 1052, 1053, 1054, 1055, 1056, 1057, 1058, 1059, 1060, 1061, 1062, 1063, 1064, 1065, 1066, 1067, 1068, 1069, 1070, 1071, 1072, 1073, 1074, 1075, 1076, 1077, 1078, 1079, 1080, 1081, 1082, 1083, 1084, 1085, 1086, 1087, 1088, 1089, 1090, 1091, 1092, 1093, 1094, 1095, 1096, 1097, 1098, 1099, 1100, 1101, 1102, 1103, 1104, 1105, 1106, 1107, 1108, 1109, 1110, 1111, 1112, 1113, 1114, 1115, 1116, 1117, 1118, 1119, 1120, 1121, 1122, 1123, 1124, 1125, 1126, 1127, 1128, 1129, 1130, 1131, 1132, 1133, 1134, 1136, 1137, 1138, 1139, 1140, 1141, 1142, 1143, 1144, 1145, 1146, 1147, 1148, 1149, 1150, 1151, 1152, 1153, 1155, 1156, 1157, 1158, 1159, 1160, 1161, 1162, 1163, 1164, 1165, 1166, 1167, 1168, 1169, 1170, 1171, 1172, 1179, 1180, 1181, 1182, 1183, 1184, 1185, 1186, 1187, 1188, 1189, 1190, 1191, 1192, 1193, 1194, 1195, 1196, 1197, 1198, 1199, 1200, 1201, 1202, 1203, 1204, 1205, 1206, 1207, 1208, 1209, 1210, 1211, 1212, 1213, 1214, 1215, 1216, 1217, 1218, 1219, 1220, 1221, 1222, 1223, 1224, 1225, 1226, 1227, 1228, 1229, 1230, 1231, 1232, 1233, 1234, 1235, 1236, 1237, 1238, 1239, 1240, 1241, 1242, 1243, 1244, 1245, 1246, 1247, 1248, 1249, 1250, 1251, 1252, 1253, 1254, 1255, 1256, 1257, 1258, 1259, 1260, 1261, 1262, 1263, 1265, 1269, 1270, 1271, 1272, 1273, 1274, 1462, 1484, 1485, 1486, 1487, 1499, 1500, 1501, 1502, 1503, 1504, 1505, 1506, 1507, 1508, 1509, 1510, 1511, 1512, 1513, 1514, 1515, 1516, 1517, 1518, 1519, 1520, 1521, 1522, 1523, 1524, 1525, 1526, 1527, 1528, 1529, 1530, 1531, 1532, 1533, 1534, 1535, 1536, 1537, 1538, 1539, 1540, 1541, 1542, 1543, 1544, 1545, 1546, 1547, 1548, 1549, 1550, 1551, 1552, 1553, 1557, 1558, 1559, 1560, 1561, 1562, 1563, 1564, 1565, 1566, 1585, 1586, 1587, 1588, 1589]\n",
      "Eliminant columnes 2\n",
      "✅ La columna 'Total_Del' no està al DataFrame.\n",
      "Creant dataset inicial\n",
      "Creant dataset origen\n",
      "(72, 15)\n",
      "Creant dataset origen\n",
      "(72, 37)\n",
      "Delictes comesos\n",
      "(72, 15)\n",
      "Dataset final\n",
      "(72, 15)\n",
      "Dataset final\n",
      "(72, 53)\n"
     ]
    },
    {
     "name": "stderr",
     "output_type": "stream",
     "text": [
      "c:\\Users\\jjf20\\OneDrive\\Documents\\Universitat\\TFG\\crear_dataset.py:158: SettingWithCopyWarning: \n",
      "A value is trying to be set on a copy of a slice from a DataFrame.\n",
      "Try using .loc[row_indexer,col_indexer] = value instead\n",
      "\n",
      "See the caveats in the documentation: https://pandas.pydata.org/pandas-docs/stable/user_guide/indexing.html#returning-a-view-versus-a-copy\n",
      "  df_actual['Gitanos'] = np.where(df_anterior['Etnia'] ==1, 1, 0)\n",
      "c:\\Users\\jjf20\\OneDrive\\Documents\\Universitat\\TFG\\crear_dataset.py:159: SettingWithCopyWarning: \n",
      "A value is trying to be set on a copy of a slice from a DataFrame.\n",
      "Try using .loc[row_indexer,col_indexer] = value instead\n",
      "\n",
      "See the caveats in the documentation: https://pandas.pydata.org/pandas-docs/stable/user_guide/indexing.html#returning-a-view-versus-a-copy\n",
      "  df_actual['Magrebins'] = np.where(df_anterior['Etnia'] ==2, 1, 0)\n",
      "c:\\Users\\jjf20\\OneDrive\\Documents\\Universitat\\TFG\\crear_dataset.py:160: SettingWithCopyWarning: \n",
      "A value is trying to be set on a copy of a slice from a DataFrame.\n",
      "Try using .loc[row_indexer,col_indexer] = value instead\n",
      "\n",
      "See the caveats in the documentation: https://pandas.pydata.org/pandas-docs/stable/user_guide/indexing.html#returning-a-view-versus-a-copy\n",
      "  df_actual['Subsaharians'] = np.where(df_anterior['Etnia'] ==3, 1, 0)\n",
      "c:\\Users\\jjf20\\OneDrive\\Documents\\Universitat\\TFG\\crear_dataset.py:161: SettingWithCopyWarning: \n",
      "A value is trying to be set on a copy of a slice from a DataFrame.\n",
      "Try using .loc[row_indexer,col_indexer] = value instead\n",
      "\n",
      "See the caveats in the documentation: https://pandas.pydata.org/pandas-docs/stable/user_guide/indexing.html#returning-a-view-versus-a-copy\n",
      "  df_actual['Llatins'] = np.where(df_anterior['Etnia'] ==4, 1, 0)\n",
      "c:\\Users\\jjf20\\OneDrive\\Documents\\Universitat\\TFG\\crear_dataset.py:162: SettingWithCopyWarning: \n",
      "A value is trying to be set on a copy of a slice from a DataFrame.\n",
      "Try using .loc[row_indexer,col_indexer] = value instead\n",
      "\n",
      "See the caveats in the documentation: https://pandas.pydata.org/pandas-docs/stable/user_guide/indexing.html#returning-a-view-versus-a-copy\n",
      "  df_actual['Caucasics'] = np.where(df_anterior['Etnia'] ==5, 1, 0)\n",
      "c:\\Users\\jjf20\\OneDrive\\Documents\\Universitat\\TFG\\crear_dataset.py:163: SettingWithCopyWarning: \n",
      "A value is trying to be set on a copy of a slice from a DataFrame.\n",
      "Try using .loc[row_indexer,col_indexer] = value instead\n",
      "\n",
      "See the caveats in the documentation: https://pandas.pydata.org/pandas-docs/stable/user_guide/indexing.html#returning-a-view-versus-a-copy\n",
      "  df_actual['Asiatics'] = np.where(df_anterior['Etnia'] ==6, 1, 0)\n",
      "c:\\Users\\jjf20\\OneDrive\\Documents\\Universitat\\TFG\\crear_dataset.py:164: SettingWithCopyWarning: \n",
      "A value is trying to be set on a copy of a slice from a DataFrame.\n",
      "Try using .loc[row_indexer,col_indexer] = value instead\n",
      "\n",
      "See the caveats in the documentation: https://pandas.pydata.org/pandas-docs/stable/user_guide/indexing.html#returning-a-view-versus-a-copy\n",
      "  df_actual['Eslaus'] = np.where(df_anterior['Etnia'] ==7, 1, 0)\n",
      "c:\\Users\\jjf20\\OneDrive\\Documents\\Universitat\\TFG\\crear_dataset.py:166: SettingWithCopyWarning: \n",
      "A value is trying to be set on a copy of a slice from a DataFrame.\n",
      "Try using .loc[row_indexer,col_indexer] = value instead\n",
      "\n",
      "See the caveats in the documentation: https://pandas.pydata.org/pandas-docs/stable/user_guide/indexing.html#returning-a-view-versus-a-copy\n",
      "  df_actual['Espanya'] = np.where(df_anterior['nacionalitat_agrupat'] == 1, 1, 0)\n",
      "c:\\Users\\jjf20\\OneDrive\\Documents\\Universitat\\TFG\\crear_dataset.py:167: SettingWithCopyWarning: \n",
      "A value is trying to be set on a copy of a slice from a DataFrame.\n",
      "Try using .loc[row_indexer,col_indexer] = value instead\n",
      "\n",
      "See the caveats in the documentation: https://pandas.pydata.org/pandas-docs/stable/user_guide/indexing.html#returning-a-view-versus-a-copy\n",
      "  df_actual['Unio_Europea'] = np.where(df_anterior['nacionalitat_agrupat'] == 2, 1, 0)\n",
      "c:\\Users\\jjf20\\OneDrive\\Documents\\Universitat\\TFG\\crear_dataset.py:168: SettingWithCopyWarning: \n",
      "A value is trying to be set on a copy of a slice from a DataFrame.\n",
      "Try using .loc[row_indexer,col_indexer] = value instead\n",
      "\n",
      "See the caveats in the documentation: https://pandas.pydata.org/pandas-docs/stable/user_guide/indexing.html#returning-a-view-versus-a-copy\n",
      "  df_actual['Resta_Europa'] = np.where(df_anterior['nacionalitat_agrupat'] == 3, 1, 0)\n",
      "c:\\Users\\jjf20\\OneDrive\\Documents\\Universitat\\TFG\\crear_dataset.py:169: SettingWithCopyWarning: \n",
      "A value is trying to be set on a copy of a slice from a DataFrame.\n",
      "Try using .loc[row_indexer,col_indexer] = value instead\n",
      "\n",
      "See the caveats in the documentation: https://pandas.pydata.org/pandas-docs/stable/user_guide/indexing.html#returning-a-view-versus-a-copy\n",
      "  df_actual['Magreb'] = np.where(df_anterior['nacionalitat_agrupat'] == 4, 1, 0)\n",
      "c:\\Users\\jjf20\\OneDrive\\Documents\\Universitat\\TFG\\crear_dataset.py:170: SettingWithCopyWarning: \n",
      "A value is trying to be set on a copy of a slice from a DataFrame.\n",
      "Try using .loc[row_indexer,col_indexer] = value instead\n",
      "\n",
      "See the caveats in the documentation: https://pandas.pydata.org/pandas-docs/stable/user_guide/indexing.html#returning-a-view-versus-a-copy\n",
      "  df_actual['Resta_Africa'] = np.where(df_anterior['nacionalitat_agrupat'] == 5, 1, 0)\n",
      "c:\\Users\\jjf20\\OneDrive\\Documents\\Universitat\\TFG\\crear_dataset.py:171: SettingWithCopyWarning: \n",
      "A value is trying to be set on a copy of a slice from a DataFrame.\n",
      "Try using .loc[row_indexer,col_indexer] = value instead\n",
      "\n",
      "See the caveats in the documentation: https://pandas.pydata.org/pandas-docs/stable/user_guide/indexing.html#returning-a-view-versus-a-copy\n",
      "  df_actual['Centre_Sud_America'] = np.where(df_anterior['nacionalitat_agrupat'] == 6, 1, 0)\n",
      "c:\\Users\\jjf20\\OneDrive\\Documents\\Universitat\\TFG\\crear_dataset.py:172: SettingWithCopyWarning: \n",
      "A value is trying to be set on a copy of a slice from a DataFrame.\n",
      "Try using .loc[row_indexer,col_indexer] = value instead\n",
      "\n",
      "See the caveats in the documentation: https://pandas.pydata.org/pandas-docs/stable/user_guide/indexing.html#returning-a-view-versus-a-copy\n",
      "  df_actual['Asia'] = np.where(df_anterior['nacionalitat_agrupat'] == 7, 1, 0)\n",
      "c:\\Users\\jjf20\\OneDrive\\Documents\\Universitat\\TFG\\crear_dataset.py:173: SettingWithCopyWarning: \n",
      "A value is trying to be set on a copy of a slice from a DataFrame.\n",
      "Try using .loc[row_indexer,col_indexer] = value instead\n",
      "\n",
      "See the caveats in the documentation: https://pandas.pydata.org/pandas-docs/stable/user_guide/indexing.html#returning-a-view-versus-a-copy\n",
      "  df_actual['Resta_Mon'] = np.where(df_anterior['nacionalitat_agrupat'] == 8, 1, 0)\n",
      "c:\\Users\\jjf20\\OneDrive\\Documents\\Universitat\\TFG\\crear_dataset.py:174: SettingWithCopyWarning: \n",
      "A value is trying to be set on a copy of a slice from a DataFrame.\n",
      "Try using .loc[row_indexer,col_indexer] = value instead\n",
      "\n",
      "See the caveats in the documentation: https://pandas.pydata.org/pandas-docs/stable/user_guide/indexing.html#returning-a-view-versus-a-copy\n",
      "  df_actual['Nord_America'] = np.where(df_anterior['nacionalitat_agrupat'] == 9, 1, 0)\n",
      "c:\\Users\\jjf20\\OneDrive\\Documents\\Universitat\\TFG\\crear_dataset.py:176: SettingWithCopyWarning: \n",
      "A value is trying to be set on a copy of a slice from a DataFrame.\n",
      "Try using .loc[row_indexer,col_indexer] = value instead\n",
      "\n",
      "See the caveats in the documentation: https://pandas.pydata.org/pandas-docs/stable/user_guide/indexing.html#returning-a-view-versus-a-copy\n",
      "  df_actual['Pares_Catalans'] = np.where(df_anterior['OrgnFam'] == 1, 1, 0)\n",
      "c:\\Users\\jjf20\\OneDrive\\Documents\\Universitat\\TFG\\crear_dataset.py:177: SettingWithCopyWarning: \n",
      "A value is trying to be set on a copy of a slice from a DataFrame.\n",
      "Try using .loc[row_indexer,col_indexer] = value instead\n",
      "\n",
      "See the caveats in the documentation: https://pandas.pydata.org/pandas-docs/stable/user_guide/indexing.html#returning-a-view-versus-a-copy\n",
      "  df_actual['Pare_Catala_Altres_Espanya'] = np.where(df_anterior['OrgnFam'] == 2, 1, 0)\n",
      "c:\\Users\\jjf20\\OneDrive\\Documents\\Universitat\\TFG\\crear_dataset.py:178: SettingWithCopyWarning: \n",
      "A value is trying to be set on a copy of a slice from a DataFrame.\n",
      "Try using .loc[row_indexer,col_indexer] = value instead\n",
      "\n",
      "See the caveats in the documentation: https://pandas.pydata.org/pandas-docs/stable/user_guide/indexing.html#returning-a-view-versus-a-copy\n",
      "  df_actual['Pare_Catala_Fora_Espanya'] = np.where(df_anterior['OrgnFam'] == 3, 1, 0)\n",
      "c:\\Users\\jjf20\\OneDrive\\Documents\\Universitat\\TFG\\crear_dataset.py:179: SettingWithCopyWarning: \n",
      "A value is trying to be set on a copy of a slice from a DataFrame.\n",
      "Try using .loc[row_indexer,col_indexer] = value instead\n",
      "\n",
      "See the caveats in the documentation: https://pandas.pydata.org/pandas-docs/stable/user_guide/indexing.html#returning-a-view-versus-a-copy\n",
      "  df_actual['Pares_No_Catalans_Espanya'] = np.where(df_anterior['OrgnFam'] == 4, 1, 0)\n",
      "c:\\Users\\jjf20\\OneDrive\\Documents\\Universitat\\TFG\\crear_dataset.py:180: SettingWithCopyWarning: \n",
      "A value is trying to be set on a copy of a slice from a DataFrame.\n",
      "Try using .loc[row_indexer,col_indexer] = value instead\n",
      "\n",
      "See the caveats in the documentation: https://pandas.pydata.org/pandas-docs/stable/user_guide/indexing.html#returning-a-view-versus-a-copy\n",
      "  df_actual['Pares_No_Catalans_Un_Espanya'] = np.where(df_anterior['OrgnFam'] == 5, 1, 0)\n",
      "c:\\Users\\jjf20\\OneDrive\\Documents\\Universitat\\TFG\\crear_dataset.py:181: SettingWithCopyWarning: \n",
      "A value is trying to be set on a copy of a slice from a DataFrame.\n",
      "Try using .loc[row_indexer,col_indexer] = value instead\n",
      "\n",
      "See the caveats in the documentation: https://pandas.pydata.org/pandas-docs/stable/user_guide/indexing.html#returning-a-view-versus-a-copy\n",
      "  df_actual['Pares_Fora_Espanya'] = np.where(df_anterior['OrgnFam'] == 6, 1, 0)\n"
     ]
    }
   ],
   "source": [
    "\n",
    "df_orig, meta = pyreadstat.read_sav(\"CEJFEAjut2015Updated.sav\")\n",
    "\n",
    "df_variables = pd.read_csv(\"variables.csv\", sep=';')\n",
    "\n",
    "dict = create_dict(meta)\n",
    "\n",
    "df_psico = dataset_psicologia(df_orig, dict,df_variables)\n",
    "\n",
    "df = drop_all_columns(df_psico, meta, df_variables, dict)\n",
    "\n",
    "df_inicial = dataset_inicial(df_orig, dict)\n",
    "\n",
    "# Aplanem els noms de columna per evitar problemes\n",
    "df_inicial.columns = [str(col) for col in df_inicial.columns]\n",
    "\n",
    "# Reiniciem índexs per alineació segura\n",
    "df = df.reset_index(drop=True)\n",
    "df_inicial = df_inicial.reset_index(drop=True)\n",
    "\n",
    "# Eliminem del df_inicial les columnes que ja són a df\n",
    "columnes_duplicades = df.columns.intersection(df_inicial.columns)\n",
    "df_inicial = df_inicial.drop(columns=columnes_duplicades)\n",
    "\n",
    "# Ara sí, concat segura\n",
    "df = pd.concat([df, df_inicial], axis=1)\n",
    "\n",
    "\n",
    "df['temps_fins_reincidencia1a'] = df_orig['temps_fins_reincidencia1a']\n",
    "\n",
    "df['temps_fins_reincidencia1a'] = df['temps_fins_reincidencia1a'].apply(lambda x: 1095 if x > 1095 else x)"
   ]
  },
  {
   "cell_type": "code",
   "execution_count": 51,
   "metadata": {},
   "outputs": [
    {
     "name": "stdout",
     "output_type": "stream",
     "text": [
      "Comprovant columnes després del concat:\n"
     ]
    }
   ],
   "source": [
    "print(\"Comprovant columnes després del concat:\")\n",
    "for col in df.columns:\n",
    "    if isinstance(df[col], pd.DataFrame):\n",
    "        print(f\"⚠️ Columna {col} és un DataFrame!\")\n",
    "    elif df[col].ndim > 1:\n",
    "        print(f\"⚠️ Columna {col} té més d'una dimensió! shape = {df[col].shape}\")"
   ]
  },
  {
   "cell_type": "code",
   "execution_count": 52,
   "metadata": {},
   "outputs": [
    {
     "name": "stdout",
     "output_type": "stream",
     "text": [
      "Mirem quants nans tenim a cada columna\n",
      "Columnes netejades\n"
     ]
    }
   ],
   "source": [
    "print(\"Mirem quants nans tenim a cada columna\")\n",
    "\n",
    "netejat,df = neteja_na_columns(df, llindar=0.6)\n",
    "\n",
    "\n",
    "df = omple_nans(df)\n",
    "\n",
    "print(\"Columnes netejades\")\n",
    "## fem label encoding de les columnes categòriques\n",
    "df = label_encoding(df)\n"
   ]
  },
  {
   "cell_type": "code",
   "execution_count": 53,
   "metadata": {},
   "outputs": [
    {
     "name": "stdout",
     "output_type": "stream",
     "text": [
      "Hem netejat les columnes i hem fet label encoding\n",
      "Tenim  405  columnes\n"
     ]
    }
   ],
   "source": [
    "num_columnes = df.shape[1]\n",
    "print(\"Hem netejat les columnes i hem fet label encoding\")\n",
    "print(\"Tenim \", num_columnes, \" columnes\")"
   ]
  },
  {
   "cell_type": "code",
   "execution_count": 54,
   "metadata": {},
   "outputs": [],
   "source": [
    "X_train, X_test, y_train, y_test = train_test_split(df.drop(columns='temps_fins_reincidencia1a'), df['temps_fins_reincidencia1a'], test_size=0.2,random_state=20)\n"
   ]
  },
  {
   "cell_type": "code",
   "execution_count": 55,
   "metadata": {},
   "outputs": [],
   "source": [
    "from sklearn.preprocessing import StandardScaler\n",
    "\n",
    "scaler = StandardScaler()\n",
    "X_train = scaler.fit_transform(X_train)\n",
    "\n",
    "X_train = pd.DataFrame(X_train, columns=df.drop(columns='temps_fins_reincidencia1a').columns)"
   ]
  },
  {
   "cell_type": "code",
   "execution_count": 56,
   "metadata": {},
   "outputs": [
    {
     "name": "stderr",
     "output_type": "stream",
     "text": [
      "100%|██████████| 50/50 [03:11<00:00,  3.83s/it]\n"
     ]
    },
    {
     "name": "stdout",
     "output_type": "stream",
     "text": [
      "Bootstraps:50, Threshold:0.6, MinRatio:0.3 => Seleccionades:394\n"
     ]
    },
    {
     "name": "stderr",
     "output_type": "stream",
     "text": [
      "100%|██████████| 50/50 [02:49<00:00,  3.39s/it]\n"
     ]
    },
    {
     "name": "stdout",
     "output_type": "stream",
     "text": [
      "Bootstraps:50, Threshold:0.6, MinRatio:0.5 => Seleccionades:325\n"
     ]
    },
    {
     "name": "stderr",
     "output_type": "stream",
     "text": [
      "100%|██████████| 50/50 [05:40<00:00,  6.81s/it]\n"
     ]
    },
    {
     "name": "stdout",
     "output_type": "stream",
     "text": [
      "Bootstraps:50, Threshold:0.6, MinRatio:0.7 => Seleccionades:160\n"
     ]
    },
    {
     "name": "stderr",
     "output_type": "stream",
     "text": [
      "100%|██████████| 50/50 [07:05<00:00,  8.51s/it]\n"
     ]
    },
    {
     "name": "stdout",
     "output_type": "stream",
     "text": [
      "Bootstraps:50, Threshold:0.7, MinRatio:0.3 => Seleccionades:130\n"
     ]
    },
    {
     "name": "stderr",
     "output_type": "stream",
     "text": [
      "100%|██████████| 50/50 [06:52<00:00,  8.26s/it]\n"
     ]
    },
    {
     "name": "stdout",
     "output_type": "stream",
     "text": [
      "Bootstraps:50, Threshold:0.7, MinRatio:0.5 => Seleccionades:47\n"
     ]
    },
    {
     "name": "stderr",
     "output_type": "stream",
     "text": [
      "100%|██████████| 50/50 [05:23<00:00,  6.47s/it]\n"
     ]
    },
    {
     "name": "stdout",
     "output_type": "stream",
     "text": [
      "Bootstraps:50, Threshold:0.7, MinRatio:0.7 => Seleccionades:11\n"
     ]
    },
    {
     "name": "stderr",
     "output_type": "stream",
     "text": [
      "100%|██████████| 50/50 [04:12<00:00,  5.06s/it]\n"
     ]
    },
    {
     "name": "stdout",
     "output_type": "stream",
     "text": [
      "Bootstraps:50, Threshold:0.8, MinRatio:0.3 => Seleccionades:19\n"
     ]
    },
    {
     "name": "stderr",
     "output_type": "stream",
     "text": [
      "100%|██████████| 50/50 [04:12<00:00,  5.04s/it]\n"
     ]
    },
    {
     "name": "stdout",
     "output_type": "stream",
     "text": [
      "Bootstraps:50, Threshold:0.8, MinRatio:0.5 => Seleccionades:3\n"
     ]
    },
    {
     "name": "stderr",
     "output_type": "stream",
     "text": [
      "100%|██████████| 50/50 [04:25<00:00,  5.31s/it]\n"
     ]
    },
    {
     "name": "stdout",
     "output_type": "stream",
     "text": [
      "Bootstraps:50, Threshold:0.8, MinRatio:0.7 => Seleccionades:1\n"
     ]
    },
    {
     "name": "stderr",
     "output_type": "stream",
     "text": [
      "100%|██████████| 100/100 [08:53<00:00,  5.34s/it]\n"
     ]
    },
    {
     "name": "stdout",
     "output_type": "stream",
     "text": [
      "Bootstraps:100, Threshold:0.6, MinRatio:0.3 => Seleccionades:394\n"
     ]
    },
    {
     "name": "stderr",
     "output_type": "stream",
     "text": [
      "100%|██████████| 100/100 [09:46<00:00,  5.86s/it]\n"
     ]
    },
    {
     "name": "stdout",
     "output_type": "stream",
     "text": [
      "Bootstraps:100, Threshold:0.6, MinRatio:0.5 => Seleccionades:341\n"
     ]
    },
    {
     "name": "stderr",
     "output_type": "stream",
     "text": [
      "100%|██████████| 100/100 [14:37<00:00,  8.78s/it]\n"
     ]
    },
    {
     "name": "stdout",
     "output_type": "stream",
     "text": [
      "Bootstraps:100, Threshold:0.6, MinRatio:0.7 => Seleccionades:176\n"
     ]
    },
    {
     "name": "stderr",
     "output_type": "stream",
     "text": [
      "100%|██████████| 100/100 [14:37<00:00,  8.78s/it]\n"
     ]
    },
    {
     "name": "stdout",
     "output_type": "stream",
     "text": [
      "Bootstraps:100, Threshold:0.7, MinRatio:0.3 => Seleccionades:137\n"
     ]
    },
    {
     "name": "stderr",
     "output_type": "stream",
     "text": [
      "100%|██████████| 100/100 [12:36<00:00,  7.57s/it]\n"
     ]
    },
    {
     "name": "stdout",
     "output_type": "stream",
     "text": [
      "Bootstraps:100, Threshold:0.7, MinRatio:0.5 => Seleccionades:38\n"
     ]
    },
    {
     "name": "stderr",
     "output_type": "stream",
     "text": [
      "100%|██████████| 100/100 [08:26<00:00,  5.06s/it]\n"
     ]
    },
    {
     "name": "stdout",
     "output_type": "stream",
     "text": [
      "Bootstraps:100, Threshold:0.7, MinRatio:0.7 => Seleccionades:8\n"
     ]
    },
    {
     "name": "stderr",
     "output_type": "stream",
     "text": [
      "100%|██████████| 100/100 [07:31<00:00,  4.52s/it]\n"
     ]
    },
    {
     "name": "stdout",
     "output_type": "stream",
     "text": [
      "Bootstraps:100, Threshold:0.8, MinRatio:0.3 => Seleccionades:15\n"
     ]
    },
    {
     "name": "stderr",
     "output_type": "stream",
     "text": [
      "100%|██████████| 100/100 [13:08<00:00,  7.88s/it]\n"
     ]
    },
    {
     "name": "stdout",
     "output_type": "stream",
     "text": [
      "Bootstraps:100, Threshold:0.8, MinRatio:0.5 => Seleccionades:2\n"
     ]
    },
    {
     "name": "stderr",
     "output_type": "stream",
     "text": [
      "100%|██████████| 100/100 [14:22<00:00,  8.63s/it]"
     ]
    },
    {
     "name": "stdout",
     "output_type": "stream",
     "text": [
      "Bootstraps:100, Threshold:0.8, MinRatio:0.7 => Seleccionades:1\n"
     ]
    },
    {
     "name": "stderr",
     "output_type": "stream",
     "text": [
      "\n"
     ]
    }
   ],
   "source": [
    "from enns import *\n",
    "\n",
    "# Creem un diccionari per emmagatzemar els resultats\n",
    "resultats_enns = {}\n",
    "\n",
    "# Fem les iteracions\n",
    "for nb in [50, 100]:\n",
    "    for it in [0.6, 0.7, 0.8]:\n",
    "        for msr in [0.3, 0.5, 0.7]:\n",
    "            selected_features = enns(X_train, y_train, n_bootstraps=nb, importance_threshold=it, min_selection_ratio=msr)\n",
    "            \n",
    "            # Creem una clau identificativa per aquests paràmetres\n",
    "            clau = (nb, it, msr)\n",
    "            \n",
    "            # Guardem el resultat al diccionari\n",
    "            resultats_enns[clau] = selected_features\n",
    "            \n",
    "            print(f\"Bootstraps:{nb}, Threshold:{it}, MinRatio:{msr} => Seleccionades:{len(selected_features)}\")\n"
   ]
  },
  {
   "cell_type": "code",
   "execution_count": 57,
   "metadata": {},
   "outputs": [],
   "source": [
    "# Escriure els resultats ja emmagatzemats al diccionari en un fitxer\n",
    "with open(\"resultats_enns.txt\", \"w\") as f:\n",
    "    for clau, selected_features in resultats_enns.items():\n",
    "        nb, it, msr = clau\n",
    "        f.write(f\"Parameters:\\n\")\n",
    "        f.write(f\"  - Bootstraps: {nb}\\n\")\n",
    "        f.write(f\"  - Threshold: {it}\\n\")\n",
    "        f.write(f\"  - MinRatio: {msr}\\n\")\n",
    "        f.write(f\"Selected features ({len(selected_features)}):\\n\")\n",
    "        for feat in selected_features:\n",
    "            f.write(f\"  · {feat}\\n\")\n",
    "        f.write(\"-\" * 60 + \"\\n\")\n"
   ]
  },
  {
   "cell_type": "code",
   "execution_count": 58,
   "metadata": {},
   "outputs": [
    {
     "name": "stdout",
     "output_type": "stream",
     "text": [
      "Les columnes seleccionades són: [  0   2   4   5   6   7   8  10  11  12  13  14  15  16  17  23  24  27\n",
      "  28  33  34  35  36  44  45  47  50  51  59  60  62  65  75  76  77  82\n",
      "  91  92  93  95  99 101 102 112 118 120 123 125 133 137 146 149 150 151\n",
      " 152 161 175 179 184 187 192 195 201 208 210 211 214 215 218 224 227 228\n",
      " 238 240 242 247 251 256 268 273 275 278 284 285 290 291 292 293 296 300\n",
      " 309 310 313 319 322 326 336 338 341 355 359 360 361 362 363 364 365 369\n",
      " 370 371 374 375 378 379 383 385 386 387 389 390 392 393 394 395 396 397\n",
      " 400 401 402 403]\n"
     ]
    }
   ],
   "source": [
    "columnes_seleccionades = resultats_enns[(50, 0.7, 0.3)]\n",
    "print(\"Les columnes seleccionades són:\", columnes_seleccionades)\n"
   ]
  },
  {
   "cell_type": "code",
   "execution_count": 59,
   "metadata": {},
   "outputs": [
    {
     "name": "stdout",
     "output_type": "stream",
     "text": [
      "['RAVEN01', 'RAVEN03', 'RAVEN05', 'RAVEN_PD', 'RAVEN_Pc', 'RAVEN_IQ', 'RAVENbarem', 'Raven_IQ2', 'RavenZ_2', 'Raven_IQ3', 'SAVRY01', 'SAVRY02', 'SAVRY03', 'SAVRY04', 'SAVRY05', 'SAVRY11', 'SAVRY12', 'SAVRY15', 'SAVRY16', 'SAVRY21', 'SAVRY22', 'SAVRY23', 'SAVRY24', 'SAVRY37', 'SAVRY39', 'SAVRY28', 'SAVRY29', 'DD01', 'DD09', 'DD10', 'DD12', 'VAST03', 'VAST13', 'VAST14', 'VAST15', 'VAST20', 'PCLe09', 'PCLe10', 'PCLe11', 'PCLe13', 'PCLe17', 'PCLe19', 'PCLe20', 'PCLo05', 'PCLo11', 'PCLo13', 'PCLo16', 'PCLo18', 'PCLx01', 'PCLx05', 'PCLx14', 'PCLx17', 'PCLx18', 'PCLx19', 'PCLx20', 'PCLj04', 'PCLj18', 'PCLjFAC_2', 'PCLYVM02', 'PCLYVM05', 'PCLYVM10', 'PCLYVM13', 'PCLYVM19', 'CAPEe01', 'CAPEe03', 'CAPEe04', 'CAPEo03', 'CAPEo04', 'CAPEo203', 'ICUT_UC', 'CCA_VA', 'CCA_AG', 'SD3Narc', 'SAVRYSoc', 'SAVRYTot', 'ICUJ_CA', 'YPI_DC', 'YPI_UN', 'TRFMTotProbT', 'TRFTDSMDepProb', 'TRFTDSMDepProbCat', 'TRFTDSMAnxProbCat', 'TRFTDSMADHDCat', 'TRFTDSMODD', 'TRFTDSMCDCat', 'TRFTDSMObsCom', 'TRFTDSMObsComT', 'TRFTDSMObsComCat', 'TRFTDSMStrProbCat', 'ICUJsp4Extrm', 'YPImssSpN', 'YPIreSpN', 'YPISpN', 'TRFT_WD', 'TRFT_AP', 'TRFM_AD', 'YSRGrupExtCAPEe', 'TRFMGrupExtCAPEe', 'TRFMGrupDSMCDConsCAPEe', 'RPQ_HIGH_PA_RA', 'EdatAD', 'Niv_Esc', 'Total_Del', 'Pri_Exp', 'Nom_Exp', 'Pri_Ing', 'Nom_Ing', 'Subsaharians', 'Llatins', 'Caucasics', 'Espanya', 'Unio_Europea', 'Resta_Africa', 'Centre_Sud_America', 'Pares_Catalans', 'Pare_Catala_Fora_Espanya', 'Pares_No_Catalans_Espanya', 'Pares_No_Catalans_Un_Espanya', 'Robatori', 'Robatori amb violència', 'Lesions', 'Homicidi', 'Delictes sexuals', 'Seguretat vial', 'Delictes patrimonials', 'Quebrantament de condemna', 'Administració de justícia', \"Seguretat de l'Estat\", 'Miscel·lània', 'Delictes molt violents']\n"
     ]
    }
   ],
   "source": [
    "columnes = df.iloc[:, columnes_seleccionades].columns.tolist()\n",
    "# O bé usant els noms directament:\n",
    "print(columnes)\n",
    "\n",
    "X_train_filtrat = X_train[columnes] \n",
    "X_test_filtrat = X_test[columnes]"
   ]
  },
  {
   "cell_type": "code",
   "execution_count": 60,
   "metadata": {},
   "outputs": [
    {
     "name": "stdout",
     "output_type": "stream",
     "text": [
      "\n",
      "Paràmetres ENNS: (50, 0.6, 0.3)\n",
      "   -> Best params: {'max_depth': 30, 'n_estimators': 250}\n",
      "   -> Best MAE: 65662.5962\n",
      "\n",
      "Paràmetres ENNS: (50, 0.6, 0.5)\n",
      "   -> Best params: {'max_depth': 30, 'n_estimators': 250}\n",
      "   -> Best MAE: 64337.0669\n",
      "\n",
      "Paràmetres ENNS: (50, 0.6, 0.7)\n",
      "   -> Best params: {'max_depth': 30, 'n_estimators': 250}\n",
      "   -> Best MAE: 61714.9367\n",
      "\n",
      "Paràmetres ENNS: (50, 0.7, 0.3)\n",
      "   -> Best params: {'max_depth': 30, 'n_estimators': 100}\n",
      "   -> Best MAE: 59028.1297\n",
      "\n",
      "Paràmetres ENNS: (50, 0.7, 0.5)\n",
      "   -> Best params: {'max_depth': 50, 'n_estimators': 250}\n",
      "   -> Best MAE: 53124.5280\n",
      "\n",
      "Paràmetres ENNS: (50, 0.7, 0.7)\n",
      "   -> Best params: {'max_depth': 50, 'n_estimators': 100}\n",
      "   -> Best MAE: 47410.9969\n",
      "\n",
      "Paràmetres ENNS: (50, 0.8, 0.3)\n",
      "   -> Best params: {'max_depth': 50, 'n_estimators': 100}\n",
      "   -> Best MAE: 42204.6414\n",
      "\n",
      "Paràmetres ENNS: (50, 0.8, 0.5)\n",
      "   -> Best params: {'max_depth': 50, 'n_estimators': 250}\n",
      "   -> Best MAE: 70068.4438\n",
      "\n",
      "Paràmetres ENNS: (50, 0.8, 0.7)\n",
      "   -> Best params: {'max_depth': 40, 'n_estimators': 500}\n",
      "   -> Best MAE: 78660.3901\n",
      "\n",
      "Paràmetres ENNS: (100, 0.6, 0.3)\n",
      "   -> Best params: {'max_depth': 50, 'n_estimators': 100}\n",
      "   -> Best MAE: 64829.8220\n",
      "\n",
      "Paràmetres ENNS: (100, 0.6, 0.5)\n",
      "   -> Best params: {'max_depth': 40, 'n_estimators': 250}\n",
      "   -> Best MAE: 63919.7347\n",
      "\n",
      "Paràmetres ENNS: (100, 0.6, 0.7)\n",
      "   -> Best params: {'max_depth': 30, 'n_estimators': 250}\n",
      "   -> Best MAE: 62279.8211\n",
      "\n",
      "Paràmetres ENNS: (100, 0.7, 0.3)\n",
      "   -> Best params: {'max_depth': 50, 'n_estimators': 100}\n",
      "   -> Best MAE: 59284.4732\n",
      "\n",
      "Paràmetres ENNS: (100, 0.7, 0.5)\n",
      "   -> Best params: {'max_depth': 40, 'n_estimators': 500}\n",
      "   -> Best MAE: 55935.2454\n",
      "\n",
      "Paràmetres ENNS: (100, 0.7, 0.7)\n",
      "   -> Best params: {'max_depth': 50, 'n_estimators': 500}\n",
      "   -> Best MAE: 62812.8532\n",
      "\n",
      "Paràmetres ENNS: (100, 0.8, 0.3)\n",
      "   -> Best params: {'max_depth': 40, 'n_estimators': 250}\n",
      "   -> Best MAE: 67432.3648\n",
      "\n",
      "Paràmetres ENNS: (100, 0.8, 0.5)\n",
      "   -> Best params: {'max_depth': 30, 'n_estimators': 100}\n",
      "   -> Best MAE: 75358.7460\n",
      "\n",
      "Paràmetres ENNS: (100, 0.8, 0.7)\n",
      "   -> Best params: {'max_depth': 30, 'n_estimators': 100}\n",
      "   -> Best MAE: 78521.5487\n"
     ]
    }
   ],
   "source": [
    "from sklearn.ensemble import RandomForestRegressor\n",
    "from sklearn.model_selection import GridSearchCV\n",
    "import numpy as np\n",
    "\n",
    "# Diccionari per guardar els resultats dels models\n",
    "resultats_models = {}\n",
    "\n",
    "# Paràmetres per al grid search\n",
    "param_grid = {\n",
    "    'n_estimators': [100, 250, 500],\n",
    "    'max_depth': [30, 40, 50],\n",
    "}\n",
    "\n",
    "# Bucle per entrenar un model amb cada conjunt de columnes seleccionades\n",
    "for clau, columnes_seleccionades in resultats_enns.items():\n",
    "    print(f\"\\nParàmetres ENNS: {clau}\")\n",
    "\n",
    "\n",
    "    # Si hi ha columnes seleccionades, entrenem\n",
    "    if len(columnes_seleccionades) > 0:\n",
    "        # Filtratge de columnes\n",
    "        columnes = df.iloc[:,columnes_seleccionades].columns.tolist()\n",
    "\n",
    "        X_train_filtrat = X_train[columnes]\n",
    "        X_test_filtrat = X_test[columnes]\n",
    "\n",
    "        # Model i Grid Search\n",
    "        rf = RandomForestRegressor()\n",
    "        grid_search = GridSearchCV(\n",
    "            rf,\n",
    "            param_grid,\n",
    "            cv=10,\n",
    "            scoring='neg_mean_squared_error',\n",
    "            return_train_score=True,\n",
    "            n_jobs=-1\n",
    "        )\n",
    "        grid_search.fit(X_train_filtrat, y_train)\n",
    "\n",
    "        # Guardem resultats\n",
    "        resultats_models[clau] = {\n",
    "            \"best_params\": grid_search.best_params_,\n",
    "            \"best_score\": -grid_search.best_score_,\n",
    "            \"num_features\": len(columnes)\n",
    "        }\n",
    "\n",
    "        print(f\"   -> Best params: {grid_search.best_params_}\")\n",
    "        print(f\"   -> Best MAE: {-grid_search.best_score_:.4f}\")\n",
    "    else:\n",
    "        print(\"   -> Cap columna seleccionada. No s'entrena model.\")\n"
   ]
  },
  {
   "cell_type": "code",
   "execution_count": 61,
   "metadata": {},
   "outputs": [
    {
     "name": "stdout",
     "output_type": "stream",
     "text": [
      "\n",
      "Paràmetres ENNS: (50, 0.6, 0.3)\n"
     ]
    },
    {
     "name": "stdout",
     "output_type": "stream",
     "text": [
      "   -> Best params: {'max_depth': 30, 'n_estimators': 100}\n",
      "   -> Best MAE: 196.7180\n",
      "\n",
      "Paràmetres ENNS: (50, 0.6, 0.5)\n",
      "   -> Best params: {'max_depth': 40, 'n_estimators': 100}\n",
      "   -> Best MAE: 195.3693\n",
      "\n",
      "Paràmetres ENNS: (50, 0.6, 0.7)\n",
      "   -> Best params: {'max_depth': 40, 'n_estimators': 100}\n",
      "   -> Best MAE: 199.1373\n",
      "\n",
      "Paràmetres ENNS: (50, 0.7, 0.3)\n",
      "   -> Best params: {'max_depth': 30, 'n_estimators': 100}\n",
      "   -> Best MAE: 186.4647\n",
      "\n",
      "Paràmetres ENNS: (50, 0.7, 0.5)\n",
      "   -> Best params: {'max_depth': 40, 'n_estimators': 100}\n",
      "   -> Best MAE: 179.6572\n",
      "\n",
      "Paràmetres ENNS: (50, 0.7, 0.7)\n",
      "   -> Best params: {'max_depth': 50, 'n_estimators': 100}\n",
      "   -> Best MAE: 171.3114\n",
      "\n",
      "Paràmetres ENNS: (50, 0.8, 0.3)\n",
      "   -> Best params: {'max_depth': 30, 'n_estimators': 500}\n",
      "   -> Best MAE: 165.8431\n",
      "\n",
      "Paràmetres ENNS: (50, 0.8, 0.5)\n",
      "   -> Best params: {'max_depth': 50, 'n_estimators': 500}\n",
      "   -> Best MAE: 190.0428\n",
      "\n",
      "Paràmetres ENNS: (50, 0.8, 0.7)\n",
      "   -> Best params: {'max_depth': 40, 'n_estimators': 100}\n",
      "   -> Best MAE: 205.1440\n",
      "\n",
      "Paràmetres ENNS: (100, 0.6, 0.3)\n",
      "   -> Best params: {'max_depth': 40, 'n_estimators': 100}\n",
      "   -> Best MAE: 196.8717\n",
      "\n",
      "Paràmetres ENNS: (100, 0.6, 0.5)\n",
      "   -> Best params: {'max_depth': 40, 'n_estimators': 250}\n",
      "   -> Best MAE: 195.7017\n",
      "\n",
      "Paràmetres ENNS: (100, 0.6, 0.7)\n",
      "   -> Best params: {'max_depth': 40, 'n_estimators': 250}\n",
      "   -> Best MAE: 197.1651\n",
      "\n",
      "Paràmetres ENNS: (100, 0.7, 0.3)\n",
      "   -> Best params: {'max_depth': 40, 'n_estimators': 500}\n",
      "   -> Best MAE: 193.4863\n",
      "\n",
      "Paràmetres ENNS: (100, 0.7, 0.5)\n",
      "   -> Best params: {'max_depth': 50, 'n_estimators': 500}\n",
      "   -> Best MAE: 185.1273\n",
      "\n",
      "Paràmetres ENNS: (100, 0.7, 0.7)\n",
      "   -> Best params: {'max_depth': 30, 'n_estimators': 250}\n",
      "   -> Best MAE: 190.4922\n",
      "\n",
      "Paràmetres ENNS: (100, 0.8, 0.3)\n",
      "   -> Best params: {'max_depth': 30, 'n_estimators': 100}\n",
      "   -> Best MAE: 197.8201\n",
      "\n",
      "Paràmetres ENNS: (100, 0.8, 0.5)\n",
      "   -> Best params: {'max_depth': 40, 'n_estimators': 100}\n",
      "   -> Best MAE: 196.7516\n",
      "\n",
      "Paràmetres ENNS: (100, 0.8, 0.7)\n",
      "   -> Best params: {'max_depth': 30, 'n_estimators': 250}\n",
      "   -> Best MAE: 204.8944\n"
     ]
    }
   ],
   "source": [
    "from sklearn.ensemble import RandomForestRegressor\n",
    "from sklearn.model_selection import GridSearchCV\n",
    "import numpy as np\n",
    "\n",
    "# Diccionari per guardar els resultats dels models\n",
    "resultats_models = {}\n",
    "\n",
    "# Paràmetres per al grid search\n",
    "param_grid = {\n",
    "    'n_estimators': [100, 250, 500],\n",
    "    'max_depth': [30, 40, 50],\n",
    "}\n",
    "\n",
    "# Bucle per entrenar un model amb cada conjunt de columnes seleccionades\n",
    "for clau, columnes_seleccionades in resultats_enns.items():\n",
    "    print(f\"\\nParàmetres ENNS: {clau}\")\n",
    "\n",
    "\n",
    "    # Si hi ha columnes seleccionades, entrenem\n",
    "    if len(columnes_seleccionades) > 0:\n",
    "        # Filtratge de columnes\n",
    "        columnes = df.iloc[:,columnes_seleccionades].columns.tolist()\n",
    "\n",
    "        X_train_filtrat = X_train[columnes]\n",
    "        \n",
    "\n",
    "        # Model i Grid Search\n",
    "        rf = RandomForestRegressor()\n",
    "        grid_search = GridSearchCV(\n",
    "            rf,\n",
    "            param_grid,\n",
    "            cv=10,\n",
    "            scoring='neg_mean_absolute_error',\n",
    "            return_train_score=True,\n",
    "            n_jobs=-1\n",
    "        )\n",
    "        grid_search.fit(X_train_filtrat, y_train)\n",
    "\n",
    "        # Guardem resultats\n",
    "        resultats_models[clau] = {\n",
    "            \"best_params\": grid_search.best_params_,\n",
    "            \"best_score\": -grid_search.best_score_,\n",
    "            \"best_model\": grid_search.best_estimator_,\n",
    "            \"num_features\": len(columnes)\n",
    "        }\n",
    "\n",
    "        print(f\"   -> Best params: {grid_search.best_params_}\")\n",
    "        print(f\"   -> Best MAE: {-grid_search.best_score_:.4f}\")\n",
    "    else:\n",
    "        print(\"   -> Cap columna seleccionada. No s'entrena model.\")\n"
   ]
  },
  {
   "cell_type": "code",
   "execution_count": 66,
   "metadata": {},
   "outputs": [
    {
     "name": "stdout",
     "output_type": "stream",
     "text": [
      "Les columnes seleccionades són: ['RAVEN01', 'RAVEN03', 'RAVEN05', 'RAVEN_Pc', 'RAVEN_IQ', 'RAVENbarem', 'Raven_IQ2', 'RavenZ_2', 'Raven_IQ3', 'SAVRY01', 'SAVRY02', 'SAVRY03', 'SAVRY04', 'SAVRY05', 'SAVRY07', 'SAVRY11', 'SAVRY12', 'SAVRY13', 'SAVRY14', 'SAVRY16', 'SAVRY22', 'SAVRY23', 'SAVRY24', 'SAVRY37', 'SAVRY39', 'SAVRY29', 'DD01', 'DD10', 'DD11', 'VAST03', 'VAST05', 'VAST06', 'VAST13', 'VAST14', 'VAST15', 'VAST16', 'VAST20', 'PCLe07', 'PCLe10', 'PCLe11', 'PCLe16', 'PCLe18', 'PCLe19', 'PCLe20', 'PCLeFAC_4', 'PCLo05', 'PCLo11', 'PCLo16', 'PCLo18', 'PCLo19', 'PCLo20', 'PCLoFAC_3', 'PCLx01', 'PCLx05', 'PCLx06', 'PCLx13', 'PCLx16', 'PCLx18', 'PCLx19', 'PCLx20', 'PCLxFAC_1', 'PCLj04', 'PCLj09', 'PCLj18', 'PCLYVM02', 'PCLYVM05', 'PCLYVM18', 'PCLYVM19', 'CAPEe01', 'CAPEe03', 'CAPEe04', 'CAPEo03', 'CAPEo04', 'CAPEo201', 'CAPEo203', 'ICUT_UC', 'CCA_CN', 'CCA_VA', 'CCA_AG', 'SD3Narc', 'SAVRYSoc', 'ICUJ_CA', 'YPI_GR', 'YPI_LY', 'YPI_MA', 'YPI_UN', 'TRFMTotProb', 'TRFTDSMDepProbT', 'TRFTDSMDepProbCat', 'TRFTDSMODD', 'TRFTDSMODDT', 'TRFTDSMODDCat', 'TRFTDSMCDCat', 'TRFTDSMObsCom', 'TRFTDSMObsComT', 'TRFTDSMObsComCat', 'ICUJsp4Extrm', 'ICUJsp9ExtrmN', 'YPImssSpN', 'YPIreSpN', 'YPIcaSpN', 'YPIunSpN', 'TRFT_AP', 'TRFM_AD', 'TRFM_WD', 'TRFMGrupExtCAPEe', 'CAPEe_PT_2gr', 'RPQ_PA_50', 'RPQ_HIGH_PA_RA', 'EdatAD', 'Total_Del', 'Pri_Exp', 'Nom_Exp', 'Pri_Ing', 'Nom_Ing', 'Subsaharians', 'Llatins', 'Caucasics', 'Unio_Europea', 'Magreb', 'Resta_Africa', 'Centre_Sud_America', 'Pares_Catalans', 'Pare_Catala_Fora_Espanya', 'Pares_No_Catalans_Un_Espanya', 'Robatori', 'Robatori amb violència', 'Lesions', 'Homicidi', 'Delictes sexuals', 'Seguretat vial', 'Delictes patrimonials', 'Quebrantament de condemna', 'Administració de justícia', \"Seguretat de l'Estat\", 'Miscel·lània', 'Delictes molt violents']\n",
      "\n",
      "--- AVALUACIÓ FINAL EN TEST ---\n",
      "MSE (Test): 176490.6057\n"
     ]
    },
    {
     "data": {
      "image/png": "[encoded data removed]",
      "text/plain": [
       "<Figure size 640x480 with 1 Axes>"
      ]
     },
     "metadata": {},
     "output_type": "display_data"
    }
   ],
   "source": [
    "from sklearn.metrics import mean_squared_error, r2_score, mean_absolute_error\n",
    "\n",
    "clau = (100, 0.7, 0.3)\n",
    "columnes_seleccionades = resultats_enns[clau]\n",
    "columnes = df.iloc[:,columnes_seleccionades].columns.tolist()\n",
    "print(\"Les columnes seleccionades són:\", columnes)\n",
    "\n",
    "X_test = scaler.transform(X_test)\n",
    "X_test = pd.DataFrame(X_test, columns=df.drop(columns='temps_fins_reincidencia1a').columns)\n",
    "X_test_filtrat = X_test[columnes]\n",
    "\n",
    "\n",
    "y_test_pred = resultats_models[clau][\"best_model\"].predict(X_test_filtrat)\n",
    "\n",
    "\n",
    "# Calculem la mètrica MSE i R²\n",
    "test_mse = mean_squared_error(y_test, y_test_pred)\n",
    "\n",
    "print(\"\\n--- AVALUACIÓ FINAL EN TEST ---\")\n",
    "print(f\"MSE (Test): {test_mse:.4f}\")\n",
    "\n",
    "\n",
    "## plot de les prediccions\n",
    "plt.scatter(y_test, y_test_pred)\n",
    "plt.xlabel('Real')\n",
    "plt.ylabel('Predicció')\n",
    "plt.title('Predicció vs Real')\n",
    "plt.show()"
   ]
  },
  {
   "cell_type": "markdown",
   "metadata": {},
   "source": []
  }
 ],
 "metadata": {
  "kernelspec": {
   "display_name": ".venv",
   "language": "python",
   "name": "python3"
  },
  "language_info": {
   "codemirror_mode": {
    "name": "ipython",
    "version": 3
   },
   "file_extension": ".py",
   "mimetype": "text/x-python",
   "name": "python",
   "nbconvert_exporter": "python",
   "pygments_lexer": "ipython3",
   "version": "3.12.9"
  }
 },
 "nbformat": 4,
 "nbformat_minor": 2
}
