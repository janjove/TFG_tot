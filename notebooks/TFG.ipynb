{
 "cells": [
  {
   "cell_type": "code",
   "execution_count": 15,
   "metadata": {},
   "outputs": [],
   "source": [
    "\n",
    "import pandas as pd\n",
    "import pyreadstat\n",
    "import funcions_net\n",
    "import numpy as np\n",
    "from preprocessing import *\n",
    "from sklearn.model_selection import train_test_split\n",
    "from sklearn.linear_model import Lasso, Ridge\n",
    "from sklearn.metrics import mean_squared_error\n",
    "from sklearn.preprocessing import StandardScaler\n",
    "from sklearn.model_selection import GridSearchCV\n",
    "import matplotlib.pyplot as plt\n",
    "from sklearn.decomposition import PCA\n"
   ]
  },
  {
   "cell_type": "code",
   "execution_count": 16,
   "metadata": {},
   "outputs": [
    {
     "name": "stdout",
     "output_type": "stream",
     "text": [
      "Creem diccionari\n"
     ]
    }
   ],
   "source": [
    "\n",
    "df, meta = pyreadstat.read_sav(\"CEJFEAjut2015Updated.sav\")\n",
    "\n",
    "df_variables = pd.read_csv(\"variables.csv\", sep=';')\n",
    "\n",
    "dict = funcions_net.create_dict(meta)\n",
    "\n",
    "print(\"Creem diccionari\")\n"
   ]
  },
  {
   "cell_type": "code",
   "execution_count": 17,
   "metadata": {},
   "outputs": [],
   "source": [
    "from crear_dataset import drop_all_columns\n",
    "\n",
    "df = drop_all_columns(df, meta, df_variables, dict)\n"
   ]
  },
  {
   "cell_type": "code",
   "execution_count": 18,
   "metadata": {},
   "outputs": [
    {
     "name": "stdout",
     "output_type": "stream",
     "text": [
      "Mirem quants nans tenim a cada columna\n",
      "Columnes netejades\n"
     ]
    },
    {
     "name": "stderr",
     "output_type": "stream",
     "text": [
      "c:\\Users\\jjf20\\OneDrive\\Documents\\Universitat\\TFG\\preprocessing.py:73: FutureWarning: A value is trying to be set on a copy of a DataFrame or Series through chained assignment using an inplace method.\n",
      "The behavior will change in pandas 3.0. This inplace method will never work because the intermediate object on which we are setting values always behaves as a copy.\n",
      "\n",
      "For example, when doing 'df[col].method(value, inplace=True)', try using 'df.method({col: value}, inplace=True)' or df[col] = df[col].method(value) instead, to perform the operation inplace on the original object.\n",
      "\n",
      "\n",
      "  df_net[col].fillna(mitjana, inplace=True)\n",
      "c:\\Users\\jjf20\\OneDrive\\Documents\\Universitat\\TFG\\preprocessing.py:79: FutureWarning: A value is trying to be set on a copy of a DataFrame or Series through chained assignment using an inplace method.\n",
      "The behavior will change in pandas 3.0. This inplace method will never work because the intermediate object on which we are setting values always behaves as a copy.\n",
      "\n",
      "For example, when doing 'df[col].method(value, inplace=True)', try using 'df.method({col: value}, inplace=True)' or df[col] = df[col].method(value) instead, to perform the operation inplace on the original object.\n",
      "\n",
      "\n",
      "  df_net[col].fillna(moda, inplace=True)\n"
     ]
    }
   ],
   "source": [
    "print(\"Mirem quants nans tenim a cada columna\")\n",
    "netejat,df = neteja_na_columns(df, llindar=0.6)\n",
    "\n",
    "df = omple_nans(df)\n",
    "\n",
    "print(\"Columnes netejades\")\n",
    "## fem label encoding de les columnes categòriques\n",
    "df = label_encoding(df)\n"
   ]
  },
  {
   "cell_type": "code",
   "execution_count": 19,
   "metadata": {},
   "outputs": [
    {
     "name": "stdout",
     "output_type": "stream",
     "text": [
      "Hem netejat les columnes i hem fet label encoding\n",
      "Tenim  388  columnes\n"
     ]
    }
   ],
   "source": [
    "num_columnes = df.shape[1]\n",
    "print(\"Hem netejat les columnes i hem fet label encoding\")\n",
    "print(\"Tenim \", num_columnes, \" columnes\")"
   ]
  },
  {
   "cell_type": "code",
   "execution_count": 20,
   "metadata": {},
   "outputs": [
    {
     "name": "stdout",
     "output_type": "stream",
     "text": [
      "temps_fins_reincidencia1a       1.000000\n",
      "Reincidencia_Juvenil_preCAPE    0.676726\n",
      "EdatAD                          0.496726\n",
      "SAVRYSoc                        0.421711\n",
      "EdatD1mesuraInternament         0.392295\n",
      "Pri_Ing                         0.390301\n",
      "EdatT1mesuraInternament         0.386371\n",
      "Nom_Exp                         0.377859\n",
      "Total_Del                       0.367928\n",
      "PCLxFAC_3                       0.356534\n",
      "PCLjFAC_3                       0.355757\n",
      "t_internamentCape               0.354630\n",
      "SAVRYTot                        0.352350\n",
      "nombre_fets_previs              0.339233\n",
      "nDelictesViolents               0.335700\n",
      "Del_Condem                      0.335141\n",
      "fets_condemnat_preCAPE          0.324262\n",
      "CAPEe_PT                        0.318598\n",
      "SAVRYInd                        0.316342\n",
      "intensitat_delictiva_total      0.316124\n",
      "TRFMSocProbCat                  0.312838\n",
      "TRFT_AP                         0.308670\n",
      "YSRExtProbT                     0.308668\n",
      "PCLoFAC_3                       0.301422\n",
      "Pri_Exp                         0.290628\n",
      "Name: temps_fins_reincidencia1a, dtype: float64\n"
     ]
    }
   ],
   "source": [
    "## mirem la correlació de les columnes amb la variable objectiu\n",
    "\n",
    "correlacio = df.corr()\n",
    "\n",
    "correlacio = abs(correlacio['temps_fins_reincidencia1a'])\n",
    "\n",
    "correlacio = correlacio.sort_values(ascending=False)\n",
    "\n",
    "print(correlacio[0:25])"
   ]
  },
  {
   "cell_type": "code",
   "execution_count": 21,
   "metadata": {},
   "outputs": [
    {
     "name": "stdout",
     "output_type": "stream",
     "text": [
      "YSRTotProbT         0.289834\n",
      "YSRRulBeh           0.287305\n",
      "VASTDir_3gr         0.286211\n",
      "TempConeixTutor     0.284265\n",
      "YSRExtProb          0.272544\n",
      "TempConeixMestre    0.272478\n",
      "Edat1erDelicte      0.270832\n",
      "YSRDSMODD           0.270112\n",
      "YSRDSMCD            0.267642\n",
      "PCLeFAC_3           0.267302\n",
      "YSRDSMCDT           0.264010\n",
      "TRFMWithDepCat      0.263174\n",
      "YSRTotProbCat       0.254174\n",
      "TRFTExtProbCat      0.253546\n",
      "YSRTotProb          0.248039\n",
      "Name: temps_fins_reincidencia1a, dtype: float64\n"
     ]
    }
   ],
   "source": [
    "\n",
    "print(correlacio[25:40])"
   ]
  },
  {
   "cell_type": "code",
   "execution_count": 22,
   "metadata": {},
   "outputs": [],
   "source": [
    "X_train, X_test, y_train, y_test = train_test_split(df.drop(columns='temps_fins_reincidencia1a'), df['temps_fins_reincidencia1a'], test_size=0.2, random_state=42)\n"
   ]
  },
  {
   "cell_type": "code",
   "execution_count": 23,
   "metadata": {},
   "outputs": [],
   "source": [
    "## normalitzem les dades\n",
    "scaler = StandardScaler()\n",
    "X_train = scaler.fit_transform(X_train)\n",
    "\n"
   ]
  },
  {
   "cell_type": "code",
   "execution_count": 24,
   "metadata": {},
   "outputs": [],
   "source": [
    "## fem un pca\n",
    "from sklearn.decomposition import KernelPCA\n",
    "from sklearn.decomposition import PCA\n",
    "from sklearn.decomposition import SparsePCA\n",
    "\n",
    "pca = PCA(n_components=25)\n",
    "kpca = KernelPCA(n_components=25, kernel='linear', alpha=1.0)  # alpha actua com a paràmetre de regularització\n",
    "spca = SparsePCA(n_components=25, alpha=1.0)  # alpha actua com a paràmetre de regularització\n",
    "\n",
    "pca.fit(X_train)\n",
    "kpca.fit(X_train)\n",
    "spca.fit(X_train)\n",
    "\n",
    "X_train_pca = pca.transform(X_train)\n",
    "X_train_kpca = kpca.transform(X_train)\n",
    "X_train_spca = spca.transform(X_train)"
   ]
  },
  {
   "cell_type": "code",
   "execution_count": 25,
   "metadata": {},
   "outputs": [
    {
     "name": "stderr",
     "output_type": "stream",
     "text": [
      "c:\\Users\\jjf20\\OneDrive\\Documents\\Universitat\\TFG\\.venv\\Lib\\site-packages\\sklearn\\linear_model\\_coordinate_descent.py:695: ConvergenceWarning: Objective did not converge. You might want to increase the number of iterations, check the scale of the features or consider increasing regularisation. Duality gap: 2.291e+03, tolerance: 1.801e+03\n",
      "  model = cd_fast.enet_coordinate_descent(\n",
      "c:\\Users\\jjf20\\OneDrive\\Documents\\Universitat\\TFG\\.venv\\Lib\\site-packages\\sklearn\\linear_model\\_coordinate_descent.py:695: ConvergenceWarning: Objective did not converge. You might want to increase the number of iterations, check the scale of the features or consider increasing regularisation. Duality gap: 2.225e+03, tolerance: 1.835e+03\n",
      "  model = cd_fast.enet_coordinate_descent(\n",
      "c:\\Users\\jjf20\\OneDrive\\Documents\\Universitat\\TFG\\.venv\\Lib\\site-packages\\sklearn\\linear_model\\_coordinate_descent.py:695: ConvergenceWarning: Objective did not converge. You might want to increase the number of iterations, check the scale of the features or consider increasing regularisation. Duality gap: 2.360e+03, tolerance: 1.824e+03\n",
      "  model = cd_fast.enet_coordinate_descent(\n",
      "c:\\Users\\jjf20\\OneDrive\\Documents\\Universitat\\TFG\\.venv\\Lib\\site-packages\\sklearn\\linear_model\\_coordinate_descent.py:695: ConvergenceWarning: Objective did not converge. You might want to increase the number of iterations, check the scale of the features or consider increasing regularisation. Duality gap: 1.900e+03, tolerance: 1.348e+03\n",
      "  model = cd_fast.enet_coordinate_descent(\n",
      "c:\\Users\\jjf20\\OneDrive\\Documents\\Universitat\\TFG\\.venv\\Lib\\site-packages\\sklearn\\linear_model\\_coordinate_descent.py:695: ConvergenceWarning: Objective did not converge. You might want to increase the number of iterations, check the scale of the features or consider increasing regularisation. Duality gap: 2.284e+03, tolerance: 1.820e+03\n",
      "  model = cd_fast.enet_coordinate_descent(\n",
      "c:\\Users\\jjf20\\OneDrive\\Documents\\Universitat\\TFG\\.venv\\Lib\\site-packages\\sklearn\\linear_model\\_coordinate_descent.py:695: ConvergenceWarning: Objective did not converge. You might want to increase the number of iterations, check the scale of the features or consider increasing regularisation. Duality gap: 2.394e+03, tolerance: 1.844e+03\n",
      "  model = cd_fast.enet_coordinate_descent(\n",
      "c:\\Users\\jjf20\\OneDrive\\Documents\\Universitat\\TFG\\.venv\\Lib\\site-packages\\sklearn\\linear_model\\_coordinate_descent.py:695: ConvergenceWarning: Objective did not converge. You might want to increase the number of iterations, check the scale of the features or consider increasing regularisation. Duality gap: 2.190e+03, tolerance: 1.805e+03\n",
      "  model = cd_fast.enet_coordinate_descent(\n",
      "c:\\Users\\jjf20\\OneDrive\\Documents\\Universitat\\TFG\\.venv\\Lib\\site-packages\\sklearn\\linear_model\\_coordinate_descent.py:695: ConvergenceWarning: Objective did not converge. You might want to increase the number of iterations, check the scale of the features or consider increasing regularisation. Duality gap: 2.370e+03, tolerance: 1.819e+03\n",
      "  model = cd_fast.enet_coordinate_descent(\n",
      "c:\\Users\\jjf20\\OneDrive\\Documents\\Universitat\\TFG\\.venv\\Lib\\site-packages\\sklearn\\linear_model\\_coordinate_descent.py:695: ConvergenceWarning: Objective did not converge. You might want to increase the number of iterations, check the scale of the features or consider increasing regularisation. Duality gap: 1.386e+03, tolerance: 7.728e+02\n",
      "  model = cd_fast.enet_coordinate_descent(\n",
      "c:\\Users\\jjf20\\OneDrive\\Documents\\Universitat\\TFG\\.venv\\Lib\\site-packages\\sklearn\\linear_model\\_coordinate_descent.py:695: ConvergenceWarning: Objective did not converge. You might want to increase the number of iterations, check the scale of the features or consider increasing regularisation. Duality gap: 2.201e+03, tolerance: 1.837e+03\n",
      "  model = cd_fast.enet_coordinate_descent(\n",
      "c:\\Users\\jjf20\\OneDrive\\Documents\\Universitat\\TFG\\.venv\\Lib\\site-packages\\sklearn\\linear_model\\_coordinate_descent.py:695: ConvergenceWarning: Objective did not converge. You might want to increase the number of iterations, check the scale of the features or consider increasing regularisation. Duality gap: 8.513e+03, tolerance: 1.801e+03\n",
      "  model = cd_fast.enet_coordinate_descent(\n",
      "c:\\Users\\jjf20\\OneDrive\\Documents\\Universitat\\TFG\\.venv\\Lib\\site-packages\\sklearn\\linear_model\\_coordinate_descent.py:695: ConvergenceWarning: Objective did not converge. You might want to increase the number of iterations, check the scale of the features or consider increasing regularisation. Duality gap: 9.206e+03, tolerance: 1.835e+03\n",
      "  model = cd_fast.enet_coordinate_descent(\n",
      "c:\\Users\\jjf20\\OneDrive\\Documents\\Universitat\\TFG\\.venv\\Lib\\site-packages\\sklearn\\linear_model\\_coordinate_descent.py:695: ConvergenceWarning: Objective did not converge. You might want to increase the number of iterations, check the scale of the features or consider increasing regularisation. Duality gap: 9.581e+03, tolerance: 1.824e+03\n",
      "  model = cd_fast.enet_coordinate_descent(\n",
      "c:\\Users\\jjf20\\OneDrive\\Documents\\Universitat\\TFG\\.venv\\Lib\\site-packages\\sklearn\\linear_model\\_coordinate_descent.py:695: ConvergenceWarning: Objective did not converge. You might want to increase the number of iterations, check the scale of the features or consider increasing regularisation. Duality gap: 6.307e+03, tolerance: 1.348e+03\n",
      "  model = cd_fast.enet_coordinate_descent(\n",
      "c:\\Users\\jjf20\\OneDrive\\Documents\\Universitat\\TFG\\.venv\\Lib\\site-packages\\sklearn\\linear_model\\_coordinate_descent.py:695: ConvergenceWarning: Objective did not converge. You might want to increase the number of iterations, check the scale of the features or consider increasing regularisation. Duality gap: 8.249e+03, tolerance: 1.820e+03\n",
      "  model = cd_fast.enet_coordinate_descent(\n",
      "c:\\Users\\jjf20\\OneDrive\\Documents\\Universitat\\TFG\\.venv\\Lib\\site-packages\\sklearn\\linear_model\\_coordinate_descent.py:695: ConvergenceWarning: Objective did not converge. You might want to increase the number of iterations, check the scale of the features or consider increasing regularisation. Duality gap: 8.624e+03, tolerance: 1.844e+03\n",
      "  model = cd_fast.enet_coordinate_descent(\n",
      "c:\\Users\\jjf20\\OneDrive\\Documents\\Universitat\\TFG\\.venv\\Lib\\site-packages\\sklearn\\linear_model\\_coordinate_descent.py:695: ConvergenceWarning: Objective did not converge. You might want to increase the number of iterations, check the scale of the features or consider increasing regularisation. Duality gap: 8.503e+03, tolerance: 1.805e+03\n",
      "  model = cd_fast.enet_coordinate_descent(\n",
      "c:\\Users\\jjf20\\OneDrive\\Documents\\Universitat\\TFG\\.venv\\Lib\\site-packages\\sklearn\\linear_model\\_coordinate_descent.py:695: ConvergenceWarning: Objective did not converge. You might want to increase the number of iterations, check the scale of the features or consider increasing regularisation. Duality gap: 6.531e+03, tolerance: 1.819e+03\n",
      "  model = cd_fast.enet_coordinate_descent(\n",
      "c:\\Users\\jjf20\\OneDrive\\Documents\\Universitat\\TFG\\.venv\\Lib\\site-packages\\sklearn\\linear_model\\_coordinate_descent.py:695: ConvergenceWarning: Objective did not converge. You might want to increase the number of iterations, check the scale of the features or consider increasing regularisation. Duality gap: 3.625e+03, tolerance: 7.728e+02\n",
      "  model = cd_fast.enet_coordinate_descent(\n",
      "c:\\Users\\jjf20\\OneDrive\\Documents\\Universitat\\TFG\\.venv\\Lib\\site-packages\\sklearn\\linear_model\\_coordinate_descent.py:695: ConvergenceWarning: Objective did not converge. You might want to increase the number of iterations, check the scale of the features or consider increasing regularisation. Duality gap: 9.649e+03, tolerance: 1.837e+03\n",
      "  model = cd_fast.enet_coordinate_descent(\n",
      "c:\\Users\\jjf20\\OneDrive\\Documents\\Universitat\\TFG\\.venv\\Lib\\site-packages\\sklearn\\linear_model\\_coordinate_descent.py:695: ConvergenceWarning: Objective did not converge. You might want to increase the number of iterations, check the scale of the features or consider increasing regularisation. Duality gap: 2.330e+03, tolerance: 1.801e+03\n",
      "  model = cd_fast.enet_coordinate_descent(\n",
      "c:\\Users\\jjf20\\OneDrive\\Documents\\Universitat\\TFG\\.venv\\Lib\\site-packages\\sklearn\\linear_model\\_coordinate_descent.py:695: ConvergenceWarning: Objective did not converge. You might want to increase the number of iterations, check the scale of the features or consider increasing regularisation. Duality gap: 3.824e+03, tolerance: 1.835e+03\n",
      "  model = cd_fast.enet_coordinate_descent(\n",
      "c:\\Users\\jjf20\\OneDrive\\Documents\\Universitat\\TFG\\.venv\\Lib\\site-packages\\sklearn\\linear_model\\_coordinate_descent.py:695: ConvergenceWarning: Objective did not converge. You might want to increase the number of iterations, check the scale of the features or consider increasing regularisation. Duality gap: 3.591e+03, tolerance: 1.824e+03\n",
      "  model = cd_fast.enet_coordinate_descent(\n",
      "c:\\Users\\jjf20\\OneDrive\\Documents\\Universitat\\TFG\\.venv\\Lib\\site-packages\\sklearn\\linear_model\\_coordinate_descent.py:695: ConvergenceWarning: Objective did not converge. You might want to increase the number of iterations, check the scale of the features or consider increasing regularisation. Duality gap: 8.509e+03, tolerance: 1.820e+03\n",
      "  model = cd_fast.enet_coordinate_descent(\n",
      "c:\\Users\\jjf20\\OneDrive\\Documents\\Universitat\\TFG\\.venv\\Lib\\site-packages\\sklearn\\linear_model\\_coordinate_descent.py:695: ConvergenceWarning: Objective did not converge. You might want to increase the number of iterations, check the scale of the features or consider increasing regularisation. Duality gap: 4.950e+03, tolerance: 1.844e+03\n",
      "  model = cd_fast.enet_coordinate_descent(\n",
      "c:\\Users\\jjf20\\OneDrive\\Documents\\Universitat\\TFG\\.venv\\Lib\\site-packages\\sklearn\\linear_model\\_coordinate_descent.py:695: ConvergenceWarning: Objective did not converge. You might want to increase the number of iterations, check the scale of the features or consider increasing regularisation. Duality gap: 4.429e+03, tolerance: 1.805e+03\n",
      "  model = cd_fast.enet_coordinate_descent(\n",
      "c:\\Users\\jjf20\\OneDrive\\Documents\\Universitat\\TFG\\.venv\\Lib\\site-packages\\sklearn\\linear_model\\_coordinate_descent.py:695: ConvergenceWarning: Objective did not converge. You might want to increase the number of iterations, check the scale of the features or consider increasing regularisation. Duality gap: 1.854e+03, tolerance: 7.728e+02\n",
      "  model = cd_fast.enet_coordinate_descent(\n",
      "c:\\Users\\jjf20\\OneDrive\\Documents\\Universitat\\TFG\\.venv\\Lib\\site-packages\\sklearn\\linear_model\\_coordinate_descent.py:695: ConvergenceWarning: Objective did not converge. You might want to increase the number of iterations, check the scale of the features or consider increasing regularisation. Duality gap: 2.646e+03, tolerance: 1.837e+03\n",
      "  model = cd_fast.enet_coordinate_descent(\n",
      "c:\\Users\\jjf20\\OneDrive\\Documents\\Universitat\\TFG\\.venv\\Lib\\site-packages\\sklearn\\linear_model\\_coordinate_descent.py:695: ConvergenceWarning: Objective did not converge. You might want to increase the number of iterations, check the scale of the features or consider increasing regularisation. Duality gap: 9.864e+03, tolerance: 1.861e+03\n",
      "  model = cd_fast.enet_coordinate_descent(\n"
     ]
    },
    {
     "name": "stdout",
     "output_type": "stream",
     "text": [
      "Resultat sense pca\n",
      "{'alpha': 0.1}\n",
      "Resultat pca\n",
      "{'alpha': 100}\n",
      "Resultat kpca\n",
      "{'alpha': 100}\n",
      "Resultat spca\n",
      "{'alpha': 1000}\n",
      "Resultat sense pca\n",
      "[-501580.9611399  -317683.20054068 -363574.37234282 -350929.57175125\n",
      " -395746.89190761 -366224.50595311 -366224.50595311]\n",
      "Resultat pca\n",
      "[-498225.59391993 -497748.68024702 -493038.54376023 -453005.13045922\n",
      " -351315.51186798 -369648.66836511 -366224.50595311]\n",
      "Resultat Kpca\n",
      "[-498225.59391993 -497748.68024702 -493038.54376022 -453005.13045921\n",
      " -351315.51186798 -369648.66836511 -366224.50595311]\n",
      "Resultat spca\n",
      "[-368050.75818981 -368039.67717095 -368000.66430442 -370679.16394415\n",
      " -384077.05255812 -366224.50595311 -366224.50595311]\n"
     ]
    }
   ],
   "source": [
    "param_grid = {\n",
    "    'alpha': [\n",
    "        0.01, 0.1, 1, 10, 100, 1000, 10000\n",
    "    ]\n",
    "}\n",
    "lasso = Lasso()\n",
    "\n",
    "grid_search = GridSearchCV(lasso, param_grid, cv=10, scoring='neg_mean_squared_error', return_train_score=True)\n",
    "grid_search_pca = GridSearchCV(lasso, param_grid, cv=10, scoring='neg_mean_squared_error', return_train_score=True)\n",
    "grid_search_kpca = GridSearchCV(lasso, param_grid, cv=10, scoring='neg_mean_squared_error', return_train_score=True)\n",
    "grid_search_spca = GridSearchCV(lasso, param_grid, cv=10, scoring='neg_mean_squared_error', return_train_score=True)\n",
    "\n",
    "grid_search.fit(X_train, y_train)\n",
    "grid_search_pca.fit(X_train_pca, y_train)\n",
    "grid_search_kpca.fit(X_train_kpca, y_train)\n",
    "grid_search_spca.fit(X_train_spca, y_train)\n",
    "\n",
    "print(\"Resultat sense pca\")\n",
    "print(grid_search.best_params_)\n",
    "print(\"Resultat pca\")\n",
    "print(grid_search_pca.best_params_)\n",
    "print(\"Resultat kpca\")\n",
    "print(grid_search_kpca.best_params_)\n",
    "print(\"Resultat spca\")\n",
    "print(grid_search_spca.best_params_)\n",
    "\n",
    "## \n",
    "print(\"Resultat sense pca\")\n",
    "print(grid_search.cv_results_['mean_test_score'])\n",
    "print(\"Resultat pca\")\n",
    "print(grid_search_pca.cv_results_['mean_test_score'])\n",
    "print(\"Resultat Kpca\")\n",
    "print(grid_search_kpca.cv_results_['mean_test_score'])\n",
    "print(\"Resultat spca\")\n",
    "print(grid_search_spca.cv_results_['mean_test_score'])\n",
    "\n"
   ]
  },
  {
   "cell_type": "code",
   "execution_count": 26,
   "metadata": {},
   "outputs": [
    {
     "name": "stdout",
     "output_type": "stream",
     "text": [
      "Millor paràmetre: {'max_depth': 20, 'n_estimators': 500}\n",
      "Millor precisió: 350217.4489926267\n",
      "Mitjana dels resultats de test per cada combinació:\n",
      "[382438.68134    353675.1708156  352771.60356302 374185.78287067\n",
      " 363524.743051   350217.44899263 366723.85545733 350883.3581145\n",
      " 369963.13912864]\n"
     ]
    }
   ],
   "source": [
    "from sklearn.ensemble import RandomForestRegressor\n",
    "\n",
    "# Definim el param_grid\n",
    "param_grid = {\n",
    "    'max_depth': [15,20,25],\n",
    "    'n_estimators': [100,200,500]\n",
    "}\n",
    "\n",
    "# Definim el model de Random Forest\n",
    "rf = RandomForestRegressor()\n",
    "\n",
    "# Configurem el GridSearchCV\n",
    "grid_search = GridSearchCV(\n",
    "    rf, \n",
    "    param_grid, \n",
    "    cv=10, \n",
    "    scoring='neg_mean_squared_error', \n",
    "    return_train_score=True\n",
    ")\n",
    "\n",
    "# Realitzem el Grid Search\n",
    "grid_search.fit(X_train, y_train)\n",
    "\n",
    "# Resultats\n",
    "print(\"Millor paràmetre:\", grid_search.best_params_)\n",
    "print(\"Millor precisió:\", -grid_search.best_score_)  # Negatiu perquè s'ha usat neg_mean_squared_error\n",
    "\n",
    "# Mostrem la mitjana dels resultats de test\n",
    "print(\"Mitjana dels resultats de test per cada combinació:\")\n",
    "print(grid_search.cv_results_['mean_test_score'] * -1)  # Multipliquem per -1 per obtenir el MSE positiu\n"
   ]
  },
  {
   "cell_type": "code",
   "execution_count": 27,
   "metadata": {},
   "outputs": [
    {
     "name": "stdout",
     "output_type": "stream",
     "text": [
      "[382438.68134    353675.1708156  352771.60356302 374185.78287067\n",
      " 363524.743051   350217.44899263 366723.85545733 350883.3581145\n",
      " 369963.13912864]\n"
     ]
    }
   ],
   "source": [
    "print(grid_search.cv_results_['mean_test_score'] * -1)  # Multipliquem per -1 per obtenir el MSE positiu\n"
   ]
  },
  {
   "cell_type": "code",
   "execution_count": 28,
   "metadata": {},
   "outputs": [
    {
     "name": "stdout",
     "output_type": "stream",
     "text": [
      "Millor valor d'alpha: 1000\n",
      "Coeficients: [-173.79225059 -104.12369089  -34.0783664 ]\n",
      "MSE: 540835.5319875504\n"
     ]
    },
    {
     "data": {
      "text/plain": [
       "<matplotlib.collections.PathCollection at 0x1d5ac561310>"
      ]
     },
     "execution_count": 28,
     "metadata": {},
     "output_type": "execute_result"
    },
    {
     "data": {
      "image/png": "[encoded data removed]",
      "text/plain": [
       "<Figure size 640x480 with 1 Axes>"
      ]
     },
     "metadata": {},
     "output_type": "display_data"
    }
   ],
   "source": [
    "## Provem de fer una regressió de Lasso\n",
    "\n",
    "## Fem reg\n",
    "param_grid = {\n",
    "    'alpha': [1, 100,1000]\n",
    "}\n",
    "\n",
    "# Crea el model Lasso\n",
    "lasso = Lasso()\n",
    "# Aplica GridSearchCV per trobar el millor alpha\n",
    "grid_search = GridSearchCV(lasso, param_grid, cv=10)\n",
    "grid_search.fit(X_train_pca, y_train)\n",
    "\n",
    "millor_alpha = grid_search.best_params_['alpha']\n",
    "# Mostra el millor valor d'alpha\n",
    "print(\"Millor valor d'alpha:\", millor_alpha)\n",
    "print(\"Coeficients:\", grid_search.cv_results_['mean_test_score'])\n",
    "\n",
    "lasso = Lasso(alpha=millor_alpha, max_iter=100000)\n",
    "lasso.fit(X_train_pca, y_train)\n",
    "\n",
    "X_test = scaler.transform(X_test)\n",
    "X_test_pca = pca.transform(X_test)\n",
    "\n",
    "y_pred = lasso.predict(X_test_pca)\n",
    "\n",
    "print(\"MSE:\", mean_squared_error(y_test, y_pred))\n",
    "\n",
    "plt.scatter(y_test, y_pred)"
   ]
  }
 ],
 "metadata": {
  "kernelspec": {
   "display_name": ".venv",
   "language": "python",
   "name": "python3"
  },
  "language_info": {
   "codemirror_mode": {
    "name": "ipython",
    "version": 3
   },
   "file_extension": ".py",
   "mimetype": "text/x-python",
   "name": "python",
   "nbconvert_exporter": "python",
   "pygments_lexer": "ipython3",
   "version": "3.12.9"
  }
 },
 "nbformat": 4,
 "nbformat_minor": 2
}
